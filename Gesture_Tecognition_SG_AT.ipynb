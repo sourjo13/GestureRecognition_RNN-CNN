{
 "cells": [
  {
   "cell_type": "markdown",
   "metadata": {},
   "source": [
    "# Gesture Recognition\n",
    "In this group project, you are going to build a 3D Conv model that will be able to predict the 5 gestures correctly. Please import the following libraries to get started."
   ]
  },
  {
   "cell_type": "code",
   "execution_count": 12,
   "metadata": {},
   "outputs": [],
   "source": [
    "import numpy as np\n",
    "import os\n",
    "import imageio\n",
    "from imageio import imread\n",
    "from skimage.transform import resize as imresize\n",
    "#from scipy.misc import imread, imresize\n",
    "import datetime\n",
    "import os\n",
    "import warnings\n",
    "warnings.filterwarnings(\"ignore\")\n",
    "import abc\n",
    "from sys import getsizeof"
   ]
  },
  {
   "cell_type": "markdown",
   "metadata": {},
   "source": [
    "We set the random seed so that the results don't vary drastically."
   ]
  },
  {
   "cell_type": "code",
   "execution_count": 13,
   "metadata": {},
   "outputs": [],
   "source": [
    "np.random.seed(30)\n",
    "import random as rn\n",
    "rn.seed(30)\n",
    "from keras import backend as K\n",
    "import tensorflow as tf\n",
    "#tf.random.set_seed(30)\n",
    "tf.set_random_seed(30)"
   ]
  },
  {
   "cell_type": "code",
   "execution_count": 14,
   "metadata": {},
   "outputs": [],
   "source": [
    "import cv2\n",
    "import matplotlib.pyplot as plt\n",
    "%matplotlib inline"
   ]
  },
  {
   "cell_type": "markdown",
   "metadata": {},
   "source": [
    "In this block, you read the folder names for training and validation. You also set the `batch_size` here. Note that you set the batch size in such a way that you are able to use the GPU in full capacity. You keep increasing the batch size until the machine throws an error."
   ]
  },
  {
   "cell_type": "code",
   "execution_count": 15,
   "metadata": {},
   "outputs": [],
   "source": [
    "from tensorflow.keras.models import Sequential, Model\n",
    "from tensorflow.keras.layers import Dense, GRU, Flatten, TimeDistributed, Flatten, BatchNormalization, Activation\n",
    "from tensorflow.keras.layers import Conv3D, MaxPooling3D, Conv2D, MaxPooling2D\n",
    "from tensorflow.keras.layers import LSTM\n",
    "from tensorflow.keras.callbacks import ModelCheckpoint, ReduceLROnPlateau\n",
    "from tensorflow.keras import optimizers\n",
    "from tensorflow.keras.layers import Dropout"
   ]
  },
  {
   "cell_type": "code",
   "execution_count": 16,
   "metadata": {},
   "outputs": [],
   "source": [
    "project_folder='Project_data'"
   ]
  },
  {
   "cell_type": "markdown",
   "metadata": {},
   "source": [
    "##### Plotting"
   ]
  },
  {
   "cell_type": "code",
   "execution_count": 17,
   "metadata": {},
   "outputs": [],
   "source": [
    "def plot(history):\n",
    "    fig, axes = plt.subplots(nrows=1, ncols=2, figsize=(15,4))\n",
    "    axes[0].plot(history.history['loss'])   \n",
    "    axes[0].plot(history.history['val_loss'])\n",
    "    axes[0].legend(['loss','val_loss'])\n",
    "\n",
    "    axes[1].plot(history.history['categorical_accuracy'])   \n",
    "    axes[1].plot(history.history['val_categorical_accuracy'])\n",
    "    axes[1].legend(['categorical_accuracy','val_categorical_accuracy'])"
   ]
  },
  {
   "cell_type": "markdown",
   "metadata": {},
   "source": [
    "## Generator\n",
    "This is one of the most important part of the code. The overall structure of the generator has been given. In the generator, you are going to preprocess the images as you have images of 2 different dimensions as well as create a batch of video frames. You have to experiment with `img_idx`, `y`,`z` and normalization such that you get high accuracy."
   ]
  },
  {
   "cell_type": "code",
   "execution_count": 18,
   "metadata": {},
   "outputs": [],
   "source": [
    "class ModelBuilder(metaclass= abc.ABCMeta):\n",
    "    \n",
    "    def initialize_path(self,project_folder):\n",
    "        self.train_doc = np.random.permutation(open(project_folder + '/' + 'train.csv').readlines())\n",
    "        self.val_doc = np.random.permutation(open(project_folder + '/' + 'val.csv').readlines())\n",
    "        self.train_path = project_folder + '/' + 'train'\n",
    "        self.val_path =  project_folder + '/' + 'val'\n",
    "        self.num_train_sequences = len(self.train_doc)\n",
    "        self.num_val_sequences = len(self.val_doc)\n",
    "        \n",
    "    def initialize_image_properties(self,image_height=100,image_width=100):\n",
    "        self.image_height=image_height\n",
    "        self.image_width=image_width\n",
    "        self.channels=3\n",
    "        self.num_classes=5\n",
    "        self.total_frames=30\n",
    "          \n",
    "    def initialize_hyperparams(self,frames_to_sample=30,batch_size=20,num_epochs=20):\n",
    "        self.frames_to_sample=frames_to_sample\n",
    "        self.batch_size=batch_size\n",
    "        self.num_epochs=num_epochs\n",
    "        \n",
    "        \n",
    "    def generator(self,source_path, folder_list, augment=False):\n",
    "        img_idx = np.round(np.linspace(0,self.total_frames-1,self.frames_to_sample)).astype(int)\n",
    "        batch_size=self.batch_size\n",
    "        while True:\n",
    "            t = np.random.permutation(folder_list)\n",
    "            num_batches = len(t)//batch_size\n",
    "        \n",
    "            for batch in range(num_batches): \n",
    "                batch_data, batch_labels= self.one_batch_data(source_path,t,batch,batch_size,img_idx,augment)\n",
    "                yield batch_data, batch_labels \n",
    "\n",
    "            remaining_seq=len(t)%batch_size\n",
    "        \n",
    "            if (remaining_seq != 0):\n",
    "                batch_data, batch_labels= self.one_batch_data(source_path,t,num_batches,batch_size,img_idx,augment,remaining_seq)\n",
    "                yield batch_data, batch_labels \n",
    "    \n",
    "    \n",
    "    def one_batch_data(self,source_path,t,batch,batch_size,img_idx,augment,remaining_seq=0):\n",
    "    \n",
    "        seq_len = remaining_seq if remaining_seq else batch_size\n",
    "    \n",
    "        batch_data = np.zeros((seq_len,len(img_idx),self.image_height,self.image_width,self.channels)) \n",
    "        batch_labels = np.zeros((seq_len,self.num_classes)) \n",
    "    \n",
    "        if (augment): batch_data_aug = np.zeros((seq_len,len(img_idx),self.image_height,self.image_width,self.channels))\n",
    "\n",
    "        \n",
    "        for folder in range(seq_len): \n",
    "            imgs = os.listdir(source_path+'/'+ t[folder + (batch*batch_size)].split(';')[0]) \n",
    "            for idx,item in enumerate(img_idx): \n",
    "                image = imread(source_path+'/'+ t[folder + (batch*batch_size)].strip().split(';')[0]+'/'+imgs[item]).astype(np.float32)\n",
    "                image_resized=imresize(image,(self.image_height,self.image_width,3))\n",
    "            \n",
    "\n",
    "                batch_data[folder,idx,:,:,0] = (image_resized[:,:,0])/255\n",
    "                batch_data[folder,idx,:,:,1] = (image_resized[:,:,1])/255\n",
    "                batch_data[folder,idx,:,:,2] = (image_resized[:,:,2])/255\n",
    "            \n",
    "                if (augment):\n",
    "                    shifted = cv2.warpAffine(image, \n",
    "                                             np.float32([[1, 0, np.random.randint(-30,30)],[0, 1, np.random.randint(-30,30)]]), \n",
    "                                            (image.shape[1], image.shape[0]))\n",
    "                    \n",
    "                    gray = cv2.cvtColor(shifted,cv2.COLOR_BGR2GRAY)\n",
    "\n",
    "                    x0, y0 = np.argwhere(gray > 0).min(axis=0)\n",
    "                    x1, y1 = np.argwhere(gray > 0).max(axis=0) \n",
    "                    \n",
    "                    cropped=shifted[x0:x1,y0:y1,:]\n",
    "                    \n",
    "                    image_resized=imresize(cropped,(self.image_height,self.image_width,3))\n",
    "                    \n",
    "                    batch_data_aug[folder,idx,:,:,0] = (image_resized[:,:,0])/255\n",
    "                    batch_data_aug[folder,idx,:,:,1] = (image_resized[:,:,1])/255\n",
    "                    batch_data_aug[folder,idx,:,:,2] = (image_resized[:,:,2])/255\n",
    "                \n",
    "            \n",
    "            batch_labels[folder, int(t[folder + (batch*batch_size)].strip().split(';')[2])] = 1\n",
    "            \n",
    "    \n",
    "        if (augment):\n",
    "            batch_data=np.concatenate([batch_data,batch_data_aug])\n",
    "            batch_labels=np.concatenate([batch_labels,batch_labels])\n",
    "\n",
    "        \n",
    "        return(batch_data,batch_labels)\n",
    "    \n",
    "    \n",
    "    def train_model(self, model, augment_data=False):\n",
    "        train_generator = self.generator(self.train_path, self.train_doc,augment=augment_data)\n",
    "        val_generator = self.generator(self.val_path, self.val_doc)\n",
    "\n",
    "        model_name = 'model_init' + '_' + str(datetime.datetime.now()).replace(' ','').replace(':','_') + '/'\n",
    "    \n",
    "        if not os.path.exists(model_name):\n",
    "            os.mkdir(model_name)\n",
    "        \n",
    "        filepath = model_name + 'model-{epoch:05d}-{loss:.5f}-{categorical_accuracy:.5f}-{val_loss:.5f}-{val_categorical_accuracy:.5f}.h5'\n",
    "\n",
    "        checkpoint = ModelCheckpoint(filepath, monitor='val_loss', verbose=1, save_best_only=False, save_weights_only=False, mode='auto', period=1)\n",
    "        LR = ReduceLROnPlateau(monitor='val_loss', factor=0.2, verbose=1, patience=4)\n",
    "        callbacks_list = [checkpoint, LR]\n",
    "\n",
    "        if (self.num_train_sequences%self.batch_size) == 0:\n",
    "            steps_per_epoch = int(self.num_train_sequences/self.batch_size)\n",
    "        else:\n",
    "            steps_per_epoch = (self.num_train_sequences//self.batch_size) + 1\n",
    "\n",
    "        if (self.num_val_sequences%self.batch_size) == 0:\n",
    "            validation_steps = int(self.num_val_sequences/self.batch_size)\n",
    "        else:\n",
    "            validation_steps = (self.num_val_sequences//self.batch_size) + 1\n",
    "    \n",
    "        history=model.fit_generator(train_generator, steps_per_epoch=steps_per_epoch, epochs=self.num_epochs, verbose=1, \n",
    "                            callbacks=callbacks_list, validation_data=val_generator, \n",
    "                            validation_steps=validation_steps, class_weight=None, workers=1, initial_epoch=0)\n",
    "        return history\n",
    "\n",
    "        \n",
    "    @abc.abstractmethod\n",
    "    def define_model(self):\n",
    "        pass"
   ]
  },
  {
   "cell_type": "markdown",
   "metadata": {},
   "source": [
    "## Model\n",
    "Here you make the model using different functionalities that Keras provides. Remember to use `Conv3D` and `MaxPooling3D` and not `Conv2D` and `Maxpooling2D` for a 3D convolution model. You would want to use `TimeDistributed` while building a Conv2D + RNN model. Also remember that the last layer is the softmax. Design the network in such a way that the model is able to give good accuracy on the least number of parameters so that it can fit in the memory of the webcam."
   ]
  },
  {
   "cell_type": "markdown",
   "metadata": {},
   "source": [
    "## Sample Model"
   ]
  },
  {
   "cell_type": "code",
   "execution_count": 19,
   "metadata": {},
   "outputs": [],
   "source": [
    "class ModelConv3D1(ModelBuilder):\n",
    "    \n",
    "    def define_model(self):\n",
    "\n",
    "        model = Sequential()\n",
    "        model.add(Conv3D(16, (3, 3, 3), padding='same',\n",
    "                 input_shape=(self.frames_to_sample,self.image_height,self.image_width,self.channels)))\n",
    "        model.add(Activation('relu'))\n",
    "        model.add(BatchNormalization())\n",
    "        model.add(MaxPooling3D(pool_size=(2, 2, 2)))\n",
    "\n",
    "        model.add(Conv3D(32, (2, 2, 2), padding='same'))\n",
    "        model.add(Activation('relu'))\n",
    "        model.add(BatchNormalization())\n",
    "        model.add(MaxPooling3D(pool_size=(2, 2, 2)))\n",
    "\n",
    "        model.add(Conv3D(64, (2, 2, 2), padding='same'))\n",
    "        model.add(Activation('relu'))\n",
    "        model.add(BatchNormalization())\n",
    "        model.add(MaxPooling3D(pool_size=(2, 2, 2)))\n",
    "\n",
    "        model.add(Conv3D(128, (2, 2, 2), padding='same'))\n",
    "        model.add(Activation('relu'))\n",
    "        model.add(BatchNormalization())\n",
    "        model.add(MaxPooling3D(pool_size=(2, 2, 2)))\n",
    "\n",
    "        model.add(Flatten())\n",
    "        model.add(Dense(128,activation='relu'))\n",
    "        model.add(BatchNormalization())\n",
    "        model.add(Dropout(0.5))\n",
    "\n",
    "        model.add(Dense(64,activation='relu'))\n",
    "        model.add(BatchNormalization())\n",
    "        model.add(Dropout(0.25))\n",
    "\n",
    "\n",
    "        model.add(Dense(self.num_classes,activation='softmax'))\n",
    "\n",
    "        optimiser = optimizers.Adam()\n",
    "        model.compile(optimizer=optimiser, loss='categorical_crossentropy', metrics=['categorical_accuracy'])\n",
    "        return model"
   ]
  },
  {
   "cell_type": "code",
   "execution_count": 20,
   "metadata": {
    "scrolled": true
   },
   "outputs": [
    {
     "name": "stdout",
     "output_type": "stream",
     "text": [
      "_________________________________________________________________\n",
      "Layer (type)                 Output Shape              Param #   \n",
      "=================================================================\n",
      "conv3d_8 (Conv3D)            (None, 30, 160, 160, 16)  1312      \n",
      "_________________________________________________________________\n",
      "activation_8 (Activation)    (None, 30, 160, 160, 16)  0         \n",
      "_________________________________________________________________\n",
      "batch_normalization_12 (Batc (None, 30, 160, 160, 16)  64        \n",
      "_________________________________________________________________\n",
      "max_pooling3d_8 (MaxPooling3 (None, 15, 80, 80, 16)    0         \n",
      "_________________________________________________________________\n",
      "conv3d_9 (Conv3D)            (None, 15, 80, 80, 32)    4128      \n",
      "_________________________________________________________________\n",
      "activation_9 (Activation)    (None, 15, 80, 80, 32)    0         \n",
      "_________________________________________________________________\n",
      "batch_normalization_13 (Batc (None, 15, 80, 80, 32)    128       \n",
      "_________________________________________________________________\n",
      "max_pooling3d_9 (MaxPooling3 (None, 7, 40, 40, 32)     0         \n",
      "_________________________________________________________________\n",
      "conv3d_10 (Conv3D)           (None, 7, 40, 40, 64)     16448     \n",
      "_________________________________________________________________\n",
      "activation_10 (Activation)   (None, 7, 40, 40, 64)     0         \n",
      "_________________________________________________________________\n",
      "batch_normalization_14 (Batc (None, 7, 40, 40, 64)     256       \n",
      "_________________________________________________________________\n",
      "max_pooling3d_10 (MaxPooling (None, 3, 20, 20, 64)     0         \n",
      "_________________________________________________________________\n",
      "conv3d_11 (Conv3D)           (None, 3, 20, 20, 128)    65664     \n",
      "_________________________________________________________________\n",
      "activation_11 (Activation)   (None, 3, 20, 20, 128)    0         \n",
      "_________________________________________________________________\n",
      "batch_normalization_15 (Batc (None, 3, 20, 20, 128)    512       \n",
      "_________________________________________________________________\n",
      "max_pooling3d_11 (MaxPooling (None, 1, 10, 10, 128)    0         \n",
      "_________________________________________________________________\n",
      "flatten_2 (Flatten)          (None, 12800)             0         \n",
      "_________________________________________________________________\n",
      "dense_6 (Dense)              (None, 128)               1638528   \n",
      "_________________________________________________________________\n",
      "batch_normalization_16 (Batc (None, 128)               512       \n",
      "_________________________________________________________________\n",
      "dropout_4 (Dropout)          (None, 128)               0         \n",
      "_________________________________________________________________\n",
      "dense_7 (Dense)              (None, 64)                8256      \n",
      "_________________________________________________________________\n",
      "batch_normalization_17 (Batc (None, 64)                256       \n",
      "_________________________________________________________________\n",
      "dropout_5 (Dropout)          (None, 64)                0         \n",
      "_________________________________________________________________\n",
      "dense_8 (Dense)              (None, 5)                 325       \n",
      "=================================================================\n",
      "Total params: 1,736,389\n",
      "Trainable params: 1,735,525\n",
      "Non-trainable params: 864\n",
      "_________________________________________________________________\n"
     ]
    }
   ],
   "source": [
    "conv_3d1=ModelConv3D1()\n",
    "conv_3d1.initialize_path(project_folder)\n",
    "conv_3d1.initialize_image_properties(image_height=160,image_width=160)\n",
    "conv_3d1.initialize_hyperparams(frames_to_sample=30,batch_size=40,num_epochs=1)\n",
    "conv_3d1_model=conv_3d1.define_model()\n",
    "conv_3d1_model.summary()"
   ]
  },
  {
   "cell_type": "markdown",
   "metadata": {},
   "source": [
    "##### Sample Cropping"
   ]
  },
  {
   "cell_type": "markdown",
   "metadata": {},
   "source": [
    "## Experimenting with Image resolution, number of frames to use and batchsize"
   ]
  },
  {
   "cell_type": "code",
   "execution_count": 21,
   "metadata": {},
   "outputs": [
    {
     "name": "stdout",
     "output_type": "stream",
     "text": [
      "Memory util is 3.662109524011612 Gigs\n"
     ]
    }
   ],
   "source": [
    "print(\"Memory util is {} Gigs\". format(getsizeof(np.zeros((40,16,30,160,160)))/(1024*1024*1024)))"
   ]
  },
  {
   "cell_type": "markdown",
   "metadata": {
    "collapsed": true
   },
   "source": [
    "##### Below are the experiments to see how training time is affected by image resolution, number of images in sequence and batch size"
   ]
  },
  {
   "cell_type": "code",
   "execution_count": 58,
   "metadata": {},
   "outputs": [
    {
     "name": "stdout",
     "output_type": "stream",
     "text": [
      "Total Params: 687813\n",
      "WARNING:tensorflow:`period` argument is deprecated. Please use `save_freq` to specify the frequency in number of batches seen.\n",
      "WARNING:tensorflow:From <ipython-input-54-32e9695137fe>:118: Model.fit_generator (from tensorflow.python.keras.engine.training) is deprecated and will be removed in a future version.\n",
      "Instructions for updating:\n",
      "Please use Model.fit, which supports generators.\n",
      "Epoch 1/2\n",
      "23/23 [==============================] - ETA: 0s - loss: 1.6721 - categorical_accuracy: 0.4057 \n",
      "Epoch 00001: saving model to model_init_2020-12-2717_22_22.908573\\model-00001-1.67206-0.40573-2.47648-0.16000.h5\n",
      "23/23 [==============================] - 497s 22s/step - loss: 1.6721 - categorical_accuracy: 0.4057 - val_loss: 2.4765 - val_categorical_accuracy: 0.1600\n",
      "Epoch 2/2\n",
      "23/23 [==============================] - ETA: 0s - loss: 1.0124 - categorical_accuracy: 0.6063 \n",
      "Epoch 00002: saving model to model_init_2020-12-2717_22_22.908573\\model-00002-1.01240-0.60633-5.02390-0.16000.h5\n",
      "23/23 [==============================] - 484s 21s/step - loss: 1.0124 - categorical_accuracy: 0.6063 - val_loss: 5.0239 - val_categorical_accuracy: 0.1600\n"
     ]
    },
    {
     "data": {
      "text/plain": [
       "<tensorflow.python.keras.callbacks.History at 0x23cae5d2be0>"
      ]
     },
     "execution_count": 58,
     "metadata": {},
     "output_type": "execute_result"
    }
   ],
   "source": [
    "conv_3d1=ModelConv3D1()\n",
    "conv_3d1.initialize_path(project_folder)\n",
    "conv_3d1.initialize_image_properties(image_height=100,image_width=100)\n",
    "conv_3d1.initialize_hyperparams(frames_to_sample=30,batch_size=30,num_epochs=2)\n",
    "conv_3d1_model=conv_3d1.define_model()\n",
    "print(\"Total Params:\", conv_3d1_model.count_params())\n",
    "conv_3d1.train_model(conv_3d1_model)"
   ]
  },
  {
   "cell_type": "code",
   "execution_count": 59,
   "metadata": {},
   "outputs": [
    {
     "name": "stdout",
     "output_type": "stream",
     "text": [
      "Total Params: 687813\n",
      "WARNING:tensorflow:`period` argument is deprecated. Please use `save_freq` to specify the frequency in number of batches seen.\n",
      "Epoch 1/2\n",
      "12/12 [==============================] - ETA: 0s - loss: 1.6544 - categorical_accuracy: 0.4057 \n",
      "Epoch 00001: saving model to model_init_2020-12-2717_39_50.865525\\model-00001-1.65439-0.40573-1.77989-0.16000.h5\n",
      "12/12 [==============================] - 256s 21s/step - loss: 1.6544 - categorical_accuracy: 0.4057 - val_loss: 1.7799 - val_categorical_accuracy: 0.1600\n",
      "Epoch 2/2\n",
      "12/12 [==============================] - ETA: 0s - loss: 1.0963 - categorical_accuracy: 0.5686 \n",
      "Epoch 00002: saving model to model_init_2020-12-2717_39_50.865525\\model-00002-1.09629-0.56863-2.54668-0.16000.h5\n",
      "12/12 [==============================] - 255s 21s/step - loss: 1.0963 - categorical_accuracy: 0.5686 - val_loss: 2.5467 - val_categorical_accuracy: 0.1600\n"
     ]
    },
    {
     "data": {
      "text/plain": [
       "<tensorflow.python.keras.callbacks.History at 0x23cbf6df0a0>"
      ]
     },
     "execution_count": 59,
     "metadata": {},
     "output_type": "execute_result"
    }
   ],
   "source": [
    "conv_3d1=ModelConv3D1()\n",
    "conv_3d1.initialize_path(project_folder)\n",
    "conv_3d1.initialize_image_properties(image_height=100,image_width=100)\n",
    "conv_3d1.initialize_hyperparams(frames_to_sample=16,batch_size=60,num_epochs=2)\n",
    "conv_3d1_model=conv_3d1.define_model()\n",
    "print(\"Total Params:\", conv_3d1_model.count_params())\n",
    "conv_3d1.train_model(conv_3d1_model)"
   ]
  },
  {
   "cell_type": "code",
   "execution_count": 60,
   "metadata": {},
   "outputs": [
    {
     "name": "stdout",
     "output_type": "stream",
     "text": [
      "Total Params: 1736389\n",
      "WARNING:tensorflow:`period` argument is deprecated. Please use `save_freq` to specify the frequency in number of batches seen.\n",
      "Epoch 1/2\n",
      "45/45 [==============================] - ETA: 0s - loss: 1.6198 - categorical_accuracy: 0.4253 \n",
      "Epoch 00001: saving model to model_init_2020-12-2717_49_29.816868\\model-00001-1.61976-0.42534-7.03640-0.21000.h5\n",
      "45/45 [==============================] - 1270s 28s/step - loss: 1.6198 - categorical_accuracy: 0.4253 - val_loss: 7.0364 - val_categorical_accuracy: 0.2100\n",
      "Epoch 2/2\n",
      "45/45 [==============================] - ETA: 0s - loss: 1.0007 - categorical_accuracy: 0.6440 \n",
      "Epoch 00002: saving model to model_init_2020-12-2717_49_29.816868\\model-00002-1.00067-0.64404-9.74501-0.18000.h5\n",
      "45/45 [==============================] - 1259s 28s/step - loss: 1.0007 - categorical_accuracy: 0.6440 - val_loss: 9.7450 - val_categorical_accuracy: 0.1800\n"
     ]
    },
    {
     "data": {
      "text/plain": [
       "<tensorflow.python.keras.callbacks.History at 0x23cc2a45130>"
      ]
     },
     "execution_count": 60,
     "metadata": {},
     "output_type": "execute_result"
    }
   ],
   "source": [
    "conv_3d1=ModelConv3D1()\n",
    "conv_3d1.initialize_path(project_folder)\n",
    "conv_3d1.initialize_image_properties(image_height=160,image_width=160)\n",
    "conv_3d1.initialize_hyperparams(frames_to_sample=30,batch_size=15,num_epochs=2)\n",
    "conv_3d1_model=conv_3d1.define_model()\n",
    "print(\"Total Params:\", conv_3d1_model.count_params())\n",
    "conv_3d1.train_model(conv_3d1_model)"
   ]
  },
  {
   "cell_type": "code",
   "execution_count": 61,
   "metadata": {},
   "outputs": [
    {
     "name": "stdout",
     "output_type": "stream",
     "text": [
      "Total Params: 1736389\n",
      "WARNING:tensorflow:`period` argument is deprecated. Please use `save_freq` to specify the frequency in number of batches seen.\n",
      "Epoch 1/2\n",
      "45/45 [==============================] - ETA: 0s - loss: 1.4509 - categorical_accuracy: 0.4434 \n",
      "Epoch 00001: saving model to model_init_2020-12-2718_32_52.811347\\model-00001-1.45087-0.44344-2.75097-0.16000.h5\n",
      "45/45 [==============================] - 656s 15s/step - loss: 1.4509 - categorical_accuracy: 0.4434 - val_loss: 2.7510 - val_categorical_accuracy: 0.1600\n",
      "Epoch 2/2\n",
      "45/45 [==============================] - ETA: 0s - loss: 0.8700 - categorical_accuracy: 0.6576 \n",
      "Epoch 00002: saving model to model_init_2020-12-2718_32_52.811347\\model-00002-0.87002-0.65762-5.12635-0.15000.h5\n",
      "45/45 [==============================] - 660s 15s/step - loss: 0.8700 - categorical_accuracy: 0.6576 - val_loss: 5.1263 - val_categorical_accuracy: 0.1500\n"
     ]
    },
    {
     "data": {
      "text/plain": [
       "<tensorflow.python.keras.callbacks.History at 0x23cc3965160>"
      ]
     },
     "execution_count": 61,
     "metadata": {},
     "output_type": "execute_result"
    }
   ],
   "source": [
    "conv_3d1=ModelConv3D1()\n",
    "conv_3d1.initialize_path(project_folder)\n",
    "conv_3d1.initialize_image_properties(image_height=160,image_width=160)\n",
    "conv_3d1.initialize_hyperparams(frames_to_sample=16,batch_size=15,num_epochs=2)\n",
    "conv_3d1_model=conv_3d1.define_model()\n",
    "print(\"Total Params:\", conv_3d1_model.count_params())\n",
    "conv_3d1.train_model(conv_3d1_model)"
   ]
  },
  {
   "cell_type": "code",
   "execution_count": 62,
   "metadata": {},
   "outputs": [
    {
     "name": "stdout",
     "output_type": "stream",
     "text": [
      "Total Params: 687813\n",
      "WARNING:tensorflow:`period` argument is deprecated. Please use `save_freq` to specify the frequency in number of batches seen.\n",
      "Epoch 1/2\n",
      "45/45 [==============================] - ETA: 0s - loss: 1.5479 - categorical_accuracy: 0.4178\n",
      "Epoch 00001: saving model to model_init_2020-12-2718_55_27.042545\\model-00001-1.54791-0.41780-3.52242-0.16000.h5\n",
      "45/45 [==============================] - 271s 6s/step - loss: 1.5479 - categorical_accuracy: 0.4178 - val_loss: 3.5224 - val_categorical_accuracy: 0.1600\n",
      "Epoch 2/2\n",
      "45/45 [==============================] - ETA: 0s - loss: 1.0768 - categorical_accuracy: 0.5852\n",
      "Epoch 00002: saving model to model_init_2020-12-2718_55_27.042545\\model-00002-1.07681-0.58522-3.91496-0.14000.h5\n",
      "45/45 [==============================] - 286s 6s/step - loss: 1.0768 - categorical_accuracy: 0.5852 - val_loss: 3.9150 - val_categorical_accuracy: 0.1400\n"
     ]
    },
    {
     "data": {
      "text/plain": [
       "<tensorflow.python.keras.callbacks.History at 0x23cc7baa490>"
      ]
     },
     "execution_count": 62,
     "metadata": {},
     "output_type": "execute_result"
    }
   ],
   "source": [
    "conv_3d1=ModelConv3D1()\n",
    "conv_3d1.initialize_path(project_folder)\n",
    "conv_3d1.initialize_image_properties(image_height=100,image_width=100)\n",
    "conv_3d1.initialize_hyperparams(frames_to_sample=16,batch_size=15,num_epochs=2)\n",
    "conv_3d1_model=conv_3d1.define_model()\n",
    "print(\"Total Params:\", conv_3d1_model.count_params())\n",
    "conv_3d1.train_model(conv_3d1_model)"
   ]
  },
  {
   "cell_type": "code",
   "execution_count": 63,
   "metadata": {},
   "outputs": [
    {
     "name": "stdout",
     "output_type": "stream",
     "text": [
      "Total Params: 687813\n",
      "WARNING:tensorflow:`period` argument is deprecated. Please use `save_freq` to specify the frequency in number of batches seen.\n",
      "Epoch 1/2\n",
      "67/67 [==============================] - ETA: 0s - loss: 1.5461 - categorical_accuracy: 0.4072\n",
      "Epoch 00001: saving model to model_init_2020-12-2719_05_00.742629\\model-00001-1.54612-0.40724-7.62300-0.22000.h5\n",
      "67/67 [==============================] - 540s 8s/step - loss: 1.5461 - categorical_accuracy: 0.4072 - val_loss: 7.6230 - val_categorical_accuracy: 0.2200\n",
      "Epoch 2/2\n",
      "67/67 [==============================] - ETA: 0s - loss: 1.1737 - categorical_accuracy: 0.5505\n",
      "Epoch 00002: saving model to model_init_2020-12-2719_05_00.742629\\model-00002-1.17370-0.55053-11.92631-0.22000.h5\n",
      "67/67 [==============================] - 521s 8s/step - loss: 1.1737 - categorical_accuracy: 0.5505 - val_loss: 11.9263 - val_categorical_accuracy: 0.2200\n"
     ]
    },
    {
     "data": {
      "text/plain": [
       "<tensorflow.python.keras.callbacks.History at 0x23cd09d1130>"
      ]
     },
     "execution_count": 63,
     "metadata": {},
     "output_type": "execute_result"
    }
   ],
   "source": [
    "conv_3d1=ModelConv3D1()\n",
    "conv_3d1.initialize_path(project_folder)\n",
    "conv_3d1.initialize_image_properties(image_height=100,image_width=100)\n",
    "conv_3d1.initialize_hyperparams(frames_to_sample=30,batch_size=10,num_epochs=2)\n",
    "conv_3d1_model=conv_3d1.define_model()\n",
    "print(\"Total Params:\", conv_3d1_model.count_params())\n",
    "conv_3d1.train_model(conv_3d1_model)"
   ]
  },
  {
   "cell_type": "code",
   "execution_count": 64,
   "metadata": {},
   "outputs": [
    {
     "name": "stdout",
     "output_type": "stream",
     "text": [
      "Total Params: 1736389\n",
      "WARNING:tensorflow:`period` argument is deprecated. Please use `save_freq` to specify the frequency in number of batches seen.\n",
      "Epoch 1/2\n",
      "67/67 [==============================] - ETA: 0s - loss: 1.3966 - categorical_accuracy: 0.4781 \n",
      "Epoch 00001: saving model to model_init_2020-12-2719_23_04.098061\\model-00001-1.39660-0.47813-3.10225-0.16000.h5\n",
      "67/67 [==============================] - 694s 10s/step - loss: 1.3966 - categorical_accuracy: 0.4781 - val_loss: 3.1023 - val_categorical_accuracy: 0.1600\n",
      "Epoch 2/2\n",
      "67/67 [==============================] - ETA: 0s - loss: 1.1212 - categorical_accuracy: 0.5913 \n",
      "Epoch 00002: saving model to model_init_2020-12-2719_23_04.098061\\model-00002-1.12116-0.59125-10.80035-0.17000.h5\n",
      "67/67 [==============================] - 691s 10s/step - loss: 1.1212 - categorical_accuracy: 0.5913 - val_loss: 10.8003 - val_categorical_accuracy: 0.1700\n"
     ]
    },
    {
     "data": {
      "text/plain": [
       "<tensorflow.python.keras.callbacks.History at 0x23ce0b43820>"
      ]
     },
     "execution_count": 64,
     "metadata": {},
     "output_type": "execute_result"
    }
   ],
   "source": [
    "conv_3d1=ModelConv3D1()\n",
    "conv_3d1.initialize_path(project_folder)\n",
    "conv_3d1.initialize_image_properties(image_height=160,image_width=160)\n",
    "conv_3d1.initialize_hyperparams(frames_to_sample=16,batch_size=10,num_epochs=2)\n",
    "conv_3d1_model=conv_3d1.define_model()\n",
    "print(\"Total Params:\", conv_3d1_model.count_params())\n",
    "conv_3d1.train_model(conv_3d1_model)"
   ]
  },
  {
   "cell_type": "code",
   "execution_count": 12,
   "metadata": {},
   "outputs": [
    {
     "name": "stdout",
     "output_type": "stream",
     "text": [
      "Total Params: 1736389\n",
      "WARNING:tensorflow:`period` argument is deprecated. Please use `save_freq` to specify the frequency in number of batches seen.\n",
      "WARNING:tensorflow:From <ipython-input-8-32e9695137fe>:118: Model.fit_generator (from tensorflow.python.keras.engine.training) is deprecated and will be removed in a future version.\n",
      "Instructions for updating:\n",
      "Please use Model.fit, which supports generators.\n",
      "Epoch 1/2\n",
      "17/17 [==============================] - ETA: 0s - loss: 1.5234 - categorical_accuracy: 0.4329 \n",
      "Epoch 00001: saving model to model_init_2020-12-2719_52_20.221570\\model-00001-1.52337-0.43288-2.32933-0.16000.h5\n",
      "17/17 [==============================] - 955s 56s/step - loss: 1.5234 - categorical_accuracy: 0.4329 - val_loss: 2.3293 - val_categorical_accuracy: 0.1600\n",
      "Epoch 2/2\n",
      "17/17 [==============================] - ETA: 0s - loss: 0.8527 - categorical_accuracy: 0.6682 \n",
      "Epoch 00002: saving model to model_init_2020-12-2719_52_20.221570\\model-00002-0.85273-0.66817-3.58990-0.18000.h5\n",
      "17/17 [==============================] - 901s 53s/step - loss: 0.8527 - categorical_accuracy: 0.6682 - val_loss: 3.5899 - val_categorical_accuracy: 0.1800\n"
     ]
    },
    {
     "data": {
      "text/plain": [
       "<tensorflow.python.keras.callbacks.History at 0x21d9d999070>"
      ]
     },
     "execution_count": 12,
     "metadata": {},
     "output_type": "execute_result"
    }
   ],
   "source": [
    "conv_3d1=ModelConv3D1()\n",
    "conv_3d1.initialize_path(project_folder)\n",
    "conv_3d1.initialize_image_properties(image_height=160,image_width=160)\n",
    "conv_3d1.initialize_hyperparams(frames_to_sample=16,batch_size=40,num_epochs=2)\n",
    "conv_3d1_model=conv_3d1.define_model()\n",
    "print(\"Total Params:\", conv_3d1_model.count_params())\n",
    "conv_3d1.train_model(conv_3d1_model)"
   ]
  },
  {
   "cell_type": "markdown",
   "metadata": {},
   "source": [
    "##### From the above experiments, we find that image resolution & no. of frames in sequence have more impact on training time than batch_size"
   ]
  },
  {
   "cell_type": "markdown",
   "metadata": {
    "collapsed": true
   },
   "source": [
    "##### So, we are experimenting with batch size 15-40 and changing the resolution and number of image per sequence based on memory constraints."
   ]
  },
  {
   "cell_type": "markdown",
   "metadata": {},
   "source": [
    "# Model 1 \n",
    "\n",
    "Base Model / No Data Augmentation Batch Size 40, Epoch 15"
   ]
  },
  {
   "cell_type": "code",
   "execution_count": 11,
   "metadata": {},
   "outputs": [],
   "source": [
    "class ModelConv3D1(ModelBuilder):\n",
    "    \n",
    "    def define_model(self,filtersize=(3,3,3),dense_neurons=64,dropout=0.25):\n",
    "\n",
    "        model = Sequential()\n",
    "        model.add(Conv3D(16, filtersize, padding='same',\n",
    "                 input_shape=(self.frames_to_sample,self.image_height,self.image_width,self.channels)))\n",
    "        model.add(Activation('relu'))\n",
    "        model.add(BatchNormalization())\n",
    "        model.add(MaxPooling3D(pool_size=(2, 2, 2)))\n",
    "\n",
    "        model.add(Conv3D(32, filtersize, padding='same'))\n",
    "        model.add(Activation('relu'))\n",
    "        model.add(BatchNormalization())\n",
    "        model.add(MaxPooling3D(pool_size=(2, 2, 2)))\n",
    "\n",
    "        model.add(Conv3D(64, filtersize, padding='same'))\n",
    "        model.add(Activation('relu'))\n",
    "        model.add(BatchNormalization())\n",
    "        model.add(MaxPooling3D(pool_size=(2, 2, 2)))\n",
    "\n",
    "        model.add(Conv3D(128, filtersize, padding='same'))\n",
    "        model.add(Activation('relu'))\n",
    "        model.add(BatchNormalization())\n",
    "        model.add(MaxPooling3D(pool_size=(2, 2, 2)))\n",
    "\n",
    "        model.add(Flatten())\n",
    "        model.add(Dense(dense_neurons,activation='relu'))\n",
    "        model.add(BatchNormalization())\n",
    "        model.add(Dropout(dropout))\n",
    "\n",
    "        model.add(Dense(dense_neurons,activation='relu'))\n",
    "        model.add(BatchNormalization())\n",
    "        model.add(Dropout(dropout))\n",
    "\n",
    "\n",
    "        model.add(Dense(self.num_classes,activation='softmax'))\n",
    "\n",
    "        optimiser = optimizers.Adam()\n",
    "        model.compile(optimizer=optimiser, loss='categorical_crossentropy', metrics=['categorical_accuracy'])\n",
    "        return model"
   ]
  },
  {
   "cell_type": "code",
   "execution_count": 12,
   "metadata": {
    "scrolled": true
   },
   "outputs": [
    {
     "name": "stdout",
     "output_type": "stream",
     "text": [
      "Model: \"sequential_1\"\n",
      "_________________________________________________________________\n",
      "Layer (type)                 Output Shape              Param #   \n",
      "=================================================================\n",
      "conv3d_4 (Conv3D)            (None, 20, 160, 160, 16)  1312      \n",
      "_________________________________________________________________\n",
      "activation_4 (Activation)    (None, 20, 160, 160, 16)  0         \n",
      "_________________________________________________________________\n",
      "batch_normalization_6 (Batch (None, 20, 160, 160, 16)  64        \n",
      "_________________________________________________________________\n",
      "max_pooling3d_4 (MaxPooling3 (None, 10, 80, 80, 16)    0         \n",
      "_________________________________________________________________\n",
      "conv3d_5 (Conv3D)            (None, 10, 80, 80, 32)    13856     \n",
      "_________________________________________________________________\n",
      "activation_5 (Activation)    (None, 10, 80, 80, 32)    0         \n",
      "_________________________________________________________________\n",
      "batch_normalization_7 (Batch (None, 10, 80, 80, 32)    128       \n",
      "_________________________________________________________________\n",
      "max_pooling3d_5 (MaxPooling3 (None, 5, 40, 40, 32)     0         \n",
      "_________________________________________________________________\n",
      "conv3d_6 (Conv3D)            (None, 5, 40, 40, 64)     55360     \n",
      "_________________________________________________________________\n",
      "activation_6 (Activation)    (None, 5, 40, 40, 64)     0         \n",
      "_________________________________________________________________\n",
      "batch_normalization_8 (Batch (None, 5, 40, 40, 64)     256       \n",
      "_________________________________________________________________\n",
      "max_pooling3d_6 (MaxPooling3 (None, 2, 20, 20, 64)     0         \n",
      "_________________________________________________________________\n",
      "conv3d_7 (Conv3D)            (None, 2, 20, 20, 128)    221312    \n",
      "_________________________________________________________________\n",
      "activation_7 (Activation)    (None, 2, 20, 20, 128)    0         \n",
      "_________________________________________________________________\n",
      "batch_normalization_9 (Batch (None, 2, 20, 20, 128)    512       \n",
      "_________________________________________________________________\n",
      "max_pooling3d_7 (MaxPooling3 (None, 1, 10, 10, 128)    0         \n",
      "_________________________________________________________________\n",
      "flatten_1 (Flatten)          (None, 12800)             0         \n",
      "_________________________________________________________________\n",
      "dense_3 (Dense)              (None, 64)                819264    \n",
      "_________________________________________________________________\n",
      "batch_normalization_10 (Batc (None, 64)                256       \n",
      "_________________________________________________________________\n",
      "dropout_2 (Dropout)          (None, 64)                0         \n",
      "_________________________________________________________________\n",
      "dense_4 (Dense)              (None, 64)                4160      \n",
      "_________________________________________________________________\n",
      "batch_normalization_11 (Batc (None, 64)                256       \n",
      "_________________________________________________________________\n",
      "dropout_3 (Dropout)          (None, 64)                0         \n",
      "_________________________________________________________________\n",
      "dense_5 (Dense)              (None, 5)                 325       \n",
      "=================================================================\n",
      "Total params: 1,117,061\n",
      "Trainable params: 1,116,325\n",
      "Non-trainable params: 736\n",
      "_________________________________________________________________\n"
     ]
    }
   ],
   "source": [
    "conv_3d1=ModelConv3D1()\n",
    "conv_3d1.initialize_path(project_folder)\n",
    "conv_3d1.initialize_image_properties(image_height=160,image_width=160)\n",
    "conv_3d1.initialize_hyperparams(frames_to_sample=20,batch_size=40,num_epochs=15)\n",
    "conv_3d1_model=conv_3d1.define_model()\n",
    "conv_3d1_model.summary()"
   ]
  },
  {
   "cell_type": "code",
   "execution_count": null,
   "metadata": {
    "scrolled": true
   },
   "outputs": [
    {
     "name": "stdout",
     "output_type": "stream",
     "text": [
      "Total Params: 1117061\n",
      "WARNING:tensorflow:`period` argument is deprecated. Please use `save_freq` to specify the frequency in number of batches seen.\n",
      "WARNING:tensorflow:From <ipython-input-7-32e9695137fe>:118: Model.fit_generator (from tensorflow.python.keras.engine.training) is deprecated and will be removed in a future version.\n",
      "Instructions for updating:\n",
      "Please use Model.fit, which supports generators.\n",
      "Epoch 1/15\n",
      "17/17 [==============================] - ETA: 0s - loss: 1.4484 - categorical_accuracy: 0.4555  \n",
      "Epoch 00001: saving model to model_init_2020-12-2722_24_46.782891\\model-00001-1.44844-0.45551-1.58578-0.25000.h5\n",
      "17/17 [==============================] - 1715s 101s/step - loss: 1.4484 - categorical_accuracy: 0.4555 - val_loss: 1.5858 - val_categorical_accuracy: 0.2500\n",
      "Epoch 2/15\n",
      "17/17 [==============================] - ETA: 0s - loss: 0.8714 - categorical_accuracy: 0.6350  \n",
      "Epoch 00002: saving model to model_init_2020-12-2722_24_46.782891\\model-00002-0.87136-0.63499-2.24478-0.23000.h5\n",
      "17/17 [==============================] - 1563s 92s/step - loss: 0.8714 - categorical_accuracy: 0.6350 - val_loss: 2.2448 - val_categorical_accuracy: 0.2300\n",
      "Epoch 3/15\n",
      " 9/17 [==============>...............] - ETA: 14:43 - loss: 0.5773 - categorical_accuracy: 0.7639"
     ]
    }
   ],
   "source": [
    "print(\"Total Params:\", conv_3d1_model.count_params())\n",
    "history_model1 = conv_3d1.train_model(conv_3d1_model)"
   ]
  },
  {
   "cell_type": "code",
   "execution_count": null,
   "metadata": {},
   "outputs": [],
   "source": [
    "plot(history_model1)"
   ]
  },
  {
   "cell_type": "markdown",
   "metadata": {},
   "source": [
    "We need to do data augmentation as it is visible that the model is over fitting."
   ]
  },
  {
   "cell_type": "markdown",
   "metadata": {},
   "source": [
    "# Model 2\n",
    "Augment Data, (3,3,3) filter & 160x160 image resolution"
   ]
  },
  {
   "cell_type": "code",
   "execution_count": null,
   "metadata": {
    "scrolled": true
   },
   "outputs": [],
   "source": [
    "conv_3d2=ModelConv3D1()\n",
    "conv_3d2.initialize_path(project_folder)\n",
    "conv_3d2.initialize_image_properties(image_height=160,image_width=160)\n",
    "conv_3d2.initialize_hyperparams(frames_to_sample=20,batch_size=20,num_epochs=25)\n",
    "conv_3d2_model=conv_3d2.define_model(dense_neurons=256,dropout=0.5)\n",
    "conv_3d2_model.summary()"
   ]
  },
  {
   "cell_type": "code",
   "execution_count": null,
   "metadata": {},
   "outputs": [],
   "source": [
    "print(\"Total Params:\", conv_3d2_model.count_params())\n",
    "history_model2=conv_3d2.train_model(conv_3d2_model,augment_data=True)"
   ]
  },
  {
   "cell_type": "code",
   "execution_count": null,
   "metadata": {},
   "outputs": [],
   "source": [
    "plot(history_model2)"
   ]
  },
  {
   "cell_type": "markdown",
   "metadata": {},
   "source": [
    "This model is not overfitting, we are seeing a best validation accuracy of 85% and training accuracy of 91%."
   ]
  },
  {
   "cell_type": "markdown",
   "metadata": {},
   "source": [
    "# Model 3\n",
    "Reducing filter size to (2,2,2) and image resolution to 120 x  120"
   ]
  },
  {
   "cell_type": "code",
   "execution_count": null,
   "metadata": {},
   "outputs": [],
   "source": [
    "class ModelConv3D3(ModelBuilder):\n",
    "    \n",
    "    def define_model(self,filtersize=(3,3,3),dense_neurons=64,dropout=0.25):\n",
    "\n",
    "        model = Sequential()\n",
    "        model.add(Conv3D(16, filtersize, padding='same',\n",
    "                 input_shape=(self.frames_to_sample,self.image_height,self.image_width,self.channels)))\n",
    "        model.add(Activation('relu'))\n",
    "        model.add(BatchNormalization())\n",
    "        model.add(MaxPooling3D(pool_size=(2, 2, 2)))\n",
    "\n",
    "        model.add(Conv3D(32, filtersize, padding='same'))\n",
    "        model.add(Activation('relu'))\n",
    "        model.add(BatchNormalization())\n",
    "        model.add(MaxPooling3D(pool_size=(2, 2, 2)))\n",
    "\n",
    "        model.add(Conv3D(64, filtersize, padding='same'))\n",
    "        model.add(Activation('relu'))\n",
    "        model.add(BatchNormalization())\n",
    "        model.add(MaxPooling3D(pool_size=(2, 2, 2)))\n",
    "\n",
    "        model.add(Conv3D(128, filtersize, padding='same'))\n",
    "        model.add(Activation('relu'))\n",
    "        model.add(BatchNormalization())\n",
    "        model.add(MaxPooling3D(pool_size=(2, 2, 2)))\n",
    "\n",
    "        model.add(Flatten())\n",
    "        model.add(Dense(dense_neurons,activation='relu'))\n",
    "        model.add(BatchNormalization())\n",
    "        model.add(Dropout(dropout))\n",
    "\n",
    "        model.add(Dense(dense_neurons,activation='relu'))\n",
    "        model.add(BatchNormalization())\n",
    "        model.add(Dropout(dropout))\n",
    "\n",
    "\n",
    "        model.add(Dense(self.num_classes,activation='softmax'))\n",
    "\n",
    "        optimiser = optimizers.Adam(lr=0.0002)\n",
    "        model.compile(optimizer=optimiser, loss='categorical_crossentropy', metrics=['categorical_accuracy'])\n",
    "        return model"
   ]
  },
  {
   "cell_type": "code",
   "execution_count": null,
   "metadata": {
    "scrolled": true
   },
   "outputs": [],
   "source": [
    "conv_3d3=ModelConv3D3()\n",
    "conv_3d3.initialize_path(project_folder)\n",
    "conv_3d3.initialize_image_properties(image_height=120,image_width=120)\n",
    "conv_3d3.initialize_hyperparams(frames_to_sample=16,batch_size=30,num_epochs=30)\n",
    "conv_3d3_model=conv_3d3.define_model(filtersize=(2,2,2),dense_neurons=256,dropout=0.5)\n",
    "conv_3d3_model.summary()"
   ]
  },
  {
   "cell_type": "code",
   "execution_count": null,
   "metadata": {},
   "outputs": [],
   "source": [
    "print(\"Total Params:\", conv_3d3_model.count_params())\n",
    "history_model3=conv_3d3.train_model(conv_3d3_model,augment_data=True)"
   ]
  },
  {
   "cell_type": "code",
   "execution_count": null,
   "metadata": {},
   "outputs": [],
   "source": [
    "plot(history_model3)"
   ]
  },
  {
   "cell_type": "markdown",
   "metadata": {},
   "source": [
    "Model has a best validation accuracy of 84% and training accuracy of 84%.\n",
    "Also we were able to reduce the parameter size by half the earlier model.\n",
    "Let's add more layers"
   ]
  },
  {
   "cell_type": "markdown",
   "metadata": {},
   "source": [
    "# Model 4\n",
    "Adding more layers"
   ]
  },
  {
   "cell_type": "code",
   "execution_count": 12,
   "metadata": {},
   "outputs": [],
   "source": [
    "class ModelConv3D4(ModelBuilder):\n",
    "    \n",
    "    def define_model(self,filtersize=(3,3,3),dense_neurons=64,dropout=0.25):\n",
    "\n",
    "        model = Sequential()\n",
    "        model.add(Conv3D(16, filtersize, padding='same',\n",
    "                 input_shape=(self.frames_to_sample,self.image_height,self.image_width,self.channels)))\n",
    "        model.add(Activation('relu'))\n",
    "        model.add(BatchNormalization())\n",
    "        \n",
    "        model.add(Conv3D(16, filtersize, padding='same',\n",
    "                 input_shape=(self.frames_to_sample,self.image_height,self.image_width,self.channels)))\n",
    "        model.add(Activation('relu'))\n",
    "        model.add(BatchNormalization())\n",
    "        \n",
    "        model.add(MaxPooling3D(pool_size=(2, 2, 2)))\n",
    "\n",
    "        model.add(Conv3D(32, filtersize, padding='same'))\n",
    "        model.add(Activation('relu'))\n",
    "        model.add(BatchNormalization())\n",
    "        \n",
    "        model.add(Conv3D(32, filtersize, padding='same'))\n",
    "        model.add(Activation('relu'))\n",
    "        model.add(BatchNormalization())\n",
    "        \n",
    "        model.add(MaxPooling3D(pool_size=(2, 2, 2)))\n",
    "\n",
    "        model.add(Conv3D(64, filtersize, padding='same'))\n",
    "        model.add(Activation('relu'))\n",
    "        model.add(BatchNormalization())\n",
    "        \n",
    "        model.add(Conv3D(64, filtersize, padding='same'))\n",
    "        model.add(Activation('relu'))\n",
    "        model.add(BatchNormalization())\n",
    "        \n",
    "        model.add(MaxPooling3D(pool_size=(2, 2, 2)))\n",
    "\n",
    "        model.add(Conv3D(128, filtersize, padding='same'))\n",
    "        model.add(Activation('relu'))\n",
    "        model.add(BatchNormalization())\n",
    "        \n",
    "        model.add(Conv3D(128, filtersize, padding='same'))\n",
    "        model.add(Activation('relu'))\n",
    "        model.add(BatchNormalization())\n",
    "        \n",
    "        model.add(MaxPooling3D(pool_size=(2, 2, 2)))\n",
    "        \n",
    "\n",
    "        model.add(Flatten())\n",
    "        model.add(Dense(dense_neurons,activation='relu'))\n",
    "        model.add(BatchNormalization())\n",
    "        model.add(Dropout(dropout))\n",
    "\n",
    "        model.add(Dense(dense_neurons,activation='relu'))\n",
    "        model.add(BatchNormalization())\n",
    "        model.add(Dropout(dropout))\n",
    "\n",
    "\n",
    "        model.add(Dense(self.num_classes,activation='softmax'))\n",
    "\n",
    "        optimiser = optimizers.Adam()\n",
    "        model.compile(optimizer=optimiser, loss='categorical_crossentropy', metrics=['categorical_accuracy'])\n",
    "        return model"
   ]
  },
  {
   "cell_type": "code",
   "execution_count": 13,
   "metadata": {
    "scrolled": true
   },
   "outputs": [
    {
     "name": "stdout",
     "output_type": "stream",
     "text": [
      "_________________________________________________________________\n",
      "Layer (type)                 Output Shape              Param #   \n",
      "=================================================================\n",
      "conv3d_4 (Conv3D)            (None, 16, 120, 120, 16)  1312      \n",
      "_________________________________________________________________\n",
      "activation_4 (Activation)    (None, 16, 120, 120, 16)  0         \n",
      "_________________________________________________________________\n",
      "batch_normalization_6 (Batch (None, 16, 120, 120, 16)  64        \n",
      "_________________________________________________________________\n",
      "conv3d_5 (Conv3D)            (None, 16, 120, 120, 16)  6928      \n",
      "_________________________________________________________________\n",
      "activation_5 (Activation)    (None, 16, 120, 120, 16)  0         \n",
      "_________________________________________________________________\n",
      "batch_normalization_7 (Batch (None, 16, 120, 120, 16)  64        \n",
      "_________________________________________________________________\n",
      "max_pooling3d_4 (MaxPooling3 (None, 8, 60, 60, 16)     0         \n",
      "_________________________________________________________________\n",
      "conv3d_6 (Conv3D)            (None, 8, 60, 60, 32)     13856     \n",
      "_________________________________________________________________\n",
      "activation_6 (Activation)    (None, 8, 60, 60, 32)     0         \n",
      "_________________________________________________________________\n",
      "batch_normalization_8 (Batch (None, 8, 60, 60, 32)     128       \n",
      "_________________________________________________________________\n",
      "conv3d_7 (Conv3D)            (None, 8, 60, 60, 32)     27680     \n",
      "_________________________________________________________________\n",
      "activation_7 (Activation)    (None, 8, 60, 60, 32)     0         \n",
      "_________________________________________________________________\n",
      "batch_normalization_9 (Batch (None, 8, 60, 60, 32)     128       \n",
      "_________________________________________________________________\n",
      "max_pooling3d_5 (MaxPooling3 (None, 4, 30, 30, 32)     0         \n",
      "_________________________________________________________________\n",
      "conv3d_8 (Conv3D)            (None, 4, 30, 30, 64)     55360     \n",
      "_________________________________________________________________\n",
      "activation_8 (Activation)    (None, 4, 30, 30, 64)     0         \n",
      "_________________________________________________________________\n",
      "batch_normalization_10 (Batc (None, 4, 30, 30, 64)     256       \n",
      "_________________________________________________________________\n",
      "conv3d_9 (Conv3D)            (None, 4, 30, 30, 64)     110656    \n",
      "_________________________________________________________________\n",
      "activation_9 (Activation)    (None, 4, 30, 30, 64)     0         \n",
      "_________________________________________________________________\n",
      "batch_normalization_11 (Batc (None, 4, 30, 30, 64)     256       \n",
      "_________________________________________________________________\n",
      "max_pooling3d_6 (MaxPooling3 (None, 2, 15, 15, 64)     0         \n",
      "_________________________________________________________________\n",
      "conv3d_10 (Conv3D)           (None, 2, 15, 15, 128)    221312    \n",
      "_________________________________________________________________\n",
      "activation_10 (Activation)   (None, 2, 15, 15, 128)    0         \n",
      "_________________________________________________________________\n",
      "batch_normalization_12 (Batc (None, 2, 15, 15, 128)    512       \n",
      "_________________________________________________________________\n",
      "conv3d_11 (Conv3D)           (None, 2, 15, 15, 128)    442496    \n",
      "_________________________________________________________________\n",
      "activation_11 (Activation)   (None, 2, 15, 15, 128)    0         \n",
      "_________________________________________________________________\n",
      "batch_normalization_13 (Batc (None, 2, 15, 15, 128)    512       \n",
      "_________________________________________________________________\n",
      "max_pooling3d_7 (MaxPooling3 (None, 1, 7, 7, 128)      0         \n",
      "_________________________________________________________________\n",
      "flatten_1 (Flatten)          (None, 6272)              0         \n",
      "_________________________________________________________________\n",
      "dense_3 (Dense)              (None, 256)               1605888   \n",
      "_________________________________________________________________\n",
      "batch_normalization_14 (Batc (None, 256)               1024      \n",
      "_________________________________________________________________\n",
      "dropout_2 (Dropout)          (None, 256)               0         \n",
      "_________________________________________________________________\n",
      "dense_4 (Dense)              (None, 256)               65792     \n",
      "_________________________________________________________________\n",
      "batch_normalization_15 (Batc (None, 256)               1024      \n",
      "_________________________________________________________________\n",
      "dropout_3 (Dropout)          (None, 256)               0         \n",
      "_________________________________________________________________\n",
      "dense_5 (Dense)              (None, 5)                 1285      \n",
      "=================================================================\n",
      "Total params: 2,556,533\n",
      "Trainable params: 2,554,549\n",
      "Non-trainable params: 1,984\n",
      "_________________________________________________________________\n"
     ]
    }
   ],
   "source": [
    "conv_3d4=ModelConv3D4()\n",
    "conv_3d4.initialize_path(project_folder)\n",
    "conv_3d4.initialize_image_properties(image_height=120,image_width=120)\n",
    "conv_3d4.initialize_hyperparams(frames_to_sample=16,batch_size=20,num_epochs=30)\n",
    "conv_3d4_model=conv_3d4.define_model(filtersize=(3,3,3),dense_neurons=256,dropout=0.5)\n",
    "conv_3d4_model.summary()"
   ]
  },
  {
   "cell_type": "code",
   "execution_count": 14,
   "metadata": {
    "scrolled": true
   },
   "outputs": [
    {
     "name": "stdout",
     "output_type": "stream",
     "text": [
      "Total Params: 2556533\n",
      "Epoch 1/30\n",
      "33/34 [============================>.] - ETA: 9s - loss: 1.8676 - categorical_accuracy: 0.3977 \n",
      "Epoch 00001: saving model to model_init_2020-12-2804_14_59.844562/model-00001-1.86348-0.39894-1.97870-0.18000.h5\n",
      "34/34 [==============================] - 356s 10s/step - loss: 1.8414 - categorical_accuracy: 0.4054 - val_loss: 1.9787 - val_categorical_accuracy: 0.1800\n",
      "Epoch 2/30\n",
      "33/34 [============================>.] - ETA: 4s - loss: 1.4694 - categorical_accuracy: 0.5129\n",
      "Epoch 00002: saving model to model_init_2020-12-2804_14_59.844562/model-00002-1.47495-0.51207-1.87731-0.37000.h5\n",
      "34/34 [==============================] - 163s 5s/step - loss: 1.5047 - categorical_accuracy: 0.5077 - val_loss: 1.8773 - val_categorical_accuracy: 0.3700\n",
      "Epoch 3/30\n",
      "33/34 [============================>.] - ETA: 4s - loss: 1.4909 - categorical_accuracy: 0.4773\n",
      "Epoch 00003: saving model to model_init_2020-12-2804_14_59.844562/model-00003-1.49650-0.47662-3.62122-0.21000.h5\n",
      "34/34 [==============================] - 175s 5s/step - loss: 1.5262 - categorical_accuracy: 0.4731 - val_loss: 3.6212 - val_categorical_accuracy: 0.2100\n",
      "Epoch 4/30\n",
      "33/34 [============================>.] - ETA: 4s - loss: 1.3448 - categorical_accuracy: 0.5258\n",
      "Epoch 00004: saving model to model_init_2020-12-2804_14_59.844562/model-00004-1.34482-0.52564-1.91947-0.35000.h5\n",
      "34/34 [==============================] - 176s 5s/step - loss: 1.3452 - categorical_accuracy: 0.5250 - val_loss: 1.9195 - val_categorical_accuracy: 0.3500\n",
      "Epoch 5/30\n",
      "33/34 [============================>.] - ETA: 4s - loss: 1.1386 - categorical_accuracy: 0.5811\n",
      "Epoch 00005: saving model to model_init_2020-12-2804_14_59.844562/model-00005-1.15032-0.57919-3.05685-0.31000.h5\n",
      "34/34 [==============================] - 179s 5s/step - loss: 1.2127 - categorical_accuracy: 0.5692 - val_loss: 3.0568 - val_categorical_accuracy: 0.3100\n",
      "Epoch 6/30\n",
      "33/34 [============================>.] - ETA: 4s - loss: 1.0123 - categorical_accuracy: 0.6227\n",
      "Epoch 00006: saving model to model_init_2020-12-2804_14_59.844562/model-00006-1.01383-0.62142-2.25208-0.31000.h5\n",
      "\n",
      "Epoch 00006: ReduceLROnPlateau reducing learning rate to 0.00020000000949949026.\n",
      "34/34 [==============================] - 176s 5s/step - loss: 1.0218 - categorical_accuracy: 0.6144 - val_loss: 2.2521 - val_categorical_accuracy: 0.3100\n",
      "Epoch 7/30\n",
      "33/34 [============================>.] - ETA: 4s - loss: 0.8170 - categorical_accuracy: 0.6917\n",
      "Epoch 00007: saving model to model_init_2020-12-2804_14_59.844562/model-00007-0.82314-0.69155-2.46911-0.36000.h5\n",
      "34/34 [==============================] - 174s 5s/step - loss: 0.8557 - categorical_accuracy: 0.6909 - val_loss: 2.4691 - val_categorical_accuracy: 0.3600\n",
      "Epoch 8/30\n",
      "33/34 [============================>.] - ETA: 4s - loss: 0.8085 - categorical_accuracy: 0.6947\n",
      "Epoch 00008: saving model to model_init_2020-12-2804_14_59.844562/model-00008-0.80878-0.69457-2.58315-0.34000.h5\n",
      "34/34 [==============================] - 175s 5s/step - loss: 0.8104 - categorical_accuracy: 0.6939 - val_loss: 2.5831 - val_categorical_accuracy: 0.3400\n",
      "Epoch 9/30\n",
      "33/34 [============================>.] - ETA: 4s - loss: 0.7634 - categorical_accuracy: 0.7159\n",
      "Epoch 00009: saving model to model_init_2020-12-2804_14_59.844562/model-00009-0.76699-0.71493-2.62578-0.41000.h5\n",
      "34/34 [==============================] - 173s 5s/step - loss: 0.7861 - categorical_accuracy: 0.7097 - val_loss: 2.6258 - val_categorical_accuracy: 0.4100\n",
      "Epoch 10/30\n",
      "33/34 [============================>.] - ETA: 4s - loss: 0.7990 - categorical_accuracy: 0.6985\n",
      "Epoch 00010: saving model to model_init_2020-12-2804_14_59.844562/model-00010-0.79896-0.69759-2.40175-0.35000.h5\n",
      "\n",
      "Epoch 00010: ReduceLROnPlateau reducing learning rate to 4.0000001899898055e-05.\n",
      "34/34 [==============================] - 174s 5s/step - loss: 0.7988 - categorical_accuracy: 0.6928 - val_loss: 2.4018 - val_categorical_accuracy: 0.3500\n",
      "Epoch 11/30\n",
      "33/34 [============================>.] - ETA: 4s - loss: 0.6968 - categorical_accuracy: 0.7379\n",
      "Epoch 00011: saving model to model_init_2020-12-2804_14_59.844562/model-00011-0.69871-0.73756-2.20699-0.40000.h5\n",
      "34/34 [==============================] - 174s 5s/step - loss: 0.7089 - categorical_accuracy: 0.7358 - val_loss: 2.2070 - val_categorical_accuracy: 0.4000\n",
      "Epoch 12/30\n",
      "33/34 [============================>.] - ETA: 4s - loss: 0.6861 - categorical_accuracy: 0.7462\n",
      "Epoch 00012: saving model to model_init_2020-12-2804_14_59.844562/model-00012-0.68492-0.74661-1.92225-0.41000.h5\n",
      "34/34 [==============================] - 174s 5s/step - loss: 0.6785 - categorical_accuracy: 0.7487 - val_loss: 1.9222 - val_categorical_accuracy: 0.4100\n",
      "Epoch 13/30\n",
      "33/34 [============================>.] - ETA: 4s - loss: 0.7050 - categorical_accuracy: 0.7379\n",
      "Epoch 00013: saving model to model_init_2020-12-2804_14_59.844562/model-00013-0.70616-0.73680-1.49561-0.51000.h5\n",
      "34/34 [==============================] - 174s 5s/step - loss: 0.7123 - categorical_accuracy: 0.7311 - val_loss: 1.4956 - val_categorical_accuracy: 0.5100\n",
      "Epoch 14/30\n",
      "33/34 [============================>.] - ETA: 4s - loss: 0.6370 - categorical_accuracy: 0.7652\n",
      "Epoch 00014: saving model to model_init_2020-12-2804_14_59.844562/model-00014-0.64077-0.76395-1.45549-0.49000.h5\n",
      "34/34 [==============================] - 173s 5s/step - loss: 0.6611 - categorical_accuracy: 0.7575 - val_loss: 1.4555 - val_categorical_accuracy: 0.4900\n",
      "Epoch 15/30\n",
      "33/34 [============================>.] - ETA: 4s - loss: 0.6267 - categorical_accuracy: 0.7591\n",
      "Epoch 00015: saving model to model_init_2020-12-2804_14_59.844562/model-00015-0.62791-0.75792-1.51869-0.52000.h5\n",
      "34/34 [==============================] - 171s 5s/step - loss: 0.6342 - categorical_accuracy: 0.7517 - val_loss: 1.5187 - val_categorical_accuracy: 0.5200\n",
      "Epoch 16/30\n",
      "33/34 [============================>.] - ETA: 4s - loss: 0.6410 - categorical_accuracy: 0.7545\n",
      "Epoch 00016: saving model to model_init_2020-12-2804_14_59.844562/model-00016-0.63958-0.75490-1.13403-0.55000.h5\n",
      "34/34 [==============================] - 172s 5s/step - loss: 0.6322 - categorical_accuracy: 0.7568 - val_loss: 1.1340 - val_categorical_accuracy: 0.5500\n",
      "Epoch 17/30\n",
      "33/34 [============================>.] - ETA: 4s - loss: 0.6758 - categorical_accuracy: 0.7273\n",
      "Epoch 00017: saving model to model_init_2020-12-2804_14_59.844562/model-00017-0.67572-0.72775-0.93920-0.62000.h5\n",
      "34/34 [==============================] - 169s 5s/step - loss: 0.6755 - categorical_accuracy: 0.7303 - val_loss: 0.9392 - val_categorical_accuracy: 0.6200\n",
      "Epoch 18/30\n",
      "33/34 [============================>.] - ETA: 4s - loss: 0.6055 - categorical_accuracy: 0.7727\n",
      "Epoch 00018: saving model to model_init_2020-12-2804_14_59.844562/model-00018-0.60981-0.77074-0.78291-0.72000.h5\n",
      "34/34 [==============================] - 172s 5s/step - loss: 0.6327 - categorical_accuracy: 0.7601 - val_loss: 0.7829 - val_categorical_accuracy: 0.7200\n",
      "Epoch 19/30\n",
      "33/34 [============================>.] - ETA: 4s - loss: 0.5722 - categorical_accuracy: 0.7871\n",
      "Epoch 00019: saving model to model_init_2020-12-2804_14_59.844562/model-00019-0.57766-0.78658-0.83888-0.71000.h5\n",
      "34/34 [==============================] - 175s 5s/step - loss: 0.6068 - categorical_accuracy: 0.7837 - val_loss: 0.8389 - val_categorical_accuracy: 0.7100\n",
      "Epoch 20/30\n",
      "33/34 [============================>.] - ETA: 4s - loss: 0.6189 - categorical_accuracy: 0.7727\n",
      "Epoch 00020: saving model to model_init_2020-12-2804_14_59.844562/model-00020-0.61953-0.77149-0.71606-0.71000.h5\n",
      "34/34 [==============================] - 173s 5s/step - loss: 0.6227 - categorical_accuracy: 0.7649 - val_loss: 0.7161 - val_categorical_accuracy: 0.7100\n",
      "Epoch 21/30\n",
      "33/34 [============================>.] - ETA: 4s - loss: 0.6224 - categorical_accuracy: 0.7682\n",
      "Epoch 00021: saving model to model_init_2020-12-2804_14_59.844562/model-00021-0.62052-0.76923-0.70668-0.73000.h5\n",
      "34/34 [==============================] - 172s 5s/step - loss: 0.6106 - categorical_accuracy: 0.7748 - val_loss: 0.7067 - val_categorical_accuracy: 0.7300\n",
      "Epoch 22/30\n",
      "33/34 [============================>.] - ETA: 4s - loss: 0.5773 - categorical_accuracy: 0.7803\n",
      "Epoch 00022: saving model to model_init_2020-12-2804_14_59.844562/model-00022-0.57622-0.78054-0.65658-0.75000.h5\n"
     ]
    },
    {
     "name": "stdout",
     "output_type": "stream",
     "text": [
      "34/34 [==============================] - 170s 5s/step - loss: 0.5704 - categorical_accuracy: 0.7818 - val_loss: 0.6566 - val_categorical_accuracy: 0.7500\n",
      "Epoch 23/30\n",
      "33/34 [============================>.] - ETA: 4s - loss: 0.5980 - categorical_accuracy: 0.7803\n",
      "Epoch 00023: saving model to model_init_2020-12-2804_14_59.844562/model-00023-0.60680-0.77753-0.76383-0.70000.h5\n",
      "34/34 [==============================] - 176s 5s/step - loss: 0.6537 - categorical_accuracy: 0.7627 - val_loss: 0.7638 - val_categorical_accuracy: 0.7000\n",
      "Epoch 24/30\n",
      "33/34 [============================>.] - ETA: 4s - loss: 0.6151 - categorical_accuracy: 0.7674\n",
      "Epoch 00024: saving model to model_init_2020-12-2804_14_59.844562/model-00024-0.61357-0.76848-0.62880-0.78000.h5\n",
      "34/34 [==============================] - 174s 5s/step - loss: 0.6056 - categorical_accuracy: 0.7741 - val_loss: 0.6288 - val_categorical_accuracy: 0.7800\n",
      "Epoch 25/30\n",
      "33/34 [============================>.] - ETA: 4s - loss: 0.6028 - categorical_accuracy: 0.7742\n",
      "Epoch 00025: saving model to model_init_2020-12-2804_14_59.844562/model-00025-0.60688-0.77376-0.54324-0.75000.h5\n",
      "34/34 [==============================] - 172s 5s/step - loss: 0.6288 - categorical_accuracy: 0.7712 - val_loss: 0.5432 - val_categorical_accuracy: 0.7500\n",
      "Epoch 26/30\n",
      "33/34 [============================>.] - ETA: 4s - loss: 0.5227 - categorical_accuracy: 0.8008\n",
      "Epoch 00026: saving model to model_init_2020-12-2804_14_59.844562/model-00026-0.53016-0.79940-0.61881-0.76000.h5\n",
      "34/34 [==============================] - 174s 5s/step - loss: 0.5701 - categorical_accuracy: 0.7921 - val_loss: 0.6188 - val_categorical_accuracy: 0.7600\n",
      "Epoch 27/30\n",
      "33/34 [============================>.] - ETA: 4s - loss: 0.5393 - categorical_accuracy: 0.7894\n",
      "Epoch 00027: saving model to model_init_2020-12-2804_14_59.844562/model-00027-0.54213-0.78808-0.63353-0.77000.h5\n",
      "34/34 [==============================] - 171s 5s/step - loss: 0.5570 - categorical_accuracy: 0.7811 - val_loss: 0.6335 - val_categorical_accuracy: 0.7700\n",
      "Epoch 28/30\n",
      "33/34 [============================>.] - ETA: 4s - loss: 0.5459 - categorical_accuracy: 0.7871\n",
      "Epoch 00028: saving model to model_init_2020-12-2804_14_59.844562/model-00028-0.55121-0.78507-0.59953-0.76000.h5\n",
      "34/34 [==============================] - 177s 5s/step - loss: 0.5795 - categorical_accuracy: 0.7741 - val_loss: 0.5995 - val_categorical_accuracy: 0.7600\n",
      "Epoch 29/30\n",
      "33/34 [============================>.] - ETA: 4s - loss: 0.5407 - categorical_accuracy: 0.7985\n",
      "Epoch 00029: saving model to model_init_2020-12-2804_14_59.844562/model-00029-0.53918-0.79940-0.53968-0.85000.h5\n",
      "34/34 [==============================] - 176s 5s/step - loss: 0.5311 - categorical_accuracy: 0.8043 - val_loss: 0.5397 - val_categorical_accuracy: 0.8500\n",
      "Epoch 30/30\n",
      "33/34 [============================>.] - ETA: 4s - loss: 0.4553 - categorical_accuracy: 0.8265\n",
      "Epoch 00030: saving model to model_init_2020-12-2804_14_59.844562/model-00030-0.45744-0.82579-0.57865-0.81000.h5\n",
      "34/34 [==============================] - 176s 5s/step - loss: 0.4687 - categorical_accuracy: 0.8219 - val_loss: 0.5787 - val_categorical_accuracy: 0.8100\n"
     ]
    }
   ],
   "source": [
    "print(\"Total Params:\", conv_3d4_model.count_params())\n",
    "history_model4=conv_3d4.train_model(conv_3d4_model,augment_data=True)"
   ]
  },
  {
   "cell_type": "code",
   "execution_count": 15,
   "metadata": {},
   "outputs": [
    {
     "data": {
      "image/png": "[encoded data removed]",
      "text/plain": [
       "<Figure size 1080x288 with 2 Axes>"
      ]
     },
     "metadata": {},
     "output_type": "display_data"
    }
   ],
   "source": [
    "plot(history_model4)"
   ]
  },
  {
   "cell_type": "markdown",
   "metadata": {},
   "source": [
    "With more layers we dont see much performance improvement. Best validation accuracy = 76% . Let's add dropouts at the convolution layers"
   ]
  },
  {
   "cell_type": "markdown",
   "metadata": {},
   "source": [
    "# Model 5\n",
    "Adding dropout at convolution layers"
   ]
  },
  {
   "cell_type": "code",
   "execution_count": 16,
   "metadata": {},
   "outputs": [],
   "source": [
    "class ModelConv3D5(ModelBuilder):\n",
    "    \n",
    "    def define_model(self,filtersize=(3,3,3),dense_neurons=64,dropout=0.25):\n",
    "\n",
    "        model = Sequential()\n",
    "        model.add(Conv3D(16, filtersize, padding='same',\n",
    "                 input_shape=(self.frames_to_sample,self.image_height,self.image_width,self.channels)))\n",
    "        model.add(Activation('relu'))\n",
    "        model.add(BatchNormalization())\n",
    "        \n",
    "        model.add(Conv3D(16, filtersize, padding='same',\n",
    "                 input_shape=(self.frames_to_sample,self.image_height,self.image_width,self.channels)))\n",
    "        model.add(Activation('relu'))\n",
    "        model.add(BatchNormalization())\n",
    "        \n",
    "        model.add(MaxPooling3D(pool_size=(2, 2, 2)))\n",
    "        model.add(Dropout(dropout))\n",
    "\n",
    "        model.add(Conv3D(32, filtersize, padding='same'))\n",
    "        model.add(Activation('relu'))\n",
    "        model.add(BatchNormalization())\n",
    "        \n",
    "        model.add(Conv3D(32, filtersize, padding='same'))\n",
    "        model.add(Activation('relu'))\n",
    "        model.add(BatchNormalization())\n",
    "        \n",
    "        model.add(MaxPooling3D(pool_size=(2, 2, 2)))\n",
    "        model.add(Dropout(dropout))\n",
    "\n",
    "        model.add(Conv3D(64, filtersize, padding='same'))\n",
    "        model.add(Activation('relu'))\n",
    "        model.add(BatchNormalization())\n",
    "        \n",
    "        model.add(Conv3D(64, filtersize, padding='same'))\n",
    "        model.add(Activation('relu'))\n",
    "        model.add(BatchNormalization())\n",
    "        \n",
    "        model.add(MaxPooling3D(pool_size=(2, 2, 2)))\n",
    "        model.add(Dropout(dropout))\n",
    "\n",
    "        model.add(Conv3D(128, filtersize, padding='same'))\n",
    "        model.add(Activation('relu'))\n",
    "        model.add(BatchNormalization())\n",
    "        \n",
    "        model.add(Conv3D(128, filtersize, padding='same'))\n",
    "        model.add(Activation('relu'))\n",
    "        model.add(BatchNormalization())\n",
    "        \n",
    "        model.add(MaxPooling3D(pool_size=(2, 2, 2)))\n",
    "        model.add(Dropout(dropout))\n",
    "        \n",
    "        model.add(Flatten())\n",
    "        model.add(Dense(dense_neurons,activation='relu'))\n",
    "        model.add(BatchNormalization())\n",
    "        model.add(Dropout(dropout))\n",
    "\n",
    "        model.add(Dense(dense_neurons,activation='relu'))\n",
    "        model.add(BatchNormalization())\n",
    "        model.add(Dropout(dropout))\n",
    "\n",
    "\n",
    "        model.add(Dense(self.num_classes,activation='softmax'))\n",
    "\n",
    "        optimiser = optimizers.Adam()\n",
    "        model.compile(optimizer=optimiser, loss='categorical_crossentropy', metrics=['categorical_accuracy'])\n",
    "        return model"
   ]
  },
  {
   "cell_type": "code",
   "execution_count": 17,
   "metadata": {
    "scrolled": true
   },
   "outputs": [
    {
     "name": "stdout",
     "output_type": "stream",
     "text": [
      "_________________________________________________________________\n",
      "Layer (type)                 Output Shape              Param #   \n",
      "=================================================================\n",
      "conv3d_12 (Conv3D)           (None, 16, 120, 120, 16)  1312      \n",
      "_________________________________________________________________\n",
      "activation_12 (Activation)   (None, 16, 120, 120, 16)  0         \n",
      "_________________________________________________________________\n",
      "batch_normalization_16 (Batc (None, 16, 120, 120, 16)  64        \n",
      "_________________________________________________________________\n",
      "conv3d_13 (Conv3D)           (None, 16, 120, 120, 16)  6928      \n",
      "_________________________________________________________________\n",
      "activation_13 (Activation)   (None, 16, 120, 120, 16)  0         \n",
      "_________________________________________________________________\n",
      "batch_normalization_17 (Batc (None, 16, 120, 120, 16)  64        \n",
      "_________________________________________________________________\n",
      "max_pooling3d_8 (MaxPooling3 (None, 8, 60, 60, 16)     0         \n",
      "_________________________________________________________________\n",
      "dropout_4 (Dropout)          (None, 8, 60, 60, 16)     0         \n",
      "_________________________________________________________________\n",
      "conv3d_14 (Conv3D)           (None, 8, 60, 60, 32)     13856     \n",
      "_________________________________________________________________\n",
      "activation_14 (Activation)   (None, 8, 60, 60, 32)     0         \n",
      "_________________________________________________________________\n",
      "batch_normalization_18 (Batc (None, 8, 60, 60, 32)     128       \n",
      "_________________________________________________________________\n",
      "conv3d_15 (Conv3D)           (None, 8, 60, 60, 32)     27680     \n",
      "_________________________________________________________________\n",
      "activation_15 (Activation)   (None, 8, 60, 60, 32)     0         \n",
      "_________________________________________________________________\n",
      "batch_normalization_19 (Batc (None, 8, 60, 60, 32)     128       \n",
      "_________________________________________________________________\n",
      "max_pooling3d_9 (MaxPooling3 (None, 4, 30, 30, 32)     0         \n",
      "_________________________________________________________________\n",
      "dropout_5 (Dropout)          (None, 4, 30, 30, 32)     0         \n",
      "_________________________________________________________________\n",
      "conv3d_16 (Conv3D)           (None, 4, 30, 30, 64)     55360     \n",
      "_________________________________________________________________\n",
      "activation_16 (Activation)   (None, 4, 30, 30, 64)     0         \n",
      "_________________________________________________________________\n",
      "batch_normalization_20 (Batc (None, 4, 30, 30, 64)     256       \n",
      "_________________________________________________________________\n",
      "conv3d_17 (Conv3D)           (None, 4, 30, 30, 64)     110656    \n",
      "_________________________________________________________________\n",
      "activation_17 (Activation)   (None, 4, 30, 30, 64)     0         \n",
      "_________________________________________________________________\n",
      "batch_normalization_21 (Batc (None, 4, 30, 30, 64)     256       \n",
      "_________________________________________________________________\n",
      "max_pooling3d_10 (MaxPooling (None, 2, 15, 15, 64)     0         \n",
      "_________________________________________________________________\n",
      "dropout_6 (Dropout)          (None, 2, 15, 15, 64)     0         \n",
      "_________________________________________________________________\n",
      "conv3d_18 (Conv3D)           (None, 2, 15, 15, 128)    221312    \n",
      "_________________________________________________________________\n",
      "activation_18 (Activation)   (None, 2, 15, 15, 128)    0         \n",
      "_________________________________________________________________\n",
      "batch_normalization_22 (Batc (None, 2, 15, 15, 128)    512       \n",
      "_________________________________________________________________\n",
      "conv3d_19 (Conv3D)           (None, 2, 15, 15, 128)    442496    \n",
      "_________________________________________________________________\n",
      "activation_19 (Activation)   (None, 2, 15, 15, 128)    0         \n",
      "_________________________________________________________________\n",
      "batch_normalization_23 (Batc (None, 2, 15, 15, 128)    512       \n",
      "_________________________________________________________________\n",
      "max_pooling3d_11 (MaxPooling (None, 1, 7, 7, 128)      0         \n",
      "_________________________________________________________________\n",
      "dropout_7 (Dropout)          (None, 1, 7, 7, 128)      0         \n",
      "_________________________________________________________________\n",
      "flatten_2 (Flatten)          (None, 6272)              0         \n",
      "_________________________________________________________________\n",
      "dense_6 (Dense)              (None, 256)               1605888   \n",
      "_________________________________________________________________\n",
      "batch_normalization_24 (Batc (None, 256)               1024      \n",
      "_________________________________________________________________\n",
      "dropout_8 (Dropout)          (None, 256)               0         \n",
      "_________________________________________________________________\n",
      "dense_7 (Dense)              (None, 256)               65792     \n",
      "_________________________________________________________________\n",
      "batch_normalization_25 (Batc (None, 256)               1024      \n",
      "_________________________________________________________________\n",
      "dropout_9 (Dropout)          (None, 256)               0         \n",
      "_________________________________________________________________\n",
      "dense_8 (Dense)              (None, 5)                 1285      \n",
      "=================================================================\n",
      "Total params: 2,556,533\n",
      "Trainable params: 2,554,549\n",
      "Non-trainable params: 1,984\n",
      "_________________________________________________________________\n"
     ]
    }
   ],
   "source": [
    "conv_3d5=ModelConv3D5()\n",
    "conv_3d5.initialize_path(project_folder)\n",
    "conv_3d5.initialize_image_properties(image_height=120,image_width=120)\n",
    "conv_3d5.initialize_hyperparams(frames_to_sample=16,batch_size=20,num_epochs=22)\n",
    "conv_3d5_model=conv_3d5.define_model(filtersize=(3,3,3),dense_neurons=256,dropout=0.25)\n",
    "conv_3d5_model.summary()"
   ]
  },
  {
   "cell_type": "code",
   "execution_count": 18,
   "metadata": {
    "scrolled": true
   },
   "outputs": [
    {
     "name": "stdout",
     "output_type": "stream",
     "text": [
      "Total Params: 2556533\n",
      "Epoch 1/22\n",
      "33/34 [============================>.] - ETA: 5s - loss: 1.7347 - categorical_accuracy: 0.3970 \n",
      "Epoch 00001: saving model to model_init_2020-12-2805_44_48.018306/model-00001-1.73547-0.39668-2.24750-0.24000.h5\n",
      "34/34 [==============================] - 201s 6s/step - loss: 1.7394 - categorical_accuracy: 0.3951 - val_loss: 2.2475 - val_categorical_accuracy: 0.2400\n",
      "Epoch 2/22\n",
      "33/34 [============================>.] - ETA: 4s - loss: 1.2254 - categorical_accuracy: 0.5280\n",
      "Epoch 00002: saving model to model_init_2020-12-2805_44_48.018306/model-00002-1.22543-0.52790-2.43862-0.13000.h5\n",
      "34/34 [==============================] - 173s 5s/step - loss: 1.2257 - categorical_accuracy: 0.5272 - val_loss: 2.4386 - val_categorical_accuracy: 0.1300\n",
      "Epoch 3/22\n",
      "33/34 [============================>.] - ETA: 4s - loss: 1.0490 - categorical_accuracy: 0.6152\n",
      "Epoch 00003: saving model to model_init_2020-12-2805_44_48.018306/model-00003-1.05544-0.61312-2.72882-0.20000.h5\n",
      "34/34 [==============================] - 175s 5s/step - loss: 1.0898 - categorical_accuracy: 0.6023 - val_loss: 2.7288 - val_categorical_accuracy: 0.2000\n",
      "Epoch 4/22\n",
      "33/34 [============================>.] - ETA: 4s - loss: 0.9794 - categorical_accuracy: 0.6227\n",
      "Epoch 00004: saving model to model_init_2020-12-2805_44_48.018306/model-00004-0.98168-0.62293-3.21185-0.20000.h5\n",
      "34/34 [==============================] - 172s 5s/step - loss: 0.9937 - categorical_accuracy: 0.6240 - val_loss: 3.2119 - val_categorical_accuracy: 0.2000\n",
      "Epoch 5/22\n",
      "33/34 [============================>.] - ETA: 4s - loss: 0.9860 - categorical_accuracy: 0.6205\n",
      "Epoch 00005: saving model to model_init_2020-12-2805_44_48.018306/model-00005-0.98996-0.61765-3.12668-0.24000.h5\n",
      "\n",
      "Epoch 00005: ReduceLROnPlateau reducing learning rate to 0.00020000000949949026.\n",
      "34/34 [==============================] - 175s 5s/step - loss: 1.0112 - categorical_accuracy: 0.6026 - val_loss: 3.1267 - val_categorical_accuracy: 0.2400\n",
      "Epoch 6/22\n",
      "33/34 [============================>.] - ETA: 4s - loss: 0.7371 - categorical_accuracy: 0.7318\n",
      "Epoch 00006: saving model to model_init_2020-12-2805_44_48.018306/model-00006-0.74794-0.73002-4.52091-0.21000.h5\n",
      "34/34 [==============================] - 171s 5s/step - loss: 0.8057 - categorical_accuracy: 0.7204 - val_loss: 4.5209 - val_categorical_accuracy: 0.2100\n",
      "Epoch 7/22\n",
      "33/34 [============================>.] - ETA: 4s - loss: 0.6865 - categorical_accuracy: 0.7485\n",
      "Epoch 00007: saving model to model_init_2020-12-2805_44_48.018306/model-00007-0.69163-0.74736-3.02361-0.21000.h5\n",
      "34/34 [==============================] - 174s 5s/step - loss: 0.7191 - categorical_accuracy: 0.7414 - val_loss: 3.0236 - val_categorical_accuracy: 0.2100\n",
      "Epoch 8/22\n",
      "33/34 [============================>.] - ETA: 4s - loss: 0.6143 - categorical_accuracy: 0.7523\n",
      "Epoch 00008: saving model to model_init_2020-12-2805_44_48.018306/model-00008-0.61525-0.75113-3.46406-0.24000.h5\n",
      "34/34 [==============================] - 173s 5s/step - loss: 0.6204 - categorical_accuracy: 0.7450 - val_loss: 3.4641 - val_categorical_accuracy: 0.2400\n",
      "Epoch 9/22\n",
      "33/34 [============================>.] - ETA: 4s - loss: 0.6142 - categorical_accuracy: 0.7621\n",
      "Epoch 00009: saving model to model_init_2020-12-2805_44_48.018306/model-00009-0.61918-0.76094-3.45794-0.17000.h5\n",
      "\n",
      "Epoch 00009: ReduceLROnPlateau reducing learning rate to 4.0000001899898055e-05.\n",
      "34/34 [==============================] - 173s 5s/step - loss: 0.6458 - categorical_accuracy: 0.7546 - val_loss: 3.4579 - val_categorical_accuracy: 0.1700\n",
      "Epoch 10/22\n",
      "33/34 [============================>.] - ETA: 4s - loss: 0.5293 - categorical_accuracy: 0.7985\n",
      "Epoch 00010: saving model to model_init_2020-12-2805_44_48.018306/model-00010-0.53267-0.79713-3.63331-0.18000.h5\n",
      "34/34 [==============================] - 172s 5s/step - loss: 0.5506 - categorical_accuracy: 0.7899 - val_loss: 3.6333 - val_categorical_accuracy: 0.1800\n",
      "Epoch 11/22\n",
      "33/34 [============================>.] - ETA: 4s - loss: 0.5363 - categorical_accuracy: 0.8053\n",
      "Epoch 00011: saving model to model_init_2020-12-2805_44_48.018306/model-00011-0.53674-0.80468-3.59328-0.23000.h5\n",
      "34/34 [==============================] - 176s 5s/step - loss: 0.5392 - categorical_accuracy: 0.8013 - val_loss: 3.5933 - val_categorical_accuracy: 0.2300\n",
      "Epoch 12/22\n",
      "33/34 [============================>.] - ETA: 4s - loss: 0.5048 - categorical_accuracy: 0.8083\n",
      "Epoch 00012: saving model to model_init_2020-12-2805_44_48.018306/model-00012-0.50417-0.80845-3.69864-0.26000.h5\n",
      "34/34 [==============================] - 172s 5s/step - loss: 0.5009 - categorical_accuracy: 0.8091 - val_loss: 3.6986 - val_categorical_accuracy: 0.2600\n",
      "Epoch 13/22\n",
      "33/34 [============================>.] - ETA: 4s - loss: 0.5013 - categorical_accuracy: 0.8121\n",
      "Epoch 00013: saving model to model_init_2020-12-2805_44_48.018306/model-00013-0.51119-0.81071-3.49609-0.21000.h5\n",
      "\n",
      "Epoch 00013: ReduceLROnPlateau reducing learning rate to 8.000000525498762e-06.\n",
      "34/34 [==============================] - 175s 5s/step - loss: 0.5642 - categorical_accuracy: 0.8032 - val_loss: 3.4961 - val_categorical_accuracy: 0.2100\n",
      "Epoch 14/22\n",
      "33/34 [============================>.] - ETA: 4s - loss: 0.5001 - categorical_accuracy: 0.8144\n",
      "Epoch 00014: saving model to model_init_2020-12-2805_44_48.018306/model-00014-0.50494-0.81373-3.13218-0.28000.h5\n",
      "34/34 [==============================] - 178s 5s/step - loss: 0.5311 - categorical_accuracy: 0.8102 - val_loss: 3.1322 - val_categorical_accuracy: 0.2800\n",
      "Epoch 15/22\n",
      "33/34 [============================>.] - ETA: 4s - loss: 0.4707 - categorical_accuracy: 0.8144\n",
      "Epoch 00015: saving model to model_init_2020-12-2805_44_48.018306/model-00015-0.47275-0.81373-2.89445-0.30000.h5\n",
      "34/34 [==============================] - 171s 5s/step - loss: 0.4838 - categorical_accuracy: 0.8102 - val_loss: 2.8944 - val_categorical_accuracy: 0.3000\n",
      "Epoch 16/22\n",
      "33/34 [============================>.] - ETA: 4s - loss: 0.4925 - categorical_accuracy: 0.8076\n",
      "Epoch 00016: saving model to model_init_2020-12-2805_44_48.018306/model-00016-0.50009-0.80543-2.62145-0.34000.h5\n",
      "34/34 [==============================] - 177s 5s/step - loss: 0.5406 - categorical_accuracy: 0.7940 - val_loss: 2.6215 - val_categorical_accuracy: 0.3400\n",
      "Epoch 17/22\n",
      "33/34 [============================>.] - ETA: 4s - loss: 0.4909 - categorical_accuracy: 0.8197\n",
      "Epoch 00017: saving model to model_init_2020-12-2805_44_48.018306/model-00017-0.49365-0.81750-2.10292-0.36000.h5\n",
      "34/34 [==============================] - 175s 5s/step - loss: 0.5085 - categorical_accuracy: 0.8057 - val_loss: 2.1029 - val_categorical_accuracy: 0.3600\n",
      "Epoch 18/22\n",
      "33/34 [============================>.] - ETA: 4s - loss: 0.4754 - categorical_accuracy: 0.8159\n",
      "Epoch 00018: saving model to model_init_2020-12-2805_44_48.018306/model-00018-0.47782-0.81448-2.09912-0.38000.h5\n",
      "34/34 [==============================] - 174s 5s/step - loss: 0.4908 - categorical_accuracy: 0.8068 - val_loss: 2.0991 - val_categorical_accuracy: 0.3800\n",
      "Epoch 19/22\n",
      "33/34 [============================>.] - ETA: 4s - loss: 0.4573 - categorical_accuracy: 0.8280\n",
      "Epoch 00019: saving model to model_init_2020-12-2805_44_48.018306/model-00019-0.46469-0.82579-1.88558-0.35000.h5\n",
      "34/34 [==============================] - 174s 5s/step - loss: 0.5039 - categorical_accuracy: 0.8138 - val_loss: 1.8856 - val_categorical_accuracy: 0.3500\n",
      "Epoch 20/22\n",
      "33/34 [============================>.] - ETA: 4s - loss: 0.4811 - categorical_accuracy: 0.8212\n",
      "Epoch 00020: saving model to model_init_2020-12-2805_44_48.018306/model-00020-0.48402-0.82051-2.02267-0.42000.h5\n",
      "34/34 [==============================] - 174s 5s/step - loss: 0.4996 - categorical_accuracy: 0.8168 - val_loss: 2.0227 - val_categorical_accuracy: 0.4200\n",
      "Epoch 21/22\n",
      "33/34 [============================>.] - ETA: 4s - loss: 0.4861 - categorical_accuracy: 0.8182\n",
      "Epoch 00021: saving model to model_init_2020-12-2805_44_48.018306/model-00021-0.49098-0.81750-1.66845-0.46000.h5\n",
      "34/34 [==============================] - 170s 5s/step - loss: 0.5172 - categorical_accuracy: 0.8138 - val_loss: 1.6684 - val_categorical_accuracy: 0.4600\n",
      "Epoch 22/22\n",
      "33/34 [============================>.] - ETA: 4s - loss: 0.4836 - categorical_accuracy: 0.8114\n",
      "Epoch 00022: saving model to model_init_2020-12-2805_44_48.018306/model-00022-0.48743-0.81071-1.51739-0.51000.h5\n",
      "34/34 [==============================] - 174s 5s/step - loss: 0.5081 - categorical_accuracy: 0.8072 - val_loss: 1.5174 - val_categorical_accuracy: 0.5100\n"
     ]
    }
   ],
   "source": [
    "print(\"Total Params:\", conv_3d5_model.count_params())\n",
    "history_model5=conv_3d5.train_model(conv_3d5_model,augment_data=True)"
   ]
  },
  {
   "cell_type": "code",
   "execution_count": 19,
   "metadata": {},
   "outputs": [
    {
     "data": {
      "image/png": "[encoded data removed]",
      "text/plain": [
       "<Figure size 1080x288 with 2 Axes>"
      ]
     },
     "metadata": {},
     "output_type": "display_data"
    }
   ],
   "source": [
    "plot(history_model5)"
   ]
  },
  {
   "cell_type": "markdown",
   "metadata": {
    "collapsed": true
   },
   "source": [
    "Adding dropouts has further reduced validation accuracy as its not to learn  generalizable features"
   ]
  },
  {
   "cell_type": "markdown",
   "metadata": {},
   "source": [
    "Let's try to reduce the model size and see the performance"
   ]
  },
  {
   "cell_type": "markdown",
   "metadata": {},
   "source": [
    "# Model 6\n",
    "Reducing the number of parameters"
   ]
  },
  {
   "cell_type": "code",
   "execution_count": 20,
   "metadata": {},
   "outputs": [],
   "source": [
    "class ModelConv3D6(ModelBuilder):\n",
    "    \n",
    "    def define_model(self,dense_neurons=64,dropout=0.25):\n",
    "\n",
    "        model = Sequential()\n",
    "        model.add(Conv3D(8, (3, 3, 3), padding='same',\n",
    "                 input_shape=(self.frames_to_sample,self.image_height,self.image_width,self.channels)))\n",
    "        model.add(Activation('relu'))\n",
    "        model.add(BatchNormalization())\n",
    "        model.add(MaxPooling3D(pool_size=(2, 2, 2)))\n",
    "\n",
    "        model.add(Conv3D(16, (3, 3, 3), padding='same'))\n",
    "        model.add(Activation('relu'))\n",
    "        model.add(BatchNormalization())\n",
    "        model.add(MaxPooling3D(pool_size=(2, 2, 2)))\n",
    "\n",
    "        model.add(Conv3D(32, (2, 2, 2), padding='same'))\n",
    "        model.add(Activation('relu'))\n",
    "        model.add(BatchNormalization())\n",
    "        model.add(MaxPooling3D(pool_size=(2, 2, 2)))\n",
    "\n",
    "        model.add(Conv3D(64, (2, 2, 2), padding='same'))\n",
    "        model.add(Activation('relu'))\n",
    "        model.add(BatchNormalization())\n",
    "        model.add(MaxPooling3D(pool_size=(2, 2, 2)))\n",
    "        \n",
    "        model.add(Flatten())\n",
    "        model.add(Dense(dense_neurons,activation='relu'))\n",
    "        model.add(BatchNormalization())\n",
    "        model.add(Dropout(dropout))\n",
    "\n",
    "        model.add(Dense(dense_neurons,activation='relu'))\n",
    "        model.add(BatchNormalization())\n",
    "        model.add(Dropout(dropout))\n",
    "\n",
    "        model.add(Dense(self.num_classes,activation='softmax'))\n",
    "\n",
    "        optimiser = optimizers.Adam(lr=0.0002)\n",
    "        model.compile(optimizer=optimiser, loss='categorical_crossentropy', metrics=['categorical_accuracy'])\n",
    "        return model"
   ]
  },
  {
   "cell_type": "code",
   "execution_count": 21,
   "metadata": {
    "scrolled": true
   },
   "outputs": [
    {
     "name": "stdout",
     "output_type": "stream",
     "text": [
      "_________________________________________________________________\n",
      "Layer (type)                 Output Shape              Param #   \n",
      "=================================================================\n",
      "conv3d_20 (Conv3D)           (None, 16, 120, 120, 8)   656       \n",
      "_________________________________________________________________\n",
      "activation_20 (Activation)   (None, 16, 120, 120, 8)   0         \n",
      "_________________________________________________________________\n",
      "batch_normalization_26 (Batc (None, 16, 120, 120, 8)   32        \n",
      "_________________________________________________________________\n",
      "max_pooling3d_12 (MaxPooling (None, 8, 60, 60, 8)      0         \n",
      "_________________________________________________________________\n",
      "conv3d_21 (Conv3D)           (None, 8, 60, 60, 16)     3472      \n",
      "_________________________________________________________________\n",
      "activation_21 (Activation)   (None, 8, 60, 60, 16)     0         \n",
      "_________________________________________________________________\n",
      "batch_normalization_27 (Batc (None, 8, 60, 60, 16)     64        \n",
      "_________________________________________________________________\n",
      "max_pooling3d_13 (MaxPooling (None, 4, 30, 30, 16)     0         \n",
      "_________________________________________________________________\n",
      "conv3d_22 (Conv3D)           (None, 4, 30, 30, 32)     4128      \n",
      "_________________________________________________________________\n",
      "activation_22 (Activation)   (None, 4, 30, 30, 32)     0         \n",
      "_________________________________________________________________\n",
      "batch_normalization_28 (Batc (None, 4, 30, 30, 32)     128       \n",
      "_________________________________________________________________\n",
      "max_pooling3d_14 (MaxPooling (None, 2, 15, 15, 32)     0         \n",
      "_________________________________________________________________\n",
      "conv3d_23 (Conv3D)           (None, 2, 15, 15, 64)     16448     \n",
      "_________________________________________________________________\n",
      "activation_23 (Activation)   (None, 2, 15, 15, 64)     0         \n",
      "_________________________________________________________________\n",
      "batch_normalization_29 (Batc (None, 2, 15, 15, 64)     256       \n",
      "_________________________________________________________________\n",
      "max_pooling3d_15 (MaxPooling (None, 1, 7, 7, 64)       0         \n",
      "_________________________________________________________________\n",
      "flatten_3 (Flatten)          (None, 3136)              0         \n",
      "_________________________________________________________________\n",
      "dense_9 (Dense)              (None, 64)                200768    \n",
      "_________________________________________________________________\n",
      "batch_normalization_30 (Batc (None, 64)                256       \n",
      "_________________________________________________________________\n",
      "dropout_10 (Dropout)         (None, 64)                0         \n",
      "_________________________________________________________________\n",
      "dense_10 (Dense)             (None, 64)                4160      \n",
      "_________________________________________________________________\n",
      "batch_normalization_31 (Batc (None, 64)                256       \n",
      "_________________________________________________________________\n",
      "dropout_11 (Dropout)         (None, 64)                0         \n",
      "_________________________________________________________________\n",
      "dense_11 (Dense)             (None, 5)                 325       \n",
      "=================================================================\n",
      "Total params: 230,949\n",
      "Trainable params: 230,453\n",
      "Non-trainable params: 496\n",
      "_________________________________________________________________\n"
     ]
    }
   ],
   "source": [
    "conv_3d6=ModelConv3D6()\n",
    "conv_3d6.initialize_path(project_folder)\n",
    "conv_3d6.initialize_image_properties(image_height=120,image_width=120)\n",
    "conv_3d6.initialize_hyperparams(frames_to_sample=16,batch_size=20,num_epochs=30)\n",
    "conv_3d6_model=conv_3d6.define_model(dense_neurons=64,dropout=0.25)\n",
    "conv_3d6_model.summary()"
   ]
  },
  {
   "cell_type": "code",
   "execution_count": 22,
   "metadata": {
    "scrolled": true
   },
   "outputs": [
    {
     "name": "stdout",
     "output_type": "stream",
     "text": [
      "Total Params: 230949\n",
      "Epoch 1/30\n",
      "33/34 [============================>.] - ETA: 4s - loss: 2.0517 - categorical_accuracy: 0.3045\n",
      "Epoch 00001: saving model to model_init_2020-12-2806_48_58.558833/model-00001-2.04992-0.30468-1.66249-0.16000.h5\n",
      "34/34 [==============================] - 183s 5s/step - loss: 2.0405 - categorical_accuracy: 0.3054 - val_loss: 1.6625 - val_categorical_accuracy: 0.1600\n",
      "Epoch 2/30\n",
      "33/34 [============================>.] - ETA: 4s - loss: 1.5161 - categorical_accuracy: 0.4394\n",
      "Epoch 00002: saving model to model_init_2020-12-2806_48_58.558833/model-00002-1.51632-0.43816-2.03305-0.19000.h5\n",
      "34/34 [==============================] - 160s 5s/step - loss: 1.5175 - categorical_accuracy: 0.4316 - val_loss: 2.0330 - val_categorical_accuracy: 0.1900\n",
      "Epoch 3/30\n",
      "33/34 [============================>.] - ETA: 4s - loss: 1.3307 - categorical_accuracy: 0.4894\n",
      "Epoch 00003: saving model to model_init_2020-12-2806_48_58.558833/model-00003-1.33361-0.48793-2.57593-0.13000.h5\n",
      "34/34 [==============================] - 164s 5s/step - loss: 1.3493 - categorical_accuracy: 0.4801 - val_loss: 2.5759 - val_categorical_accuracy: 0.1300\n",
      "Epoch 4/30\n",
      "33/34 [============================>.] - ETA: 4s - loss: 1.1872 - categorical_accuracy: 0.5386\n",
      "Epoch 00004: saving model to model_init_2020-12-2806_48_58.558833/model-00004-1.19402-0.53695-2.85952-0.27000.h5\n",
      "34/34 [==============================] - 165s 5s/step - loss: 1.2307 - categorical_accuracy: 0.5280 - val_loss: 2.8595 - val_categorical_accuracy: 0.2700\n",
      "Epoch 5/30\n",
      "33/34 [============================>.] - ETA: 4s - loss: 1.1356 - categorical_accuracy: 0.5598\n",
      "Epoch 00005: saving model to model_init_2020-12-2806_48_58.558833/model-00005-1.14089-0.55958-3.03640-0.21000.h5\n",
      "\n",
      "Epoch 00005: ReduceLROnPlateau reducing learning rate to 3.9999998989515007e-05.\n",
      "34/34 [==============================] - 161s 5s/step - loss: 1.1692 - categorical_accuracy: 0.5581 - val_loss: 3.0364 - val_categorical_accuracy: 0.2100\n",
      "Epoch 6/30\n",
      "33/34 [============================>.] - ETA: 4s - loss: 1.0529 - categorical_accuracy: 0.5917\n",
      "Epoch 00006: saving model to model_init_2020-12-2806_48_58.558833/model-00006-1.05587-0.59125-3.26111-0.22000.h5\n",
      "34/34 [==============================] - 161s 5s/step - loss: 1.0718 - categorical_accuracy: 0.5890 - val_loss: 3.2611 - val_categorical_accuracy: 0.2200\n",
      "Epoch 7/30\n",
      "33/34 [============================>.] - ETA: 4s - loss: 1.0177 - categorical_accuracy: 0.6242\n",
      "Epoch 00007: saving model to model_init_2020-12-2806_48_58.558833/model-00007-1.01506-0.62519-3.18568-0.25000.h5\n",
      "34/34 [==============================] - 164s 5s/step - loss: 1.0010 - categorical_accuracy: 0.6302 - val_loss: 3.1857 - val_categorical_accuracy: 0.2500\n",
      "Epoch 8/30\n",
      "33/34 [============================>.] - ETA: 4s - loss: 0.9558 - categorical_accuracy: 0.6280\n",
      "Epoch 00008: saving model to model_init_2020-12-2806_48_58.558833/model-00008-0.96133-0.62594-2.76423-0.34000.h5\n",
      "34/34 [==============================] - 166s 5s/step - loss: 0.9910 - categorical_accuracy: 0.6148 - val_loss: 2.7642 - val_categorical_accuracy: 0.3400\n",
      "Epoch 9/30\n",
      "33/34 [============================>.] - ETA: 4s - loss: 0.9285 - categorical_accuracy: 0.6424\n",
      "Epoch 00009: saving model to model_init_2020-12-2806_48_58.558833/model-00009-0.93952-0.64027-2.40244-0.32000.h5\n",
      "\n",
      "Epoch 00009: ReduceLROnPlateau reducing learning rate to 7.999999797903002e-06.\n",
      "34/34 [==============================] - 161s 5s/step - loss: 0.9985 - categorical_accuracy: 0.6288 - val_loss: 2.4024 - val_categorical_accuracy: 0.3200\n",
      "Epoch 10/30\n",
      "33/34 [============================>.] - ETA: 4s - loss: 0.9232 - categorical_accuracy: 0.6280\n",
      "Epoch 00010: saving model to model_init_2020-12-2806_48_58.558833/model-00010-0.92483-0.62745-2.14347-0.36000.h5\n",
      "34/34 [==============================] - 162s 5s/step - loss: 0.9337 - categorical_accuracy: 0.6244 - val_loss: 2.1435 - val_categorical_accuracy: 0.3600\n",
      "Epoch 11/30\n",
      "33/34 [============================>.] - ETA: 4s - loss: 0.9899 - categorical_accuracy: 0.6159\n",
      "Epoch 00011: saving model to model_init_2020-12-2806_48_58.558833/model-00011-0.98886-0.61689-1.79980-0.41000.h5\n",
      "34/34 [==============================] - 162s 5s/step - loss: 0.9833 - categorical_accuracy: 0.6221 - val_loss: 1.7998 - val_categorical_accuracy: 0.4100\n",
      "Epoch 12/30\n",
      "33/34 [============================>.] - ETA: 4s - loss: 0.9336 - categorical_accuracy: 0.6470\n",
      "Epoch 00012: saving model to model_init_2020-12-2806_48_58.558833/model-00012-0.93545-0.64555-1.45534-0.54000.h5\n",
      "34/34 [==============================] - 162s 5s/step - loss: 0.9455 - categorical_accuracy: 0.6380 - val_loss: 1.4553 - val_categorical_accuracy: 0.5400\n",
      "Epoch 13/30\n",
      "33/34 [============================>.] - ETA: 4s - loss: 0.9242 - categorical_accuracy: 0.6470\n",
      "Epoch 00013: saving model to model_init_2020-12-2806_48_58.558833/model-00013-0.92710-0.64480-1.33603-0.56000.h5\n",
      "34/34 [==============================] - 163s 5s/step - loss: 0.9427 - categorical_accuracy: 0.6332 - val_loss: 1.3360 - val_categorical_accuracy: 0.5600\n",
      "Epoch 14/30\n",
      "33/34 [============================>.] - ETA: 4s - loss: 0.9551 - categorical_accuracy: 0.6379\n",
      "Epoch 00014: saving model to model_init_2020-12-2806_48_58.558833/model-00014-0.95608-0.63650-1.12770-0.59000.h5\n",
      "34/34 [==============================] - 164s 5s/step - loss: 0.9611 - categorical_accuracy: 0.6291 - val_loss: 1.1277 - val_categorical_accuracy: 0.5900\n",
      "Epoch 15/30\n",
      "33/34 [============================>.] - ETA: 4s - loss: 0.9492 - categorical_accuracy: 0.6356\n",
      "Epoch 00015: saving model to model_init_2020-12-2806_48_58.558833/model-00015-0.95004-0.63499-1.11156-0.57000.h5\n",
      "34/34 [==============================] - 162s 5s/step - loss: 0.9545 - categorical_accuracy: 0.6317 - val_loss: 1.1116 - val_categorical_accuracy: 0.5700\n",
      "Epoch 16/30\n",
      "33/34 [============================>.] - ETA: 4s - loss: 0.8745 - categorical_accuracy: 0.6773\n",
      "Epoch 00016: saving model to model_init_2020-12-2806_48_58.558833/model-00016-0.87376-0.67798-1.08102-0.60000.h5\n",
      "34/34 [==============================] - 164s 5s/step - loss: 0.8700 - categorical_accuracy: 0.6818 - val_loss: 1.0810 - val_categorical_accuracy: 0.6000\n",
      "Epoch 17/30\n",
      "33/34 [============================>.] - ETA: 4s - loss: 0.8911 - categorical_accuracy: 0.6583\n",
      "Epoch 00017: saving model to model_init_2020-12-2806_48_58.558833/model-00017-0.89330-0.65762-1.07077-0.62000.h5\n",
      "34/34 [==============================] - 157s 5s/step - loss: 0.9053 - categorical_accuracy: 0.6538 - val_loss: 1.0708 - val_categorical_accuracy: 0.6200\n",
      "Epoch 18/30\n",
      "33/34 [============================>.] - ETA: 4s - loss: 0.8977 - categorical_accuracy: 0.6508\n",
      "Epoch 00018: saving model to model_init_2020-12-2806_48_58.558833/model-00018-0.89808-0.65083-1.00930-0.65000.h5\n",
      "34/34 [==============================] - 164s 5s/step - loss: 0.9004 - categorical_accuracy: 0.6512 - val_loss: 1.0093 - val_categorical_accuracy: 0.6500\n",
      "Epoch 19/30\n",
      "33/34 [============================>.] - ETA: 4s - loss: 0.9536 - categorical_accuracy: 0.6455\n",
      "Epoch 00019: saving model to model_init_2020-12-2806_48_58.558833/model-00019-0.95348-0.64555-1.09194-0.65000.h5\n",
      "34/34 [==============================] - 162s 5s/step - loss: 0.9526 - categorical_accuracy: 0.6461 - val_loss: 1.0919 - val_categorical_accuracy: 0.6500\n",
      "Epoch 20/30\n",
      "33/34 [============================>.] - ETA: 4s - loss: 0.8452 - categorical_accuracy: 0.6856\n",
      "Epoch 00020: saving model to model_init_2020-12-2806_48_58.558833/model-00020-0.84777-0.68477-0.94720-0.66000.h5\n",
      "34/34 [==============================] - 164s 5s/step - loss: 0.8616 - categorical_accuracy: 0.6803 - val_loss: 0.9472 - val_categorical_accuracy: 0.6600\n",
      "Epoch 21/30\n",
      "33/34 [============================>.] - ETA: 4s - loss: 0.9324 - categorical_accuracy: 0.6409\n",
      "Epoch 00021: saving model to model_init_2020-12-2806_48_58.558833/model-00021-0.93630-0.63876-1.00247-0.64000.h5\n",
      "34/34 [==============================] - 161s 5s/step - loss: 0.9571 - categorical_accuracy: 0.6273 - val_loss: 1.0025 - val_categorical_accuracy: 0.6400\n",
      "Epoch 22/30\n",
      "33/34 [============================>.] - ETA: 4s - loss: 0.9181 - categorical_accuracy: 0.6348\n",
      "Epoch 00022: saving model to model_init_2020-12-2806_48_58.558833/model-00022-0.91761-0.63575-0.98455-0.64000.h5\n",
      "34/34 [==============================] - 163s 5s/step - loss: 0.9149 - categorical_accuracy: 0.6405 - val_loss: 0.9846 - val_categorical_accuracy: 0.6400\n"
     ]
    },
    {
     "name": "stdout",
     "output_type": "stream",
     "text": [
      "Epoch 23/30\n",
      "33/34 [============================>.] - ETA: 4s - loss: 0.8973 - categorical_accuracy: 0.6394\n",
      "Epoch 00023: saving model to model_init_2020-12-2806_48_58.558833/model-00023-0.90025-0.63876-1.01030-0.66000.h5\n",
      "34/34 [==============================] - 161s 5s/step - loss: 0.9162 - categorical_accuracy: 0.6354 - val_loss: 1.0103 - val_categorical_accuracy: 0.6600\n",
      "Epoch 24/30\n",
      "33/34 [============================>.] - ETA: 4s - loss: 0.8950 - categorical_accuracy: 0.6644\n",
      "Epoch 00024: saving model to model_init_2020-12-2806_48_58.558833/model-00024-0.89421-0.66365-0.93302-0.66000.h5\n",
      "34/34 [==============================] - 162s 5s/step - loss: 0.8900 - categorical_accuracy: 0.6597 - val_loss: 0.9330 - val_categorical_accuracy: 0.6600\n",
      "Epoch 25/30\n",
      "33/34 [============================>.] - ETA: 4s - loss: 0.9171 - categorical_accuracy: 0.6553\n",
      "Epoch 00025: saving model to model_init_2020-12-2806_48_58.558833/model-00025-0.91925-0.65535-0.91726-0.70000.h5\n",
      "34/34 [==============================] - 161s 5s/step - loss: 0.9305 - categorical_accuracy: 0.6556 - val_loss: 0.9173 - val_categorical_accuracy: 0.7000\n",
      "Epoch 26/30\n",
      "33/34 [============================>.] - ETA: 4s - loss: 0.8590 - categorical_accuracy: 0.6742\n",
      "Epoch 00026: saving model to model_init_2020-12-2806_48_58.558833/model-00026-0.86276-0.67270-0.99250-0.65000.h5\n",
      "34/34 [==============================] - 162s 5s/step - loss: 0.8830 - categorical_accuracy: 0.6645 - val_loss: 0.9925 - val_categorical_accuracy: 0.6500\n",
      "Epoch 27/30\n",
      "33/34 [============================>.] - ETA: 4s - loss: 0.8785 - categorical_accuracy: 0.6614\n",
      "Epoch 00027: saving model to model_init_2020-12-2806_48_58.558833/model-00027-0.87782-0.66139-0.95248-0.64000.h5\n",
      "34/34 [==============================] - 162s 5s/step - loss: 0.8739 - categorical_accuracy: 0.6615 - val_loss: 0.9525 - val_categorical_accuracy: 0.6400\n",
      "Epoch 28/30\n",
      "33/34 [============================>.] - ETA: 4s - loss: 0.8832 - categorical_accuracy: 0.6576\n",
      "Epoch 00028: saving model to model_init_2020-12-2806_48_58.558833/model-00028-0.88614-0.65762-0.98530-0.68000.h5\n",
      "34/34 [==============================] - 163s 5s/step - loss: 0.9021 - categorical_accuracy: 0.6578 - val_loss: 0.9853 - val_categorical_accuracy: 0.6800\n",
      "Epoch 29/30\n",
      "33/34 [============================>.] - ETA: 4s - loss: 0.8248 - categorical_accuracy: 0.6879\n",
      "Epoch 00029: saving model to model_init_2020-12-2806_48_58.558833/model-00029-0.82902-0.68778-0.91105-0.64000.h5\n",
      "34/34 [==============================] - 161s 5s/step - loss: 0.8516 - categorical_accuracy: 0.6873 - val_loss: 0.9111 - val_categorical_accuracy: 0.6400\n",
      "Epoch 30/30\n",
      "33/34 [============================>.] - ETA: 4s - loss: 0.8915 - categorical_accuracy: 0.6598\n",
      "Epoch 00030: saving model to model_init_2020-12-2806_48_58.558833/model-00030-0.88889-0.66139-0.91926-0.68000.h5\n",
      "34/34 [==============================] - 165s 5s/step - loss: 0.8747 - categorical_accuracy: 0.6696 - val_loss: 0.9193 - val_categorical_accuracy: 0.6800\n"
     ]
    }
   ],
   "source": [
    "print(\"Total Params:\", conv_3d6_model.count_params())\n",
    "history_model6=conv_3d6.train_model(conv_3d6_model,augment_data=True)"
   ]
  },
  {
   "cell_type": "code",
   "execution_count": 23,
   "metadata": {},
   "outputs": [
    {
     "data": {
      "image/png": "[encoded data removed]",
      "text/plain": [
       "<Figure size 1080x288 with 2 Axes>"
      ]
     },
     "metadata": {},
     "output_type": "display_data"
    }
   ],
   "source": [
    "plot(history_model6)"
   ]
  },
  {
   "cell_type": "markdown",
   "metadata": {
    "collapsed": true
   },
   "source": [
    "For the above low memory foot print model the best validation accuracy of 78%"
   ]
  },
  {
   "cell_type": "markdown",
   "metadata": {},
   "source": [
    "# Model 7\n",
    "Implementing a CNN LSTM Model"
   ]
  },
  {
   "cell_type": "code",
   "execution_count": 24,
   "metadata": {},
   "outputs": [],
   "source": [
    "class RNNCNN1(ModelBuilder):\n",
    "    \n",
    "    def define_model(self,lstm_cells=64,dense_neurons=64,dropout=0.25):\n",
    "\n",
    "        model = Sequential()\n",
    "        \n",
    "        model.add(TimeDistributed(Conv2D(16, (3, 3) , padding='same', activation='relu'),\n",
    "                                  input_shape=(self.frames_to_sample,self.image_height,self.image_width,self.channels)))\n",
    "        model.add(TimeDistributed(BatchNormalization()))\n",
    "        model.add(TimeDistributed(MaxPooling2D((2, 2))))\n",
    "        \n",
    "        model.add(TimeDistributed(Conv2D(32, (3, 3) , padding='same', activation='relu')))\n",
    "        model.add(TimeDistributed(BatchNormalization()))\n",
    "        model.add(TimeDistributed(MaxPooling2D((2, 2))))\n",
    "        \n",
    "        model.add(TimeDistributed(Conv2D(64, (3, 3) , padding='same', activation='relu')))\n",
    "        model.add(TimeDistributed(BatchNormalization()))\n",
    "        model.add(TimeDistributed(MaxPooling2D((2, 2))))\n",
    "        \n",
    "        model.add(TimeDistributed(Conv2D(128, (3, 3) , padding='same', activation='relu')))\n",
    "        model.add(TimeDistributed(BatchNormalization()))\n",
    "        model.add(TimeDistributed(MaxPooling2D((2, 2))))\n",
    "        \n",
    "        model.add(TimeDistributed(Conv2D(256, (3, 3) , padding='same', activation='relu')))\n",
    "        model.add(TimeDistributed(BatchNormalization()))\n",
    "        model.add(TimeDistributed(MaxPooling2D((2, 2))))\n",
    "        \n",
    "        model.add(TimeDistributed(Flatten()))\n",
    "        \n",
    "        model.add(LSTM(lstm_cells))\n",
    "        model.add(Dropout(dropout))\n",
    "        \n",
    "        model.add(Dense(dense_neurons,activation='relu'))\n",
    "        model.add(Dropout(dropout))\n",
    "        \n",
    "        model.add(Dense(self.num_classes, activation='softmax'))\n",
    "        optimiser = optimizers.Adam()\n",
    "        model.compile(optimizer=optimiser, loss='categorical_crossentropy', metrics=['categorical_accuracy'])\n",
    "        return model"
   ]
  },
  {
   "cell_type": "code",
   "execution_count": 25,
   "metadata": {
    "scrolled": true
   },
   "outputs": [
    {
     "name": "stdout",
     "output_type": "stream",
     "text": [
      "_________________________________________________________________\n",
      "Layer (type)                 Output Shape              Param #   \n",
      "=================================================================\n",
      "time_distributed (TimeDistri (None, 18, 120, 120, 16)  448       \n",
      "_________________________________________________________________\n",
      "time_distributed_1 (TimeDist (None, 18, 120, 120, 16)  64        \n",
      "_________________________________________________________________\n",
      "time_distributed_2 (TimeDist (None, 18, 60, 60, 16)    0         \n",
      "_________________________________________________________________\n",
      "time_distributed_3 (TimeDist (None, 18, 60, 60, 32)    4640      \n",
      "_________________________________________________________________\n",
      "time_distributed_4 (TimeDist (None, 18, 60, 60, 32)    128       \n",
      "_________________________________________________________________\n",
      "time_distributed_5 (TimeDist (None, 18, 30, 30, 32)    0         \n",
      "_________________________________________________________________\n",
      "time_distributed_6 (TimeDist (None, 18, 30, 30, 64)    18496     \n",
      "_________________________________________________________________\n",
      "time_distributed_7 (TimeDist (None, 18, 30, 30, 64)    256       \n",
      "_________________________________________________________________\n",
      "time_distributed_8 (TimeDist (None, 18, 15, 15, 64)    0         \n",
      "_________________________________________________________________\n",
      "time_distributed_9 (TimeDist (None, 18, 15, 15, 128)   73856     \n",
      "_________________________________________________________________\n",
      "time_distributed_10 (TimeDis (None, 18, 15, 15, 128)   512       \n",
      "_________________________________________________________________\n",
      "time_distributed_11 (TimeDis (None, 18, 7, 7, 128)     0         \n",
      "_________________________________________________________________\n",
      "time_distributed_12 (TimeDis (None, 18, 7, 7, 256)     295168    \n",
      "_________________________________________________________________\n",
      "time_distributed_13 (TimeDis (None, 18, 7, 7, 256)     1024      \n",
      "_________________________________________________________________\n",
      "time_distributed_14 (TimeDis (None, 18, 3, 3, 256)     0         \n",
      "_________________________________________________________________\n",
      "time_distributed_15 (TimeDis (None, 18, 2304)          0         \n",
      "_________________________________________________________________\n",
      "lstm (LSTM)                  (None, 128)               1245696   \n",
      "_________________________________________________________________\n",
      "dropout_12 (Dropout)         (None, 128)               0         \n",
      "_________________________________________________________________\n",
      "dense_12 (Dense)             (None, 128)               16512     \n",
      "_________________________________________________________________\n",
      "dropout_13 (Dropout)         (None, 128)               0         \n",
      "_________________________________________________________________\n",
      "dense_13 (Dense)             (None, 5)                 645       \n",
      "=================================================================\n",
      "Total params: 1,657,445\n",
      "Trainable params: 1,656,453\n",
      "Non-trainable params: 992\n",
      "_________________________________________________________________\n"
     ]
    }
   ],
   "source": [
    "rnn_cnn1=RNNCNN1()\n",
    "rnn_cnn1.initialize_path(project_folder)\n",
    "rnn_cnn1.initialize_image_properties(image_height=120,image_width=120)\n",
    "rnn_cnn1.initialize_hyperparams(frames_to_sample=18,batch_size=20,num_epochs=20)\n",
    "rnn_cnn1_model=rnn_cnn1.define_model(lstm_cells=128,dense_neurons=128,dropout=0.25)\n",
    "rnn_cnn1_model.summary()"
   ]
  },
  {
   "cell_type": "code",
   "execution_count": 26,
   "metadata": {
    "scrolled": true
   },
   "outputs": [
    {
     "name": "stdout",
     "output_type": "stream",
     "text": [
      "Total Params: 1657445\n",
      "Epoch 1/20\n",
      "33/34 [============================>.] - ETA: 7s - loss: 1.4454 - categorical_accuracy: 0.3720 \n",
      "Epoch 00001: saving model to model_init_2020-12-2808_10_34.079482/model-00001-1.44490-0.37179-1.64519-0.15000.h5\n",
      "34/34 [==============================] - 286s 8s/step - loss: 1.4421 - categorical_accuracy: 0.3709 - val_loss: 1.6452 - val_categorical_accuracy: 0.1500\n",
      "Epoch 2/20\n",
      "33/34 [============================>.] - ETA: 4s - loss: 1.1560 - categorical_accuracy: 0.5250\n",
      "Epoch 00002: saving model to model_init_2020-12-2808_10_34.079482/model-00002-1.15317-0.52715-1.97900-0.19000.h5\n",
      "34/34 [==============================] - 168s 5s/step - loss: 1.1379 - categorical_accuracy: 0.5386 - val_loss: 1.9790 - val_categorical_accuracy: 0.1900\n",
      "Epoch 3/20\n",
      "33/34 [============================>.] - ETA: 4s - loss: 0.9793 - categorical_accuracy: 0.6076\n",
      "Epoch 00003: saving model to model_init_2020-12-2808_10_34.079482/model-00003-0.97631-0.60935-2.26500-0.20000.h5\n",
      "34/34 [==============================] - 184s 5s/step - loss: 0.9605 - categorical_accuracy: 0.6188 - val_loss: 2.2650 - val_categorical_accuracy: 0.2000\n",
      "Epoch 4/20\n",
      "33/34 [============================>.] - ETA: 4s - loss: 0.8470 - categorical_accuracy: 0.6811\n",
      "Epoch 00004: saving model to model_init_2020-12-2808_10_34.079482/model-00004-0.85286-0.67949-2.04056-0.17000.h5\n",
      "34/34 [==============================] - 183s 5s/step - loss: 0.8840 - categorical_accuracy: 0.6711 - val_loss: 2.0406 - val_categorical_accuracy: 0.1700\n",
      "Epoch 5/20\n",
      "33/34 [============================>.] - ETA: 4s - loss: 0.8307 - categorical_accuracy: 0.6917\n",
      "Epoch 00005: saving model to model_init_2020-12-2808_10_34.079482/model-00005-0.83876-0.68854-2.18426-0.22000.h5\n",
      "\n",
      "Epoch 00005: ReduceLROnPlateau reducing learning rate to 0.00020000000949949026.\n",
      "34/34 [==============================] - 186s 5s/step - loss: 0.8821 - categorical_accuracy: 0.6718 - val_loss: 2.1843 - val_categorical_accuracy: 0.2200\n",
      "Epoch 6/20\n",
      "33/34 [============================>.] - ETA: 4s - loss: 0.7086 - categorical_accuracy: 0.7303\n",
      "Epoch 00006: saving model to model_init_2020-12-2808_10_34.079482/model-00006-0.70751-0.73152-1.96890-0.22000.h5\n",
      "34/34 [==============================] - 181s 5s/step - loss: 0.7017 - categorical_accuracy: 0.7380 - val_loss: 1.9689 - val_categorical_accuracy: 0.2200\n",
      "Epoch 7/20\n",
      "33/34 [============================>.] - ETA: 4s - loss: 0.5898 - categorical_accuracy: 0.7742\n",
      "Epoch 00007: saving model to model_init_2020-12-2808_10_34.079482/model-00007-0.59574-0.77225-1.96480-0.23000.h5\n",
      "34/34 [==============================] - 181s 5s/step - loss: 0.6275 - categorical_accuracy: 0.7616 - val_loss: 1.9648 - val_categorical_accuracy: 0.2300\n",
      "Epoch 8/20\n",
      "33/34 [============================>.] - ETA: 4s - loss: 0.5068 - categorical_accuracy: 0.8174\n",
      "Epoch 00008: saving model to model_init_2020-12-2808_10_34.079482/model-00008-0.51142-0.81448-2.14907-0.23000.h5\n",
      "34/34 [==============================] - 188s 6s/step - loss: 0.5359 - categorical_accuracy: 0.7987 - val_loss: 2.1491 - val_categorical_accuracy: 0.2300\n",
      "Epoch 9/20\n",
      "33/34 [============================>.] - ETA: 4s - loss: 0.4954 - categorical_accuracy: 0.8273\n",
      "Epoch 00009: saving model to model_init_2020-12-2808_10_34.079482/model-00009-0.49790-0.82655-2.23827-0.23000.h5\n",
      "\n",
      "Epoch 00009: ReduceLROnPlateau reducing learning rate to 4.0000001899898055e-05.\n",
      "34/34 [==============================] - 183s 5s/step - loss: 0.5110 - categorical_accuracy: 0.8227 - val_loss: 2.2383 - val_categorical_accuracy: 0.2300\n",
      "Epoch 10/20\n",
      "33/34 [============================>.] - ETA: 4s - loss: 0.4487 - categorical_accuracy: 0.8227\n",
      "Epoch 00010: saving model to model_init_2020-12-2808_10_34.079482/model-00010-0.44758-0.82353-1.94515-0.30000.h5\n",
      "34/34 [==============================] - 184s 5s/step - loss: 0.4415 - categorical_accuracy: 0.8278 - val_loss: 1.9452 - val_categorical_accuracy: 0.3000\n",
      "Epoch 11/20\n",
      "33/34 [============================>.] - ETA: 4s - loss: 0.3899 - categorical_accuracy: 0.8758\n",
      "Epoch 00011: saving model to model_init_2020-12-2808_10_34.079482/model-00011-0.39292-0.87406-1.61129-0.30000.h5\n",
      "34/34 [==============================] - 186s 5s/step - loss: 0.4090 - categorical_accuracy: 0.8650 - val_loss: 1.6113 - val_categorical_accuracy: 0.3000\n",
      "Epoch 12/20\n",
      "33/34 [============================>.] - ETA: 4s - loss: 0.3946 - categorical_accuracy: 0.8720\n",
      "Epoch 00012: saving model to model_init_2020-12-2808_10_34.079482/model-00012-0.39325-0.87255-1.42852-0.41000.h5\n",
      "34/34 [==============================] - 182s 5s/step - loss: 0.3862 - categorical_accuracy: 0.8756 - val_loss: 1.4285 - val_categorical_accuracy: 0.4100\n",
      "Epoch 13/20\n",
      "33/34 [============================>.] - ETA: 4s - loss: 0.3575 - categorical_accuracy: 0.8803\n",
      "Epoch 00013: saving model to model_init_2020-12-2808_10_34.079482/model-00013-0.36110-0.87858-1.09925-0.50000.h5\n",
      "34/34 [==============================] - 184s 5s/step - loss: 0.3802 - categorical_accuracy: 0.8694 - val_loss: 1.0992 - val_categorical_accuracy: 0.5000\n",
      "Epoch 14/20\n",
      "33/34 [============================>.] - ETA: 4s - loss: 0.3517 - categorical_accuracy: 0.8848\n",
      "Epoch 00014: saving model to model_init_2020-12-2808_10_34.079482/model-00014-0.35384-0.88386-0.80174-0.66000.h5\n",
      "34/34 [==============================] - 183s 5s/step - loss: 0.3653 - categorical_accuracy: 0.8786 - val_loss: 0.8017 - val_categorical_accuracy: 0.6600\n",
      "Epoch 15/20\n",
      "33/34 [============================>.] - ETA: 4s - loss: 0.3466 - categorical_accuracy: 0.8795\n",
      "Epoch 00015: saving model to model_init_2020-12-2808_10_34.079482/model-00015-0.35092-0.87783-0.87455-0.68000.h5\n",
      "34/34 [==============================] - 181s 5s/step - loss: 0.3742 - categorical_accuracy: 0.8687 - val_loss: 0.8746 - val_categorical_accuracy: 0.6800\n",
      "Epoch 16/20\n",
      "33/34 [============================>.] - ETA: 4s - loss: 0.3433 - categorical_accuracy: 0.8803\n",
      "Epoch 00016: saving model to model_init_2020-12-2808_10_34.079482/model-00016-0.34310-0.88084-0.68532-0.70000.h5\n",
      "34/34 [==============================] - 183s 5s/step - loss: 0.3418 - categorical_accuracy: 0.8837 - val_loss: 0.6853 - val_categorical_accuracy: 0.7000\n",
      "Epoch 17/20\n",
      "33/34 [============================>.] - ETA: 4s - loss: 0.3311 - categorical_accuracy: 0.8947\n",
      "Epoch 00017: saving model to model_init_2020-12-2808_10_34.079482/model-00017-0.33149-0.89367-0.64114-0.74000.h5\n",
      "34/34 [==============================] - 182s 5s/step - loss: 0.3334 - categorical_accuracy: 0.8882 - val_loss: 0.6411 - val_categorical_accuracy: 0.7400\n",
      "Epoch 18/20\n",
      "33/34 [============================>.] - ETA: 4s - loss: 0.3078 - categorical_accuracy: 0.9045\n",
      "Epoch 00018: saving model to model_init_2020-12-2808_10_34.079482/model-00018-0.30893-0.90422-0.64164-0.75000.h5\n",
      "34/34 [==============================] - 184s 5s/step - loss: 0.3147 - categorical_accuracy: 0.9025 - val_loss: 0.6416 - val_categorical_accuracy: 0.7500\n",
      "Epoch 19/20\n",
      "33/34 [============================>.] - ETA: 4s - loss: 0.3224 - categorical_accuracy: 0.8970\n",
      "Epoch 00019: saving model to model_init_2020-12-2808_10_34.079482/model-00019-0.32359-0.89593-0.49505-0.78000.h5\n",
      "34/34 [==============================] - 185s 5s/step - loss: 0.3299 - categorical_accuracy: 0.8904 - val_loss: 0.4951 - val_categorical_accuracy: 0.7800\n",
      "Epoch 20/20\n",
      "33/34 [============================>.] - ETA: 4s - loss: 0.3101 - categorical_accuracy: 0.8955\n",
      "Epoch 00020: saving model to model_init_2020-12-2808_10_34.079482/model-00020-0.31146-0.89442-0.61855-0.72000.h5\n",
      "34/34 [==============================] - 186s 5s/step - loss: 0.3189 - categorical_accuracy: 0.8889 - val_loss: 0.6186 - val_categorical_accuracy: 0.7200\n"
     ]
    }
   ],
   "source": [
    "print(\"Total Params:\", rnn_cnn1_model.count_params())\n",
    "history_model7=rnn_cnn1.train_model(rnn_cnn1_model,augment_data=True)"
   ]
  },
  {
   "cell_type": "code",
   "execution_count": 27,
   "metadata": {},
   "outputs": [
    {
     "data": {
      "image/png": "[encoded data removed]",
      "text/plain": [
       "<Figure size 1080x288 with 2 Axes>"
      ]
     },
     "metadata": {},
     "output_type": "display_data"
    }
   ],
   "source": [
    "plot(history_model7)"
   ]
  },
  {
   "cell_type": "markdown",
   "metadata": {
    "collapsed": true
   },
   "source": [
    "For CNN - LSTM model we got a best validation accuracy of 75%"
   ]
  },
  {
   "cell_type": "markdown",
   "metadata": {},
   "source": [
    "##### As we see more cases of overfitting, lets augment the data and run the same set of models again"
   ]
  },
  {
   "cell_type": "markdown",
   "metadata": {},
   "source": [
    "##### Adding More Augmentation"
   ]
  },
  {
   "cell_type": "code",
   "execution_count": 23,
   "metadata": {},
   "outputs": [],
   "source": [
    "class ModelBuilderMoreAugmentation(metaclass= abc.ABCMeta):\n",
    "    \n",
    "    def initialize_path(self,project_folder):\n",
    "        self.train_doc = np.random.permutation(open(project_folder + '/' + 'train.csv').readlines())\n",
    "        self.val_doc = np.random.permutation(open(project_folder + '/' + 'val.csv').readlines())\n",
    "        self.train_path = project_folder + '/' + 'train'\n",
    "        self.val_path =  project_folder + '/' + 'val'\n",
    "        self.num_train_sequences = len(self.train_doc)\n",
    "        self.num_val_sequences = len(self.val_doc)\n",
    "        \n",
    "    def initialize_image_properties(self,image_height=100,image_width=100):\n",
    "        self.image_height=image_height\n",
    "        self.image_width=image_width\n",
    "        self.channels=3\n",
    "        self.num_classes=5\n",
    "        self.total_frames=30\n",
    "          \n",
    "    def initialize_hyperparams(self,frames_to_sample=30,batch_size=20,num_epochs=20):\n",
    "        self.frames_to_sample=frames_to_sample\n",
    "        self.batch_size=batch_size\n",
    "        self.num_epochs=num_epochs\n",
    "        \n",
    "        \n",
    "    def generator(self,source_path, folder_list, augment=False):\n",
    "        img_idx = np.round(np.linspace(0,self.total_frames-1,self.frames_to_sample)).astype(int)\n",
    "        batch_size=self.batch_size\n",
    "        while True:\n",
    "            t = np.random.permutation(folder_list)\n",
    "            num_batches = len(t)//batch_size\n",
    "        \n",
    "            for batch in range(num_batches): \n",
    "                batch_data, batch_labels= self.one_batch_data(source_path,t,batch,batch_size,img_idx,augment)\n",
    "                yield batch_data, batch_labels \n",
    "\n",
    "            remaining_seq=len(t)%batch_size\n",
    "        \n",
    "            if (remaining_seq != 0):\n",
    "                batch_data, batch_labels= self.one_batch_data(source_path,t,num_batches,batch_size,img_idx,augment,remaining_seq)\n",
    "                yield batch_data, batch_labels \n",
    "    \n",
    "    \n",
    "    def one_batch_data(self,source_path,t,batch,batch_size,img_idx,augment,remaining_seq=0):\n",
    "    \n",
    "        seq_len = remaining_seq if remaining_seq else batch_size\n",
    "    \n",
    "        batch_data = np.zeros((seq_len,len(img_idx),self.image_height,self.image_width,self.channels)) \n",
    "        batch_labels = np.zeros((seq_len,self.num_classes)) \n",
    "    \n",
    "        if (augment): batch_data_aug = np.zeros((seq_len,len(img_idx),self.image_height,self.image_width,self.channels))\n",
    "\n",
    "        \n",
    "        for folder in range(seq_len): \n",
    "            imgs = os.listdir(source_path+'/'+ t[folder + (batch*batch_size)].split(';')[0]) \n",
    "            for idx,item in enumerate(img_idx): \n",
    "                image = imread(source_path+'/'+ t[folder + (batch*batch_size)].strip().split(';')[0]+'/'+imgs[item]).astype(np.float32)\n",
    "                image_resized=imresize(image,(self.image_height,self.image_width,3))\n",
    "            \n",
    "\n",
    "                batch_data[folder,idx,:,:,0] = (image_resized[:,:,0])/255\n",
    "                batch_data[folder,idx,:,:,1] = (image_resized[:,:,1])/255\n",
    "                batch_data[folder,idx,:,:,2] = (image_resized[:,:,2])/255\n",
    "            \n",
    "                if (augment):\n",
    "                    shifted = cv2.warpAffine(image, \n",
    "                                             np.float32([[1, 0, np.random.randint(-30,30)],[0, 1, np.random.randint(-30,30)]]), \n",
    "                                            (image.shape[1], image.shape[0]))\n",
    "                    \n",
    "                    gray = cv2.cvtColor(shifted,cv2.COLOR_BGR2GRAY)\n",
    "\n",
    "                    x0, y0 = np.argwhere(gray > 0).min(axis=0)\n",
    "                    x1, y1 = np.argwhere(gray > 0).max(axis=0) \n",
    "                    \n",
    "                    cropped=shifted[x0:x1,y0:y1,:]\n",
    "                    \n",
    "                    image_resized=imresize(cropped,(self.image_height,self.image_width,3))\n",
    "                    \n",
    "                    M = cv2.getRotationMatrix2D((self.image_width//2,self.image_height//2),\n",
    "                                                np.random.randint(-10,10), 1.0)\n",
    "                    rotated = cv2.warpAffine(image_resized, M, (self.image_width, self.image_height))\n",
    "                    \n",
    "                    batch_data_aug[folder,idx,:,:,0] = (rotated[:,:,0])/255\n",
    "                    batch_data_aug[folder,idx,:,:,1] = (rotated[:,:,1])/255\n",
    "                    batch_data_aug[folder,idx,:,:,2] = (rotated[:,:,2])/255\n",
    "                \n",
    "            \n",
    "            batch_labels[folder, int(t[folder + (batch*batch_size)].strip().split(';')[2])] = 1\n",
    "            \n",
    "    \n",
    "        if (augment):\n",
    "            batch_data=np.concatenate([batch_data,batch_data_aug])\n",
    "            batch_labels=np.concatenate([batch_labels,batch_labels])\n",
    "\n",
    "        \n",
    "        return(batch_data,batch_labels)\n",
    "    \n",
    "    \n",
    "    def train_model(self, model, augment_data=False):\n",
    "        train_generator = self.generator(self.train_path, self.train_doc,augment=augment_data)\n",
    "        val_generator = self.generator(self.val_path, self.val_doc)\n",
    "\n",
    "        model_name = 'model_init' + '_' + str(datetime.datetime.now()).replace(' ','').replace(':','_') + '/'\n",
    "    \n",
    "        if not os.path.exists(model_name):\n",
    "            os.mkdir(model_name)\n",
    "        \n",
    "        filepath = model_name + 'model-{epoch:05d}-{loss:.5f}-{categorical_accuracy:.5f}-{val_loss:.5f}-{val_categorical_accuracy:.5f}.h5'\n",
    "\n",
    "        checkpoint = ModelCheckpoint(filepath, monitor='val_loss', verbose=1, save_best_only=False, save_weights_only=False, mode='auto', period=1)\n",
    "        LR = ReduceLROnPlateau(monitor='val_loss', factor=0.2, verbose=1, patience=4)\n",
    "        callbacks_list = [checkpoint, LR]\n",
    "\n",
    "        if (self.num_train_sequences%self.batch_size) == 0:\n",
    "            steps_per_epoch = int(self.num_train_sequences/self.batch_size)\n",
    "        else:\n",
    "            steps_per_epoch = (self.num_train_sequences//self.batch_size) + 1\n",
    "\n",
    "        if (self.num_val_sequences%self.batch_size) == 0:\n",
    "            validation_steps = int(self.num_val_sequences/self.batch_size)\n",
    "        else:\n",
    "            validation_steps = (self.num_val_sequences//self.batch_size) + 1\n",
    "    \n",
    "        history=model.fit_generator(train_generator, steps_per_epoch=steps_per_epoch, epochs=self.num_epochs, verbose=1, \n",
    "                            callbacks=callbacks_list, validation_data=val_generator, \n",
    "                            validation_steps=validation_steps, class_weight=None, workers=1, initial_epoch=0)\n",
    "        return history\n",
    "\n",
    "        \n",
    "    @abc.abstractmethod\n",
    "    def define_model(self):\n",
    "        pass"
   ]
  },
  {
   "cell_type": "markdown",
   "metadata": {},
   "source": [
    "# Model 8\n",
    "(3,3,3) Filter & 160x160 Image resolution - Like Model no. 2"
   ]
  },
  {
   "cell_type": "code",
   "execution_count": 24,
   "metadata": {},
   "outputs": [],
   "source": [
    "class ModelConv3D8(ModelBuilderMoreAugmentation):\n",
    "    \n",
    "    def define_model(self,filtersize=(3,3,3),dense_neurons=64,dropout=0.25):\n",
    "\n",
    "        model = Sequential()\n",
    "        model.add(Conv3D(16, filtersize, padding='same',\n",
    "                 input_shape=(self.frames_to_sample,self.image_height,self.image_width,self.channels)))\n",
    "        model.add(Activation('relu'))\n",
    "        model.add(BatchNormalization())\n",
    "        model.add(MaxPooling3D(pool_size=(2, 2, 2)))\n",
    "\n",
    "        model.add(Conv3D(32, filtersize, padding='same'))\n",
    "        model.add(Activation('relu'))\n",
    "        model.add(BatchNormalization())\n",
    "        model.add(MaxPooling3D(pool_size=(2, 2, 2)))\n",
    "\n",
    "        model.add(Conv3D(64, filtersize, padding='same'))\n",
    "        model.add(Activation('relu'))\n",
    "        model.add(BatchNormalization())\n",
    "        model.add(MaxPooling3D(pool_size=(2, 2, 2)))\n",
    "\n",
    "        model.add(Conv3D(128, filtersize, padding='same'))\n",
    "        model.add(Activation('relu'))\n",
    "        model.add(BatchNormalization())\n",
    "        model.add(MaxPooling3D(pool_size=(2, 2, 2)))\n",
    "\n",
    "        model.add(Flatten())\n",
    "        model.add(Dense(dense_neurons,activation='relu'))\n",
    "        model.add(BatchNormalization())\n",
    "        model.add(Dropout(dropout))\n",
    "\n",
    "        model.add(Dense(dense_neurons,activation='relu'))\n",
    "        model.add(BatchNormalization())\n",
    "        model.add(Dropout(dropout))\n",
    "\n",
    "\n",
    "        model.add(Dense(self.num_classes,activation='softmax'))\n",
    "\n",
    "        optimiser = optimizers.Adam(lr=0.0002)\n",
    "        model.compile(optimizer=optimiser, loss='categorical_crossentropy', metrics=['categorical_accuracy'])\n",
    "        return model"
   ]
  },
  {
   "cell_type": "code",
   "execution_count": 25,
   "metadata": {
    "scrolled": true
   },
   "outputs": [
    {
     "name": "stdout",
     "output_type": "stream",
     "text": [
      "_________________________________________________________________\n",
      "Layer (type)                 Output Shape              Param #   \n",
      "=================================================================\n",
      "conv3d_12 (Conv3D)           (None, 20, 160, 160, 16)  1312      \n",
      "_________________________________________________________________\n",
      "activation_12 (Activation)   (None, 20, 160, 160, 16)  0         \n",
      "_________________________________________________________________\n",
      "batch_normalization_18 (Batc (None, 20, 160, 160, 16)  64        \n",
      "_________________________________________________________________\n",
      "max_pooling3d_12 (MaxPooling (None, 10, 80, 80, 16)    0         \n",
      "_________________________________________________________________\n",
      "conv3d_13 (Conv3D)           (None, 10, 80, 80, 32)    13856     \n",
      "_________________________________________________________________\n",
      "activation_13 (Activation)   (None, 10, 80, 80, 32)    0         \n",
      "_________________________________________________________________\n",
      "batch_normalization_19 (Batc (None, 10, 80, 80, 32)    128       \n",
      "_________________________________________________________________\n",
      "max_pooling3d_13 (MaxPooling (None, 5, 40, 40, 32)     0         \n",
      "_________________________________________________________________\n",
      "conv3d_14 (Conv3D)           (None, 5, 40, 40, 64)     55360     \n",
      "_________________________________________________________________\n",
      "activation_14 (Activation)   (None, 5, 40, 40, 64)     0         \n",
      "_________________________________________________________________\n",
      "batch_normalization_20 (Batc (None, 5, 40, 40, 64)     256       \n",
      "_________________________________________________________________\n",
      "max_pooling3d_14 (MaxPooling (None, 2, 20, 20, 64)     0         \n",
      "_________________________________________________________________\n",
      "conv3d_15 (Conv3D)           (None, 2, 20, 20, 128)    221312    \n",
      "_________________________________________________________________\n",
      "activation_15 (Activation)   (None, 2, 20, 20, 128)    0         \n",
      "_________________________________________________________________\n",
      "batch_normalization_21 (Batc (None, 2, 20, 20, 128)    512       \n",
      "_________________________________________________________________\n",
      "max_pooling3d_15 (MaxPooling (None, 1, 10, 10, 128)    0         \n",
      "_________________________________________________________________\n",
      "flatten_3 (Flatten)          (None, 12800)             0         \n",
      "_________________________________________________________________\n",
      "dense_9 (Dense)              (None, 256)               3277056   \n",
      "_________________________________________________________________\n",
      "batch_normalization_22 (Batc (None, 256)               1024      \n",
      "_________________________________________________________________\n",
      "dropout_6 (Dropout)          (None, 256)               0         \n",
      "_________________________________________________________________\n",
      "dense_10 (Dense)             (None, 256)               65792     \n",
      "_________________________________________________________________\n",
      "batch_normalization_23 (Batc (None, 256)               1024      \n",
      "_________________________________________________________________\n",
      "dropout_7 (Dropout)          (None, 256)               0         \n",
      "_________________________________________________________________\n",
      "dense_11 (Dense)             (None, 5)                 1285      \n",
      "=================================================================\n",
      "Total params: 3,638,981\n",
      "Trainable params: 3,637,477\n",
      "Non-trainable params: 1,504\n",
      "_________________________________________________________________\n"
     ]
    }
   ],
   "source": [
    "conv_3d8=ModelConv3D8()\n",
    "conv_3d8.initialize_path(project_folder)\n",
    "conv_3d8.initialize_image_properties(image_height=160,image_width=160)\n",
    "conv_3d8.initialize_hyperparams(frames_to_sample=20,batch_size=20,num_epochs=30)\n",
    "conv_3d8_model=conv_3d8.define_model(dense_neurons=256,dropout=0.5)\n",
    "conv_3d8_model.summary()"
   ]
  },
  {
   "cell_type": "code",
   "execution_count": 26,
   "metadata": {
    "scrolled": true
   },
   "outputs": [
    {
     "name": "stdout",
     "output_type": "stream",
     "text": [
      "Total Params: 3638981\n",
      "Epoch 1/30\n",
      "33/34 [============================>.] - ETA: 11s - loss: 2.0583 - categorical_accuracy: 0.3470\n",
      "Epoch 00001: saving model to model_init_2020-12-2811_10_01.729522/model-00001-2.05492-0.34842-2.34308-0.16000.h5\n",
      "34/34 [==============================] - 440s 13s/step - loss: 2.0367 - categorical_accuracy: 0.3561 - val_loss: 2.3431 - val_categorical_accuracy: 0.1600\n",
      "Epoch 2/30\n",
      "33/34 [============================>.] - ETA: 6s - loss: 1.4695 - categorical_accuracy: 0.5061 \n",
      "Epoch 00002: saving model to model_init_2020-12-2811_10_01.729522/model-00002-1.46648-0.50754-4.03282-0.17000.h5\n",
      "34/34 [==============================] - 254s 7s/step - loss: 1.4502 - categorical_accuracy: 0.5155 - val_loss: 4.0328 - val_categorical_accuracy: 0.1700\n",
      "Epoch 3/30\n",
      "33/34 [============================>.] - ETA: 7s - loss: 1.1283 - categorical_accuracy: 0.6045 \n",
      "Epoch 00003: saving model to model_init_2020-12-2811_10_01.729522/model-00003-1.13118-0.60332-5.29660-0.21000.h5\n",
      "34/34 [==============================] - 263s 8s/step - loss: 1.1467 - categorical_accuracy: 0.5968 - val_loss: 5.2966 - val_categorical_accuracy: 0.2100\n",
      "Epoch 4/30\n",
      "33/34 [============================>.] - ETA: 6s - loss: 1.1241 - categorical_accuracy: 0.5955 \n",
      "Epoch 00004: saving model to model_init_2020-12-2811_10_01.729522/model-00004-1.12109-0.59578-7.34569-0.29000.h5\n",
      "34/34 [==============================] - 258s 8s/step - loss: 1.1048 - categorical_accuracy: 0.5975 - val_loss: 7.3457 - val_categorical_accuracy: 0.2900\n",
      "Epoch 5/30\n",
      "33/34 [============================>.] - ETA: 6s - loss: 0.9922 - categorical_accuracy: 0.6515 \n",
      "Epoch 00005: saving model to model_init_2020-12-2811_10_01.729522/model-00005-0.99154-0.65158-6.86074-0.23000.h5\n",
      "\n",
      "Epoch 00005: ReduceLROnPlateau reducing learning rate to 3.9999998989515007e-05.\n",
      "34/34 [==============================] - 260s 8s/step - loss: 0.9882 - categorical_accuracy: 0.6520 - val_loss: 6.8607 - val_categorical_accuracy: 0.2300\n",
      "Epoch 6/30\n",
      "33/34 [============================>.] - ETA: 6s - loss: 0.7726 - categorical_accuracy: 0.7220 \n",
      "Epoch 00006: saving model to model_init_2020-12-2811_10_01.729522/model-00006-0.77452-0.72247-6.85972-0.22000.h5\n",
      "34/34 [==============================] - 258s 8s/step - loss: 0.7848 - categorical_accuracy: 0.7252 - val_loss: 6.8597 - val_categorical_accuracy: 0.2200\n",
      "Epoch 7/30\n",
      "33/34 [============================>.] - ETA: 6s - loss: 0.7421 - categorical_accuracy: 0.7295 \n",
      "Epoch 00007: saving model to model_init_2020-12-2811_10_01.729522/model-00007-0.75314-0.72775-6.60581-0.26000.h5\n",
      "34/34 [==============================] - 257s 8s/step - loss: 0.8122 - categorical_accuracy: 0.7182 - val_loss: 6.6058 - val_categorical_accuracy: 0.2600\n",
      "Epoch 8/30\n",
      "33/34 [============================>.] - ETA: 6s - loss: 0.7461 - categorical_accuracy: 0.7280 \n",
      "Epoch 00008: saving model to model_init_2020-12-2811_10_01.729522/model-00008-0.75167-0.72700-7.44283-0.15000.h5\n",
      "34/34 [==============================] - 258s 8s/step - loss: 0.7812 - categorical_accuracy: 0.7215 - val_loss: 7.4428 - val_categorical_accuracy: 0.1500\n",
      "Epoch 9/30\n",
      "33/34 [============================>.] - ETA: 6s - loss: 0.6963 - categorical_accuracy: 0.7462 \n",
      "Epoch 00009: saving model to model_init_2020-12-2811_10_01.729522/model-00009-0.70141-0.74510-5.92356-0.26000.h5\n",
      "\n",
      "Epoch 00009: ReduceLROnPlateau reducing learning rate to 7.999999797903002e-06.\n",
      "34/34 [==============================] - 254s 7s/step - loss: 0.7287 - categorical_accuracy: 0.7391 - val_loss: 5.9236 - val_categorical_accuracy: 0.2600\n",
      "Epoch 10/30\n",
      "33/34 [============================>.] - ETA: 6s - loss: 0.6474 - categorical_accuracy: 0.7553 \n",
      "Epoch 00010: saving model to model_init_2020-12-2811_10_01.729522/model-00010-0.65035-0.75566-5.09262-0.29000.h5\n",
      "34/34 [==============================] - 258s 8s/step - loss: 0.6659 - categorical_accuracy: 0.7575 - val_loss: 5.0926 - val_categorical_accuracy: 0.2900\n",
      "Epoch 11/30\n",
      "33/34 [============================>.] - ETA: 6s - loss: 0.6471 - categorical_accuracy: 0.7720 \n",
      "Epoch 00011: saving model to model_init_2020-12-2811_10_01.729522/model-00011-0.64767-0.77225-4.32411-0.29000.h5\n",
      "34/34 [==============================] - 256s 8s/step - loss: 0.6506 - categorical_accuracy: 0.7737 - val_loss: 4.3241 - val_categorical_accuracy: 0.2900\n",
      "Epoch 12/30\n",
      "33/34 [============================>.] - ETA: 6s - loss: 0.7093 - categorical_accuracy: 0.7439 \n",
      "Epoch 00012: saving model to model_init_2020-12-2811_10_01.729522/model-00012-0.71300-0.74284-3.60375-0.34000.h5\n",
      "34/34 [==============================] - 255s 8s/step - loss: 0.7330 - categorical_accuracy: 0.7369 - val_loss: 3.6038 - val_categorical_accuracy: 0.3400\n",
      "Epoch 13/30\n",
      "33/34 [============================>.] - ETA: 6s - loss: 0.5937 - categorical_accuracy: 0.7818 \n",
      "Epoch 00013: saving model to model_init_2020-12-2811_10_01.729522/model-00013-0.59822-0.78130-2.71920-0.37000.h5\n",
      "\n",
      "Epoch 00013: ReduceLROnPlateau reducing learning rate to 1.5999999959603884e-06.\n",
      "34/34 [==============================] - 254s 7s/step - loss: 0.6223 - categorical_accuracy: 0.7785 - val_loss: 2.7192 - val_categorical_accuracy: 0.3700\n",
      "Epoch 14/30\n",
      "33/34 [============================>.] - ETA: 6s - loss: 0.6604 - categorical_accuracy: 0.7568 \n",
      "Epoch 00014: saving model to model_init_2020-12-2811_10_01.729522/model-00014-0.66700-0.75566-2.37619-0.37000.h5\n",
      "34/34 [==============================] - 258s 8s/step - loss: 0.7025 - categorical_accuracy: 0.7494 - val_loss: 2.3762 - val_categorical_accuracy: 0.3700\n",
      "Epoch 15/30\n",
      "33/34 [============================>.] - ETA: 6s - loss: 0.6126 - categorical_accuracy: 0.7826 \n",
      "Epoch 00015: saving model to model_init_2020-12-2811_10_01.729522/model-00015-0.61109-0.78356-1.65969-0.54000.h5\n",
      "34/34 [==============================] - 263s 8s/step - loss: 0.6030 - categorical_accuracy: 0.7888 - val_loss: 1.6597 - val_categorical_accuracy: 0.5400\n",
      "Epoch 16/30\n",
      "33/34 [============================>.] - ETA: 7s - loss: 0.5709 - categorical_accuracy: 0.7879 \n",
      "Epoch 00016: saving model to model_init_2020-12-2811_10_01.729522/model-00016-0.57237-0.78808-1.47685-0.57000.h5\n",
      "34/34 [==============================] - 267s 8s/step - loss: 0.5801 - categorical_accuracy: 0.7892 - val_loss: 1.4769 - val_categorical_accuracy: 0.5700\n",
      "Epoch 17/30\n",
      "33/34 [============================>.] - ETA: 7s - loss: 0.5764 - categorical_accuracy: 0.7924 \n",
      "Epoch 00017: saving model to model_init_2020-12-2811_10_01.729522/model-00017-0.57883-0.79186-1.26886-0.60000.h5\n",
      "34/34 [==============================] - 269s 8s/step - loss: 0.5918 - categorical_accuracy: 0.7888 - val_loss: 1.2689 - val_categorical_accuracy: 0.6000\n",
      "Epoch 18/30\n",
      "33/34 [============================>.] - ETA: 7s - loss: 0.6634 - categorical_accuracy: 0.7591 \n",
      "Epoch 00018: saving model to model_init_2020-12-2811_10_01.729522/model-00018-0.67075-0.75716-0.85317-0.76000.h5\n",
      "34/34 [==============================] - 269s 8s/step - loss: 0.7101 - categorical_accuracy: 0.7469 - val_loss: 0.8532 - val_categorical_accuracy: 0.7600\n",
      "Epoch 19/30\n",
      "33/34 [============================>.] - ETA: 7s - loss: 0.5833 - categorical_accuracy: 0.7795 \n",
      "Epoch 00019: saving model to model_init_2020-12-2811_10_01.729522/model-00019-0.58220-0.78054-1.04465-0.69000.h5\n",
      "34/34 [==============================] - 263s 8s/step - loss: 0.5762 - categorical_accuracy: 0.7859 - val_loss: 1.0446 - val_categorical_accuracy: 0.6900\n",
      "Epoch 20/30\n",
      "33/34 [============================>.] - ETA: 6s - loss: 0.6175 - categorical_accuracy: 0.7652 \n",
      "Epoch 00020: saving model to model_init_2020-12-2811_10_01.729522/model-00020-0.62435-0.76395-0.74522-0.74000.h5\n",
      "34/34 [==============================] - 258s 8s/step - loss: 0.6609 - categorical_accuracy: 0.7575 - val_loss: 0.7452 - val_categorical_accuracy: 0.7400\n",
      "Epoch 21/30\n",
      "33/34 [============================>.] - ETA: 6s - loss: 0.6227 - categorical_accuracy: 0.7591 \n",
      "Epoch 00021: saving model to model_init_2020-12-2811_10_01.729522/model-00021-0.62382-0.75867-0.74694-0.78000.h5\n",
      "34/34 [==============================] - 260s 8s/step - loss: 0.6299 - categorical_accuracy: 0.7564 - val_loss: 0.7469 - val_categorical_accuracy: 0.7800\n",
      "Epoch 22/30\n",
      "33/34 [============================>.] - ETA: 7s - loss: 0.6082 - categorical_accuracy: 0.7727 \n",
      "Epoch 00022: saving model to model_init_2020-12-2811_10_01.729522/model-00022-0.61081-0.77225-0.70486-0.79000.h5\n",
      "34/34 [==============================] - 269s 8s/step - loss: 0.6247 - categorical_accuracy: 0.7697 - val_loss: 0.7049 - val_categorical_accuracy: 0.7900\n",
      "Epoch 23/30\n",
      "33/34 [============================>.] - ETA: 7s - loss: 0.6630 - categorical_accuracy: 0.7417 \n",
      "Epoch 00023: saving model to model_init_2020-12-2811_10_01.729522/model-00023-0.66348-0.74133-0.79174-0.75000.h5\n",
      "34/34 [==============================] - 269s 8s/step - loss: 0.6659 - categorical_accuracy: 0.7395 - val_loss: 0.7917 - val_categorical_accuracy: 0.7500\n",
      "Epoch 24/30\n",
      "33/34 [============================>.] - ETA: 7s - loss: 0.6683 - categorical_accuracy: 0.7462 \n",
      "Epoch 00024: saving model to model_init_2020-12-2811_10_01.729522/model-00024-0.67533-0.74510-0.75700-0.75000.h5\n",
      "34/34 [==============================] - 274s 8s/step - loss: 0.7131 - categorical_accuracy: 0.7391 - val_loss: 0.7570 - val_categorical_accuracy: 0.7500\n",
      "Epoch 25/30\n",
      "33/34 [============================>.] - ETA: 7s - loss: 0.6498 - categorical_accuracy: 0.7712 \n",
      "Epoch 00025: saving model to model_init_2020-12-2811_10_01.729522/model-00025-0.66033-0.76848-0.71059-0.77000.h5\n",
      "34/34 [==============================] - 263s 8s/step - loss: 0.7165 - categorical_accuracy: 0.7539 - val_loss: 0.7106 - val_categorical_accuracy: 0.7700\n",
      "Epoch 26/30\n",
      "33/34 [============================>.] - ETA: 7s - loss: 0.6111 - categorical_accuracy: 0.7795 \n",
      "Epoch 00026: saving model to model_init_2020-12-2811_10_01.729522/model-00026-0.61349-0.77903-0.68643-0.76000.h5\n",
      "34/34 [==============================] - 268s 8s/step - loss: 0.6261 - categorical_accuracy: 0.7763 - val_loss: 0.6864 - val_categorical_accuracy: 0.7600\n",
      "Epoch 27/30\n",
      "33/34 [============================>.] - ETA: 7s - loss: 0.6090 - categorical_accuracy: 0.7682 \n",
      "Epoch 00027: saving model to model_init_2020-12-2811_10_01.729522/model-00027-0.61095-0.76621-0.69852-0.75000.h5\n",
      "34/34 [==============================] - 266s 8s/step - loss: 0.6212 - categorical_accuracy: 0.7557 - val_loss: 0.6985 - val_categorical_accuracy: 0.7500\n",
      "Epoch 28/30\n",
      "33/34 [============================>.] - ETA: 7s - loss: 0.6493 - categorical_accuracy: 0.7614 \n",
      "Epoch 00028: saving model to model_init_2020-12-2811_10_01.729522/model-00028-0.65006-0.76094-0.64366-0.78000.h5\n",
      "34/34 [==============================] - 262s 8s/step - loss: 0.6539 - categorical_accuracy: 0.7586 - val_loss: 0.6437 - val_categorical_accuracy: 0.7800\n",
      "Epoch 29/30\n",
      "33/34 [============================>.] - ETA: 6s - loss: 0.5793 - categorical_accuracy: 0.7720 \n",
      "Epoch 00029: saving model to model_init_2020-12-2811_10_01.729522/model-00029-0.58291-0.77149-0.78453-0.75000.h5\n",
      "34/34 [==============================] - 255s 7s/step - loss: 0.6022 - categorical_accuracy: 0.7689 - val_loss: 0.7845 - val_categorical_accuracy: 0.7500\n",
      "Epoch 30/30\n",
      "33/34 [============================>.] - ETA: 6s - loss: 0.6615 - categorical_accuracy: 0.7492 \n",
      "Epoch 00030: saving model to model_init_2020-12-2811_10_01.729522/model-00030-0.66916-0.74736-0.80533-0.74000.h5\n",
      "34/34 [==============================] - 259s 8s/step - loss: 0.7100 - categorical_accuracy: 0.7373 - val_loss: 0.8053 - val_categorical_accuracy: 0.7400\n"
     ]
    }
   ],
   "source": [
    "print(\"Total Params:\", conv_3d8_model.count_params())\n",
    "history_model8=conv_3d8.train_model(conv_3d8_model,augment_data=True)"
   ]
  },
  {
   "cell_type": "code",
   "execution_count": 27,
   "metadata": {},
   "outputs": [
    {
     "data": {
      "image/png": "[encoded data removed]",
      "text/plain": [
       "<Figure size 1080x288 with 2 Axes>"
      ]
     },
     "metadata": {},
     "output_type": "display_data"
    }
   ],
   "source": [
    "plot(history_model8)"
   ]
  },
  {
   "cell_type": "markdown",
   "metadata": {},
   "source": [
    "# Model 9\n",
    "(2,2,2) Filter  & 120x120 Image resolution - similar to Model 3"
   ]
  },
  {
   "cell_type": "code",
   "execution_count": 28,
   "metadata": {},
   "outputs": [],
   "source": [
    "class ModelConv3D9(ModelBuilderMoreAugmentation):\n",
    "    \n",
    "    def define_model(self,filtersize=(3,3,3),dense_neurons=64,dropout=0.25):\n",
    "\n",
    "        model = Sequential()\n",
    "        model.add(Conv3D(16, filtersize, padding='same',\n",
    "                 input_shape=(self.frames_to_sample,self.image_height,self.image_width,self.channels)))\n",
    "        model.add(Activation('relu'))\n",
    "        model.add(BatchNormalization())\n",
    "        model.add(MaxPooling3D(pool_size=(2, 2, 2)))\n",
    "\n",
    "        model.add(Conv3D(32, filtersize, padding='same'))\n",
    "        model.add(Activation('relu'))\n",
    "        model.add(BatchNormalization())\n",
    "        model.add(MaxPooling3D(pool_size=(2, 2, 2)))\n",
    "\n",
    "        model.add(Conv3D(64, filtersize, padding='same'))\n",
    "        model.add(Activation('relu'))\n",
    "        model.add(BatchNormalization())\n",
    "        model.add(MaxPooling3D(pool_size=(2, 2, 2)))\n",
    "\n",
    "        model.add(Conv3D(128, filtersize, padding='same'))\n",
    "        model.add(Activation('relu'))\n",
    "        model.add(BatchNormalization())\n",
    "        model.add(MaxPooling3D(pool_size=(2, 2, 2)))\n",
    "\n",
    "        model.add(Flatten())\n",
    "        model.add(Dense(dense_neurons,activation='relu'))\n",
    "        model.add(BatchNormalization())\n",
    "        model.add(Dropout(dropout))\n",
    "\n",
    "        model.add(Dense(dense_neurons,activation='relu'))\n",
    "        model.add(BatchNormalization())\n",
    "        model.add(Dropout(dropout))\n",
    "\n",
    "\n",
    "        model.add(Dense(self.num_classes,activation='softmax'))\n",
    "\n",
    "        optimiser = optimizers.Adam(lr=0.0002)\n",
    "        model.compile(optimizer=optimiser, loss='categorical_crossentropy', metrics=['categorical_accuracy'])\n",
    "        return model"
   ]
  },
  {
   "cell_type": "code",
   "execution_count": 29,
   "metadata": {
    "scrolled": true
   },
   "outputs": [
    {
     "name": "stdout",
     "output_type": "stream",
     "text": [
      "_________________________________________________________________\n",
      "Layer (type)                 Output Shape              Param #   \n",
      "=================================================================\n",
      "conv3d_16 (Conv3D)           (None, 16, 120, 120, 16)  400       \n",
      "_________________________________________________________________\n",
      "activation_16 (Activation)   (None, 16, 120, 120, 16)  0         \n",
      "_________________________________________________________________\n",
      "batch_normalization_24 (Batc (None, 16, 120, 120, 16)  64        \n",
      "_________________________________________________________________\n",
      "max_pooling3d_16 (MaxPooling (None, 8, 60, 60, 16)     0         \n",
      "_________________________________________________________________\n",
      "conv3d_17 (Conv3D)           (None, 8, 60, 60, 32)     4128      \n",
      "_________________________________________________________________\n",
      "activation_17 (Activation)   (None, 8, 60, 60, 32)     0         \n",
      "_________________________________________________________________\n",
      "batch_normalization_25 (Batc (None, 8, 60, 60, 32)     128       \n",
      "_________________________________________________________________\n",
      "max_pooling3d_17 (MaxPooling (None, 4, 30, 30, 32)     0         \n",
      "_________________________________________________________________\n",
      "conv3d_18 (Conv3D)           (None, 4, 30, 30, 64)     16448     \n",
      "_________________________________________________________________\n",
      "activation_18 (Activation)   (None, 4, 30, 30, 64)     0         \n",
      "_________________________________________________________________\n",
      "batch_normalization_26 (Batc (None, 4, 30, 30, 64)     256       \n",
      "_________________________________________________________________\n",
      "max_pooling3d_18 (MaxPooling (None, 2, 15, 15, 64)     0         \n",
      "_________________________________________________________________\n",
      "conv3d_19 (Conv3D)           (None, 2, 15, 15, 128)    65664     \n",
      "_________________________________________________________________\n",
      "activation_19 (Activation)   (None, 2, 15, 15, 128)    0         \n",
      "_________________________________________________________________\n",
      "batch_normalization_27 (Batc (None, 2, 15, 15, 128)    512       \n",
      "_________________________________________________________________\n",
      "max_pooling3d_19 (MaxPooling (None, 1, 7, 7, 128)      0         \n",
      "_________________________________________________________________\n",
      "flatten_4 (Flatten)          (None, 6272)              0         \n",
      "_________________________________________________________________\n",
      "dense_12 (Dense)             (None, 256)               1605888   \n",
      "_________________________________________________________________\n",
      "batch_normalization_28 (Batc (None, 256)               1024      \n",
      "_________________________________________________________________\n",
      "dropout_8 (Dropout)          (None, 256)               0         \n",
      "_________________________________________________________________\n",
      "dense_13 (Dense)             (None, 256)               65792     \n",
      "_________________________________________________________________\n",
      "batch_normalization_29 (Batc (None, 256)               1024      \n",
      "_________________________________________________________________\n",
      "dropout_9 (Dropout)          (None, 256)               0         \n",
      "_________________________________________________________________\n",
      "dense_14 (Dense)             (None, 5)                 1285      \n",
      "=================================================================\n",
      "Total params: 1,762,613\n",
      "Trainable params: 1,761,109\n",
      "Non-trainable params: 1,504\n",
      "_________________________________________________________________\n"
     ]
    }
   ],
   "source": [
    "conv_3d9=ModelConv3D9()\n",
    "conv_3d9.initialize_path(project_folder)\n",
    "conv_3d9.initialize_image_properties(image_height=120,image_width=120)\n",
    "conv_3d9.initialize_hyperparams(frames_to_sample=16,batch_size=30,num_epochs=30)\n",
    "conv_3d9_model=conv_3d9.define_model(filtersize=(2,2,2),dense_neurons=256,dropout=0.5)\n",
    "conv_3d9_model.summary()"
   ]
  },
  {
   "cell_type": "code",
   "execution_count": 30,
   "metadata": {},
   "outputs": [
    {
     "name": "stdout",
     "output_type": "stream",
     "text": [
      "Total Params: 1762613\n",
      "Epoch 1/30\n",
      "22/23 [===========================>..] - ETA: 9s - loss: 2.2477 - categorical_accuracy: 0.2864 \n",
      "Epoch 00001: saving model to model_init_2020-12-2813_24_01.534298/model-00001-2.24632-0.28658-1.81173-0.21000.h5\n",
      "23/23 [==============================] - 241s 10s/step - loss: 2.2353 - categorical_accuracy: 0.2883 - val_loss: 1.8117 - val_categorical_accuracy: 0.2100\n",
      "Epoch 2/30\n",
      "22/23 [===========================>..] - ETA: 6s - loss: 1.5274 - categorical_accuracy: 0.4742 \n",
      "Epoch 00002: saving model to model_init_2020-12-2813_24_01.534298/model-00002-1.52739-0.47360-2.83961-0.20000.h5\n",
      "23/23 [==============================] - 158s 7s/step - loss: 1.5271 - categorical_accuracy: 0.4683 - val_loss: 2.8396 - val_categorical_accuracy: 0.2000\n",
      "Epoch 3/30\n",
      "22/23 [===========================>..] - ETA: 6s - loss: 1.3291 - categorical_accuracy: 0.5371 \n",
      "Epoch 00003: saving model to model_init_2020-12-2813_24_01.534298/model-00003-1.32534-0.53846-3.61442-0.23000.h5\n",
      "23/23 [==============================] - 168s 7s/step - loss: 1.2940 - categorical_accuracy: 0.5495 - val_loss: 3.6144 - val_categorical_accuracy: 0.2300\n",
      "Epoch 4/30\n",
      "22/23 [===========================>..] - ETA: 6s - loss: 1.2015 - categorical_accuracy: 0.5606 \n",
      "Epoch 00004: saving model to model_init_2020-12-2813_24_01.534298/model-00004-1.20242-0.56109-4.94123-0.23000.h5\n",
      "23/23 [==============================] - 160s 7s/step - loss: 1.2104 - categorical_accuracy: 0.5650 - val_loss: 4.9412 - val_categorical_accuracy: 0.2300\n",
      "Epoch 5/30\n",
      "22/23 [===========================>..] - ETA: 6s - loss: 1.0620 - categorical_accuracy: 0.6311 \n",
      "Epoch 00005: saving model to model_init_2020-12-2813_24_01.534298/model-00005-1.06779-0.62896-6.14356-0.21000.h5\n",
      "\n",
      "Epoch 00005: ReduceLROnPlateau reducing learning rate to 3.9999998989515007e-05.\n",
      "23/23 [==============================] - 165s 7s/step - loss: 1.1153 - categorical_accuracy: 0.6116 - val_loss: 6.1436 - val_categorical_accuracy: 0.2100\n",
      "Epoch 6/30\n",
      "22/23 [===========================>..] - ETA: 6s - loss: 1.0084 - categorical_accuracy: 0.6348 \n",
      "Epoch 00006: saving model to model_init_2020-12-2813_24_01.534298/model-00006-1.00996-0.63348-7.04872-0.19000.h5\n",
      "23/23 [==============================] - 158s 7s/step - loss: 1.0228 - categorical_accuracy: 0.6222 - val_loss: 7.0487 - val_categorical_accuracy: 0.1900\n",
      "Epoch 7/30\n",
      "22/23 [===========================>..] - ETA: 6s - loss: 0.9953 - categorical_accuracy: 0.6447 \n",
      "Epoch 00007: saving model to model_init_2020-12-2813_24_01.534298/model-00007-0.99986-0.64404-6.79485-0.24000.h5\n",
      "23/23 [==============================] - 162s 7s/step - loss: 1.0375 - categorical_accuracy: 0.6386 - val_loss: 6.7948 - val_categorical_accuracy: 0.2400\n",
      "Epoch 8/30\n",
      "22/23 [===========================>..] - ETA: 6s - loss: 0.9699 - categorical_accuracy: 0.6492 \n",
      "Epoch 00008: saving model to model_init_2020-12-2813_24_01.534298/model-00008-0.97677-0.64857-7.85240-0.21000.h5\n",
      "23/23 [==============================] - 158s 7s/step - loss: 1.0337 - categorical_accuracy: 0.6430 - val_loss: 7.8524 - val_categorical_accuracy: 0.2100\n",
      "Epoch 9/30\n",
      "22/23 [===========================>..] - ETA: 6s - loss: 0.8971 - categorical_accuracy: 0.6727 \n",
      "Epoch 00009: saving model to model_init_2020-12-2813_24_01.534298/model-00009-0.89963-0.67195-7.77191-0.21000.h5\n",
      "\n",
      "Epoch 00009: ReduceLROnPlateau reducing learning rate to 7.999999797903002e-06.\n",
      "23/23 [==============================] - 162s 7s/step - loss: 0.9202 - categorical_accuracy: 0.6655 - val_loss: 7.7719 - val_categorical_accuracy: 0.2100\n",
      "Epoch 10/30\n",
      "22/23 [===========================>..] - ETA: 6s - loss: 0.8880 - categorical_accuracy: 0.6530 \n",
      "Epoch 00010: saving model to model_init_2020-12-2813_24_01.534298/model-00010-0.89009-0.65158-7.83606-0.20000.h5\n",
      "23/23 [==============================] - 159s 7s/step - loss: 0.9072 - categorical_accuracy: 0.6396 - val_loss: 7.8361 - val_categorical_accuracy: 0.2000\n",
      "Epoch 11/30\n",
      "22/23 [===========================>..] - ETA: 6s - loss: 0.9525 - categorical_accuracy: 0.6470 \n",
      "Epoch 00011: saving model to model_init_2020-12-2813_24_01.534298/model-00011-0.95505-0.64706-7.78812-0.25000.h5\n",
      "23/23 [==============================] - 163s 7s/step - loss: 0.9762 - categorical_accuracy: 0.6478 - val_loss: 7.7881 - val_categorical_accuracy: 0.2500\n",
      "Epoch 12/30\n",
      "22/23 [===========================>..] - ETA: 6s - loss: 0.9161 - categorical_accuracy: 0.6598 \n",
      "Epoch 00012: saving model to model_init_2020-12-2813_24_01.534298/model-00012-0.91723-0.65988-7.79087-0.22000.h5\n",
      "23/23 [==============================] - 162s 7s/step - loss: 0.9264 - categorical_accuracy: 0.6601 - val_loss: 7.7909 - val_categorical_accuracy: 0.2200\n",
      "Epoch 13/30\n",
      "22/23 [===========================>..] - ETA: 6s - loss: 0.9272 - categorical_accuracy: 0.6583 \n",
      "Epoch 00013: saving model to model_init_2020-12-2813_24_01.534298/model-00013-0.92661-0.65913-7.18019-0.24000.h5\n",
      "\n",
      "Epoch 00013: ReduceLROnPlateau reducing learning rate to 1.5999999959603884e-06.\n",
      "23/23 [==============================] - 169s 7s/step - loss: 0.9221 - categorical_accuracy: 0.6657 - val_loss: 7.1802 - val_categorical_accuracy: 0.2400\n",
      "Epoch 14/30\n",
      "22/23 [===========================>..] - ETA: 6s - loss: 0.8276 - categorical_accuracy: 0.7129 \n",
      "Epoch 00014: saving model to model_init_2020-12-2813_24_01.534298/model-00014-0.82961-0.71192-6.29099-0.26000.h5\n",
      "23/23 [==============================] - 168s 7s/step - loss: 0.8462 - categorical_accuracy: 0.7040 - val_loss: 6.2910 - val_categorical_accuracy: 0.2600\n",
      "Epoch 15/30\n",
      "22/23 [===========================>..] - ETA: 6s - loss: 0.9059 - categorical_accuracy: 0.6636 \n",
      "Epoch 00015: saving model to model_init_2020-12-2813_24_01.534298/model-00015-0.90794-0.66290-6.25971-0.20000.h5\n",
      "23/23 [==============================] - 163s 7s/step - loss: 0.9248 - categorical_accuracy: 0.6568 - val_loss: 6.2597 - val_categorical_accuracy: 0.2000\n",
      "Epoch 16/30\n",
      "22/23 [===========================>..] - ETA: 6s - loss: 0.9303 - categorical_accuracy: 0.6644 \n",
      "Epoch 00016: saving model to model_init_2020-12-2813_24_01.534298/model-00016-0.93230-0.66365-5.27684-0.27000.h5\n",
      "23/23 [==============================] - 166s 7s/step - loss: 0.9489 - categorical_accuracy: 0.6575 - val_loss: 5.2768 - val_categorical_accuracy: 0.2700\n",
      "Epoch 17/30\n",
      "22/23 [===========================>..] - ETA: 6s - loss: 0.8456 - categorical_accuracy: 0.6871 \n",
      "Epoch 00017: saving model to model_init_2020-12-2813_24_01.534298/model-00017-0.85646-0.68552-4.91591-0.24000.h5\n",
      "\n",
      "Epoch 00017: ReduceLROnPlateau reducing learning rate to 3.200000037395512e-07.\n",
      "23/23 [==============================] - 174s 8s/step - loss: 0.9463 - categorical_accuracy: 0.6723 - val_loss: 4.9159 - val_categorical_accuracy: 0.2400\n",
      "Epoch 18/30\n",
      "22/23 [===========================>..] - ETA: 6s - loss: 0.9307 - categorical_accuracy: 0.6644 \n",
      "Epoch 00018: saving model to model_init_2020-12-2813_24_01.534298/model-00018-0.93054-0.66440-4.45059-0.23000.h5\n",
      "23/23 [==============================] - 166s 7s/step - loss: 0.9289 - categorical_accuracy: 0.6645 - val_loss: 4.4506 - val_categorical_accuracy: 0.2300\n",
      "Epoch 19/30\n",
      "22/23 [===========================>..] - ETA: 6s - loss: 0.9133 - categorical_accuracy: 0.6682 \n",
      "Epoch 00019: saving model to model_init_2020-12-2813_24_01.534298/model-00019-0.91318-0.66667-3.99910-0.24000.h5\n",
      "23/23 [==============================] - 168s 7s/step - loss: 0.9119 - categorical_accuracy: 0.6542 - val_loss: 3.9991 - val_categorical_accuracy: 0.2400\n",
      "Epoch 20/30\n",
      "22/23 [===========================>..] - ETA: 6s - loss: 0.8829 - categorical_accuracy: 0.6652 \n",
      "Epoch 00020: saving model to model_init_2020-12-2813_24_01.534298/model-00020-0.88412-0.66516-3.19024-0.33000.h5\n",
      "23/23 [==============================] - 164s 7s/step - loss: 0.8940 - categorical_accuracy: 0.6652 - val_loss: 3.1902 - val_categorical_accuracy: 0.3300\n",
      "Epoch 21/30\n",
      "22/23 [===========================>..] - ETA: 6s - loss: 0.8856 - categorical_accuracy: 0.6727 \n",
      "Epoch 00021: saving model to model_init_2020-12-2813_24_01.534298/model-00021-0.89039-0.67119-3.01690-0.30000.h5\n",
      "\n",
      "Epoch 00021: ReduceLROnPlateau reducing learning rate to 6.399999961104187e-08.\n",
      "23/23 [==============================] - 171s 7s/step - loss: 0.9300 - categorical_accuracy: 0.6585 - val_loss: 3.0169 - val_categorical_accuracy: 0.3000\n"
     ]
    },
    {
     "name": "stdout",
     "output_type": "stream",
     "text": [
      "Epoch 22/30\n",
      "22/23 [===========================>..] - ETA: 6s - loss: 0.8221 - categorical_accuracy: 0.6977 \n",
      "Epoch 00022: saving model to model_init_2020-12-2813_24_01.534298/model-00022-0.82461-0.69759-2.29945-0.36000.h5\n",
      "23/23 [==============================] - 168s 7s/step - loss: 0.8450 - categorical_accuracy: 0.6964 - val_loss: 2.2994 - val_categorical_accuracy: 0.3600\n",
      "Epoch 23/30\n",
      "22/23 [===========================>..] - ETA: 6s - loss: 0.8880 - categorical_accuracy: 0.6727 \n",
      "Epoch 00023: saving model to model_init_2020-12-2813_24_01.534298/model-00023-0.88635-0.67345-2.23350-0.34000.h5\n",
      "23/23 [==============================] - 171s 7s/step - loss: 0.8728 - categorical_accuracy: 0.6794 - val_loss: 2.2335 - val_categorical_accuracy: 0.3400\n",
      "Epoch 24/30\n",
      "22/23 [===========================>..] - ETA: 6s - loss: 0.8890 - categorical_accuracy: 0.6689 \n",
      "Epoch 00024: saving model to model_init_2020-12-2813_24_01.534298/model-00024-0.89104-0.66742-1.87041-0.43000.h5\n",
      "23/23 [==============================] - 162s 7s/step - loss: 0.9076 - categorical_accuracy: 0.6549 - val_loss: 1.8704 - val_categorical_accuracy: 0.4300\n",
      "Epoch 25/30\n",
      "22/23 [===========================>..] - ETA: 6s - loss: 0.8816 - categorical_accuracy: 0.6803 \n",
      "Epoch 00025: saving model to model_init_2020-12-2813_24_01.534298/model-00025-0.89396-0.67873-1.67602-0.48000.h5\n",
      "23/23 [==============================] - 169s 7s/step - loss: 0.9959 - categorical_accuracy: 0.6658 - val_loss: 1.6760 - val_categorical_accuracy: 0.4800\n",
      "Epoch 26/30\n",
      "22/23 [===========================>..] - ETA: 6s - loss: 0.9135 - categorical_accuracy: 0.6591 \n",
      "Epoch 00026: saving model to model_init_2020-12-2813_24_01.534298/model-00026-0.91428-0.65837-1.37977-0.53000.h5\n",
      "23/23 [==============================] - 161s 7s/step - loss: 0.9207 - categorical_accuracy: 0.6524 - val_loss: 1.3798 - val_categorical_accuracy: 0.5300\n",
      "Epoch 27/30\n",
      "22/23 [===========================>..] - ETA: 6s - loss: 0.9037 - categorical_accuracy: 0.6720 \n",
      "Epoch 00027: saving model to model_init_2020-12-2813_24_01.534298/model-00027-0.90620-0.67044-1.11676-0.60000.h5\n",
      "23/23 [==============================] - 162s 7s/step - loss: 0.9266 - categorical_accuracy: 0.6578 - val_loss: 1.1168 - val_categorical_accuracy: 0.6000\n",
      "Epoch 28/30\n",
      "22/23 [===========================>..] - ETA: 6s - loss: 0.8943 - categorical_accuracy: 0.6833 \n",
      "Epoch 00028: saving model to model_init_2020-12-2813_24_01.534298/model-00028-0.89620-0.68326-1.09512-0.64000.h5\n",
      "23/23 [==============================] - 162s 7s/step - loss: 0.9118 - categorical_accuracy: 0.6826 - val_loss: 1.0951 - val_categorical_accuracy: 0.6400\n",
      "Epoch 29/30\n",
      "22/23 [===========================>..] - ETA: 6s - loss: 0.9170 - categorical_accuracy: 0.6742 \n",
      "Epoch 00029: saving model to model_init_2020-12-2813_24_01.534298/model-00029-0.91457-0.67572-1.01737-0.67000.h5\n",
      "23/23 [==============================] - 165s 7s/step - loss: 0.8946 - categorical_accuracy: 0.6879 - val_loss: 1.0174 - val_categorical_accuracy: 0.6700\n",
      "Epoch 30/30\n",
      "22/23 [===========================>..] - ETA: 6s - loss: 0.9053 - categorical_accuracy: 0.6765 \n",
      "Epoch 00030: saving model to model_init_2020-12-2813_24_01.534298/model-00030-0.91098-0.67647-0.91722-0.77000.h5\n",
      "23/23 [==============================] - 165s 7s/step - loss: 0.9577 - categorical_accuracy: 0.6761 - val_loss: 0.9172 - val_categorical_accuracy: 0.7700\n"
     ]
    }
   ],
   "source": [
    "print(\"Total Params:\", conv_3d9_model.count_params())\n",
    "history_model9=conv_3d9.train_model(conv_3d9_model,augment_data=True)"
   ]
  },
  {
   "cell_type": "code",
   "execution_count": 31,
   "metadata": {},
   "outputs": [
    {
     "data": {
      "image/png": "[encoded data removed]",
      "text/plain": [
       "<Figure size 1080x288 with 2 Axes>"
      ]
     },
     "metadata": {},
     "output_type": "display_data"
    }
   ],
   "source": [
    "plot(history_model9)"
   ]
  },
  {
   "cell_type": "markdown",
   "metadata": {},
   "source": [
    "# Model 10\n",
    "CNN LSTM with GRU - Similar to Model 7"
   ]
  },
  {
   "cell_type": "code",
   "execution_count": 38,
   "metadata": {},
   "outputs": [],
   "source": [
    "class RNNCNN2(ModelBuilderMoreAugmentation):\n",
    "    \n",
    "    def define_model(self,lstm_cells=64,dense_neurons=64,dropout=0.25):\n",
    "\n",
    "        model = Sequential()\n",
    "\n",
    "        model.add(TimeDistributed(Conv2D(16, (3, 3) , padding='same', activation='relu'),\n",
    "                                  input_shape=(self.frames_to_sample,self.image_height,self.image_width,self.channels)))\n",
    "        model.add(TimeDistributed(BatchNormalization()))\n",
    "        model.add(TimeDistributed(MaxPooling2D((2, 2))))\n",
    "        \n",
    "        model.add(TimeDistributed(Conv2D(32, (3, 3) , padding='same', activation='relu')))\n",
    "        model.add(TimeDistributed(BatchNormalization()))\n",
    "        model.add(TimeDistributed(MaxPooling2D((2, 2))))\n",
    "        \n",
    "        model.add(TimeDistributed(Conv2D(64, (3, 3) , padding='same', activation='relu')))\n",
    "        model.add(TimeDistributed(BatchNormalization()))\n",
    "        model.add(TimeDistributed(MaxPooling2D((2, 2))))\n",
    "        \n",
    "        model.add(TimeDistributed(Conv2D(128, (3, 3) , padding='same', activation='relu')))\n",
    "        model.add(TimeDistributed(BatchNormalization()))\n",
    "        model.add(TimeDistributed(MaxPooling2D((2, 2))))\n",
    "        \n",
    "\n",
    "        model.add(TimeDistributed(Flatten()))\n",
    "\n",
    "\n",
    "        model.add(GRU(lstm_cells))\n",
    "        model.add(Dropout(dropout))\n",
    "        \n",
    "        model.add(Dense(dense_neurons,activation='relu'))\n",
    "        model.add(Dropout(dropout))\n",
    "        \n",
    "        model.add(Dense(self.num_classes, activation='softmax'))\n",
    "        optimiser = optimizers.Adam(lr=0.0002)\n",
    "        model.compile(optimizer=optimiser, loss='categorical_crossentropy', metrics=['categorical_accuracy'])\n",
    "        return model"
   ]
  },
  {
   "cell_type": "code",
   "execution_count": 39,
   "metadata": {
    "scrolled": true
   },
   "outputs": [
    {
     "name": "stdout",
     "output_type": "stream",
     "text": [
      "_________________________________________________________________\n",
      "Layer (type)                 Output Shape              Param #   \n",
      "=================================================================\n",
      "time_distributed (TimeDistri (None, 18, 120, 120, 16)  448       \n",
      "_________________________________________________________________\n",
      "time_distributed_1 (TimeDist (None, 18, 120, 120, 16)  64        \n",
      "_________________________________________________________________\n",
      "time_distributed_2 (TimeDist (None, 18, 60, 60, 16)    0         \n",
      "_________________________________________________________________\n",
      "time_distributed_3 (TimeDist (None, 18, 60, 60, 32)    4640      \n",
      "_________________________________________________________________\n",
      "time_distributed_4 (TimeDist (None, 18, 60, 60, 32)    128       \n",
      "_________________________________________________________________\n",
      "time_distributed_5 (TimeDist (None, 18, 30, 30, 32)    0         \n",
      "_________________________________________________________________\n",
      "time_distributed_6 (TimeDist (None, 18, 30, 30, 64)    18496     \n",
      "_________________________________________________________________\n",
      "time_distributed_7 (TimeDist (None, 18, 30, 30, 64)    256       \n",
      "_________________________________________________________________\n",
      "time_distributed_8 (TimeDist (None, 18, 15, 15, 64)    0         \n",
      "_________________________________________________________________\n",
      "time_distributed_9 (TimeDist (None, 18, 15, 15, 128)   73856     \n",
      "_________________________________________________________________\n",
      "time_distributed_10 (TimeDis (None, 18, 15, 15, 128)   512       \n",
      "_________________________________________________________________\n",
      "time_distributed_11 (TimeDis (None, 18, 7, 7, 128)     0         \n",
      "_________________________________________________________________\n",
      "time_distributed_12 (TimeDis (None, 18, 6272)          0         \n",
      "_________________________________________________________________\n",
      "gru (GRU)                    (None, 128)               2457984   \n",
      "_________________________________________________________________\n",
      "dropout_12 (Dropout)         (None, 128)               0         \n",
      "_________________________________________________________________\n",
      "dense_18 (Dense)             (None, 128)               16512     \n",
      "_________________________________________________________________\n",
      "dropout_13 (Dropout)         (None, 128)               0         \n",
      "_________________________________________________________________\n",
      "dense_19 (Dense)             (None, 5)                 645       \n",
      "=================================================================\n",
      "Total params: 2,573,541\n",
      "Trainable params: 2,573,061\n",
      "Non-trainable params: 480\n",
      "_________________________________________________________________\n"
     ]
    }
   ],
   "source": [
    "rnn_cnn2=RNNCNN2()\n",
    "rnn_cnn2.initialize_path(project_folder)\n",
    "rnn_cnn2.initialize_image_properties(image_height=120,image_width=120)\n",
    "rnn_cnn2.initialize_hyperparams(frames_to_sample=18,batch_size=20,num_epochs=20)\n",
    "rnn_cnn2_model=rnn_cnn2.define_model(lstm_cells=128,dense_neurons=128,dropout=0.25)\n",
    "rnn_cnn2_model.summary()"
   ]
  },
  {
   "cell_type": "code",
   "execution_count": 40,
   "metadata": {
    "scrolled": true
   },
   "outputs": [
    {
     "name": "stdout",
     "output_type": "stream",
     "text": [
      "Total Params: 2573541\n",
      "Epoch 1/20\n",
      "33/34 [============================>.] - ETA: 6s - loss: 1.5042 - categorical_accuracy: 0.3659 \n",
      "Epoch 00001: saving model to model_init_2020-12-2815_29_25.572726/model-00001-1.50481-0.36576-2.09685-0.21000.h5\n",
      "34/34 [==============================] - 255s 8s/step - loss: 1.5083 - categorical_accuracy: 0.3650 - val_loss: 2.0969 - val_categorical_accuracy: 0.2100\n",
      "Epoch 2/20\n",
      "33/34 [============================>.] - ETA: 4s - loss: 1.0350 - categorical_accuracy: 0.6083\n",
      "Epoch 00002: saving model to model_init_2020-12-2815_29_25.572726/model-00002-1.03844-0.60633-2.88573-0.21000.h5\n",
      "34/34 [==============================] - 178s 5s/step - loss: 1.0568 - categorical_accuracy: 0.5957 - val_loss: 2.8857 - val_categorical_accuracy: 0.2100\n",
      "Epoch 3/20\n",
      "33/34 [============================>.] - ETA: 4s - loss: 0.8776 - categorical_accuracy: 0.6682\n",
      "Epoch 00003: saving model to model_init_2020-12-2815_29_25.572726/model-00003-0.87840-0.66742-3.39717-0.17000.h5\n",
      "34/34 [==============================] - 187s 6s/step - loss: 0.8829 - categorical_accuracy: 0.6634 - val_loss: 3.3972 - val_categorical_accuracy: 0.1700\n",
      "Epoch 4/20\n",
      "33/34 [============================>.] - ETA: 4s - loss: 0.7071 - categorical_accuracy: 0.7364\n",
      "Epoch 00004: saving model to model_init_2020-12-2815_29_25.572726/model-00004-0.70479-0.73756-3.79413-0.24000.h5\n",
      "34/34 [==============================] - 187s 5s/step - loss: 0.6922 - categorical_accuracy: 0.7439 - val_loss: 3.7941 - val_categorical_accuracy: 0.2400\n",
      "Epoch 5/20\n",
      "33/34 [============================>.] - ETA: 4s - loss: 0.6042 - categorical_accuracy: 0.7750\n",
      "Epoch 00005: saving model to model_init_2020-12-2815_29_25.572726/model-00005-0.60322-0.77602-3.74899-0.20000.h5\n",
      "\n",
      "Epoch 00005: ReduceLROnPlateau reducing learning rate to 3.9999998989515007e-05.\n",
      "34/34 [==============================] - 192s 6s/step - loss: 0.5978 - categorical_accuracy: 0.7815 - val_loss: 3.7490 - val_categorical_accuracy: 0.2000\n",
      "Epoch 6/20\n",
      "33/34 [============================>.] - ETA: 4s - loss: 0.4855 - categorical_accuracy: 0.8288\n",
      "Epoch 00006: saving model to model_init_2020-12-2815_29_25.572726/model-00006-0.48452-0.82956-3.53530-0.21000.h5\n",
      "34/34 [==============================] - 187s 5s/step - loss: 0.4793 - categorical_accuracy: 0.8337 - val_loss: 3.5353 - val_categorical_accuracy: 0.2100\n",
      "Epoch 7/20\n",
      "33/34 [============================>.] - ETA: 4s - loss: 0.4082 - categorical_accuracy: 0.8811\n",
      "Epoch 00007: saving model to model_init_2020-12-2815_29_25.572726/model-00007-0.40936-0.88009-3.54740-0.23000.h5\n",
      "34/34 [==============================] - 183s 5s/step - loss: 0.4155 - categorical_accuracy: 0.8749 - val_loss: 3.5474 - val_categorical_accuracy: 0.2300\n",
      "Epoch 8/20\n",
      "33/34 [============================>.] - ETA: 4s - loss: 0.3754 - categorical_accuracy: 0.8788\n",
      "Epoch 00008: saving model to model_init_2020-12-2815_29_25.572726/model-00008-0.37423-0.87934-2.90026-0.33000.h5\n",
      "34/34 [==============================] - 180s 5s/step - loss: 0.3680 - categorical_accuracy: 0.8823 - val_loss: 2.9003 - val_categorical_accuracy: 0.3300\n",
      "Epoch 9/20\n",
      "33/34 [============================>.] - ETA: 4s - loss: 0.3683 - categorical_accuracy: 0.8879\n",
      "Epoch 00009: saving model to model_init_2020-12-2815_29_25.572726/model-00009-0.36821-0.88763-3.34970-0.20000.h5\n",
      "\n",
      "Epoch 00009: ReduceLROnPlateau reducing learning rate to 7.999999797903002e-06.\n",
      "34/34 [==============================] - 183s 5s/step - loss: 0.3680 - categorical_accuracy: 0.8863 - val_loss: 3.3497 - val_categorical_accuracy: 0.2000\n",
      "Epoch 10/20\n",
      "33/34 [============================>.] - ETA: 4s - loss: 0.3378 - categorical_accuracy: 0.8955\n",
      "Epoch 00010: saving model to model_init_2020-12-2815_29_25.572726/model-00010-0.33734-0.89593-2.46331-0.35000.h5\n",
      "34/34 [==============================] - 178s 5s/step - loss: 0.3348 - categorical_accuracy: 0.8985 - val_loss: 2.4633 - val_categorical_accuracy: 0.3500\n",
      "Epoch 11/20\n",
      "33/34 [============================>.] - ETA: 4s - loss: 0.3453 - categorical_accuracy: 0.8970\n",
      "Epoch 00011: saving model to model_init_2020-12-2815_29_25.572726/model-00011-0.34593-0.89593-2.26442-0.33000.h5\n",
      "34/34 [==============================] - 189s 6s/step - loss: 0.3496 - categorical_accuracy: 0.8904 - val_loss: 2.2644 - val_categorical_accuracy: 0.3300\n",
      "Epoch 12/20\n",
      "33/34 [============================>.] - ETA: 4s - loss: 0.3275 - categorical_accuracy: 0.8932\n",
      "Epoch 00012: saving model to model_init_2020-12-2815_29_25.572726/model-00012-0.32732-0.89291-1.91226-0.38000.h5\n",
      "34/34 [==============================] - 186s 5s/step - loss: 0.3262 - categorical_accuracy: 0.8915 - val_loss: 1.9123 - val_categorical_accuracy: 0.3800\n",
      "Epoch 13/20\n",
      "33/34 [============================>.] - ETA: 4s - loss: 0.3468 - categorical_accuracy: 0.8871\n",
      "Epoch 00013: saving model to model_init_2020-12-2815_29_25.572726/model-00013-0.34607-0.88763-1.49400-0.50000.h5\n",
      "34/34 [==============================] - 185s 5s/step - loss: 0.3423 - categorical_accuracy: 0.8904 - val_loss: 1.4940 - val_categorical_accuracy: 0.5000\n",
      "Epoch 14/20\n",
      "33/34 [============================>.] - ETA: 4s - loss: 0.3271 - categorical_accuracy: 0.9114\n",
      "Epoch 00014: saving model to model_init_2020-12-2815_29_25.572726/model-00014-0.32932-0.91101-1.22874-0.58000.h5\n",
      "34/34 [==============================] - 189s 6s/step - loss: 0.3414 - categorical_accuracy: 0.9091 - val_loss: 1.2287 - val_categorical_accuracy: 0.5800\n",
      "Epoch 15/20\n",
      "33/34 [============================>.] - ETA: 4s - loss: 0.3226 - categorical_accuracy: 0.9091\n",
      "Epoch 00015: saving model to model_init_2020-12-2815_29_25.572726/model-00015-0.32436-0.90950-1.03932-0.62000.h5\n",
      "34/34 [==============================] - 191s 6s/step - loss: 0.3339 - categorical_accuracy: 0.9117 - val_loss: 1.0393 - val_categorical_accuracy: 0.6200\n",
      "Epoch 16/20\n",
      "33/34 [============================>.] - ETA: 4s - loss: 0.3097 - categorical_accuracy: 0.9098\n",
      "Epoch 00016: saving model to model_init_2020-12-2815_29_25.572726/model-00016-0.31060-0.90950-0.90847-0.68000.h5\n",
      "34/34 [==============================] - 184s 5s/step - loss: 0.3154 - categorical_accuracy: 0.9077 - val_loss: 0.9085 - val_categorical_accuracy: 0.6800\n",
      "Epoch 17/20\n",
      "33/34 [============================>.] - ETA: 4s - loss: 0.3089 - categorical_accuracy: 0.9038\n",
      "Epoch 00017: saving model to model_init_2020-12-2815_29_25.572726/model-00017-0.31267-0.90271-0.83017-0.67000.h5\n",
      "34/34 [==============================] - 186s 5s/step - loss: 0.3328 - categorical_accuracy: 0.8970 - val_loss: 0.8302 - val_categorical_accuracy: 0.6700\n",
      "Epoch 18/20\n",
      "33/34 [============================>.] - ETA: 5s - loss: 0.3013 - categorical_accuracy: 0.9076 \n",
      "Epoch 00018: saving model to model_init_2020-12-2815_29_25.572726/model-00018-0.30056-0.90799-0.68913-0.72000.h5\n",
      "34/34 [==============================] - 190s 6s/step - loss: 0.2968 - categorical_accuracy: 0.9102 - val_loss: 0.6891 - val_categorical_accuracy: 0.7200\n",
      "Epoch 19/20\n",
      "33/34 [============================>.] - ETA: 4s - loss: 0.2999 - categorical_accuracy: 0.9076\n",
      "Epoch 00019: saving model to model_init_2020-12-2815_29_25.572726/model-00019-0.29979-0.90799-0.67822-0.78000.h5\n",
      "34/34 [==============================] - 186s 5s/step - loss: 0.2995 - categorical_accuracy: 0.9102 - val_loss: 0.6782 - val_categorical_accuracy: 0.7800\n",
      "Epoch 20/20\n",
      "33/34 [============================>.] - ETA: 4s - loss: 0.2947 - categorical_accuracy: 0.9144\n",
      "Epoch 00020: saving model to model_init_2020-12-2815_29_25.572726/model-00020-0.29364-0.91478-0.74149-0.72000.h5\n",
      "34/34 [==============================] - 184s 5s/step - loss: 0.2881 - categorical_accuracy: 0.9169 - val_loss: 0.7415 - val_categorical_accuracy: 0.7200\n"
     ]
    }
   ],
   "source": [
    "print(\"Total Params:\", rnn_cnn2_model.count_params())\n",
    "history_model13=rnn_cnn2.train_model(rnn_cnn2_model,augment_data=True)"
   ]
  },
  {
   "cell_type": "code",
   "execution_count": 41,
   "metadata": {},
   "outputs": [
    {
     "data": {
      "image/png": "[encoded data removed]",
      "text/plain": [
       "<Figure size 1080x288 with 2 Axes>"
      ]
     },
     "metadata": {},
     "output_type": "display_data"
    }
   ],
   "source": [
    "plot(history_model13)"
   ]
  }
 ],
 "metadata": {
  "kernelspec": {
   "display_name": "Python 3",
   "language": "python",
   "name": "python3"
  },
  "language_info": {
   "codemirror_mode": {
    "name": "ipython",
    "version": 3
   },
   "file_extension": ".py",
   "mimetype": "text/x-python",
   "name": "python",
   "nbconvert_exporter": "python",
   "pygments_lexer": "ipython3",
   "version": "3.6.8"
  }
 },
 "nbformat": 4,
 "nbformat_minor": 2
}
